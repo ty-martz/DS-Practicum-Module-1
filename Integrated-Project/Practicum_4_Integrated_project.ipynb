{
 "cells": [
  {
   "cell_type": "markdown",
   "metadata": {},
   "source": [
    "# Integrated Project 1: Ice Video Game Data"
   ]
  },
  {
   "cell_type": "code",
   "execution_count": 1,
   "metadata": {},
   "outputs": [],
   "source": [
    "import numpy as np\n",
    "import pandas as pd\n",
    "from matplotlib import pyplot as plt\n",
    "from math import factorial\n",
    "from scipy import stats as st\n",
    "from scipy.stats import norm\n",
    "import math as mt"
   ]
  },
  {
   "cell_type": "markdown",
   "metadata": {},
   "source": [
    "## Step 1: Open and view the data"
   ]
  },
  {
   "cell_type": "code",
   "execution_count": 2,
   "metadata": {},
   "outputs": [],
   "source": [
    "df = pd.read_csv('games.csv')"
   ]
  },
  {
   "cell_type": "code",
   "execution_count": 3,
   "metadata": {},
   "outputs": [
    {
     "data": {
      "text/html": [
       "<div>\n",
       "<style scoped>\n",
       "    .dataframe tbody tr th:only-of-type {\n",
       "        vertical-align: middle;\n",
       "    }\n",
       "\n",
       "    .dataframe tbody tr th {\n",
       "        vertical-align: top;\n",
       "    }\n",
       "\n",
       "    .dataframe thead th {\n",
       "        text-align: right;\n",
       "    }\n",
       "</style>\n",
       "<table border=\"1\" class=\"dataframe\">\n",
       "  <thead>\n",
       "    <tr style=\"text-align: right;\">\n",
       "      <th></th>\n",
       "      <th>Name</th>\n",
       "      <th>Platform</th>\n",
       "      <th>Year_of_Release</th>\n",
       "      <th>Genre</th>\n",
       "      <th>NA_sales</th>\n",
       "      <th>EU_sales</th>\n",
       "      <th>JP_sales</th>\n",
       "      <th>Other_sales</th>\n",
       "      <th>Critic_Score</th>\n",
       "      <th>User_Score</th>\n",
       "      <th>Rating</th>\n",
       "    </tr>\n",
       "  </thead>\n",
       "  <tbody>\n",
       "    <tr>\n",
       "      <th>0</th>\n",
       "      <td>Wii Sports</td>\n",
       "      <td>Wii</td>\n",
       "      <td>2006.0</td>\n",
       "      <td>Sports</td>\n",
       "      <td>41.36</td>\n",
       "      <td>28.96</td>\n",
       "      <td>3.77</td>\n",
       "      <td>8.45</td>\n",
       "      <td>76.0</td>\n",
       "      <td>8</td>\n",
       "      <td>E</td>\n",
       "    </tr>\n",
       "    <tr>\n",
       "      <th>1</th>\n",
       "      <td>Super Mario Bros.</td>\n",
       "      <td>NES</td>\n",
       "      <td>1985.0</td>\n",
       "      <td>Platform</td>\n",
       "      <td>29.08</td>\n",
       "      <td>3.58</td>\n",
       "      <td>6.81</td>\n",
       "      <td>0.77</td>\n",
       "      <td>NaN</td>\n",
       "      <td>NaN</td>\n",
       "      <td>NaN</td>\n",
       "    </tr>\n",
       "    <tr>\n",
       "      <th>2</th>\n",
       "      <td>Mario Kart Wii</td>\n",
       "      <td>Wii</td>\n",
       "      <td>2008.0</td>\n",
       "      <td>Racing</td>\n",
       "      <td>15.68</td>\n",
       "      <td>12.76</td>\n",
       "      <td>3.79</td>\n",
       "      <td>3.29</td>\n",
       "      <td>82.0</td>\n",
       "      <td>8.3</td>\n",
       "      <td>E</td>\n",
       "    </tr>\n",
       "    <tr>\n",
       "      <th>3</th>\n",
       "      <td>Wii Sports Resort</td>\n",
       "      <td>Wii</td>\n",
       "      <td>2009.0</td>\n",
       "      <td>Sports</td>\n",
       "      <td>15.61</td>\n",
       "      <td>10.93</td>\n",
       "      <td>3.28</td>\n",
       "      <td>2.95</td>\n",
       "      <td>80.0</td>\n",
       "      <td>8</td>\n",
       "      <td>E</td>\n",
       "    </tr>\n",
       "    <tr>\n",
       "      <th>4</th>\n",
       "      <td>Pokemon Red/Pokemon Blue</td>\n",
       "      <td>GB</td>\n",
       "      <td>1996.0</td>\n",
       "      <td>Role-Playing</td>\n",
       "      <td>11.27</td>\n",
       "      <td>8.89</td>\n",
       "      <td>10.22</td>\n",
       "      <td>1.00</td>\n",
       "      <td>NaN</td>\n",
       "      <td>NaN</td>\n",
       "      <td>NaN</td>\n",
       "    </tr>\n",
       "  </tbody>\n",
       "</table>\n",
       "</div>"
      ],
      "text/plain": [
       "                       Name Platform  Year_of_Release         Genre  NA_sales  \\\n",
       "0                Wii Sports      Wii           2006.0        Sports     41.36   \n",
       "1         Super Mario Bros.      NES           1985.0      Platform     29.08   \n",
       "2            Mario Kart Wii      Wii           2008.0        Racing     15.68   \n",
       "3         Wii Sports Resort      Wii           2009.0        Sports     15.61   \n",
       "4  Pokemon Red/Pokemon Blue       GB           1996.0  Role-Playing     11.27   \n",
       "\n",
       "   EU_sales  JP_sales  Other_sales  Critic_Score User_Score Rating  \n",
       "0     28.96      3.77         8.45          76.0          8      E  \n",
       "1      3.58      6.81         0.77           NaN        NaN    NaN  \n",
       "2     12.76      3.79         3.29          82.0        8.3      E  \n",
       "3     10.93      3.28         2.95          80.0          8      E  \n",
       "4      8.89     10.22         1.00           NaN        NaN    NaN  "
      ]
     },
     "execution_count": 3,
     "metadata": {},
     "output_type": "execute_result"
    }
   ],
   "source": [
    "df.head(5)"
   ]
  },
  {
   "cell_type": "code",
   "execution_count": 4,
   "metadata": {},
   "outputs": [
    {
     "name": "stdout",
     "output_type": "stream",
     "text": [
      "<class 'pandas.core.frame.DataFrame'>\n",
      "RangeIndex: 16715 entries, 0 to 16714\n",
      "Data columns (total 11 columns):\n",
      " #   Column           Non-Null Count  Dtype  \n",
      "---  ------           --------------  -----  \n",
      " 0   Name             16713 non-null  object \n",
      " 1   Platform         16715 non-null  object \n",
      " 2   Year_of_Release  16446 non-null  float64\n",
      " 3   Genre            16713 non-null  object \n",
      " 4   NA_sales         16715 non-null  float64\n",
      " 5   EU_sales         16715 non-null  float64\n",
      " 6   JP_sales         16715 non-null  float64\n",
      " 7   Other_sales      16715 non-null  float64\n",
      " 8   Critic_Score     8137 non-null   float64\n",
      " 9   User_Score       10014 non-null  object \n",
      " 10  Rating           9949 non-null   object \n",
      "dtypes: float64(6), object(5)\n",
      "memory usage: 1.4+ MB\n"
     ]
    }
   ],
   "source": [
    "df.info()"
   ]
  },
  {
   "cell_type": "markdown",
   "metadata": {},
   "source": [
    "Based on the intial scan of the data, it looks like we have a few columns with null values that need to be dealt with as well as some column types that should be converted. Otherwise, seems like a relatively easy to understand dataset and it only has 11 columns, which should not be too hard to deal with."
   ]
  },
  {
   "cell_type": "markdown",
   "metadata": {},
   "source": [
    "## Step 2: Prepare the Data"
   ]
  },
  {
   "cell_type": "markdown",
   "metadata": {},
   "source": [
    "- Replace the column names (make them lowercase)."
   ]
  },
  {
   "cell_type": "code",
   "execution_count": 5,
   "metadata": {},
   "outputs": [],
   "source": [
    "df.columns = ['name', 'platform', 'year', 'genre', 'na_sales', 'eu_sales', 'jp_sales', 'other_sales', 'critic_score', 'user_score', 'rating']"
   ]
  },
  {
   "cell_type": "code",
   "execution_count": 6,
   "metadata": {},
   "outputs": [
    {
     "data": {
      "text/plain": [
       "Index(['name', 'platform', 'year', 'genre', 'na_sales', 'eu_sales', 'jp_sales',\n",
       "       'other_sales', 'critic_score', 'user_score', 'rating'],\n",
       "      dtype='object')"
      ]
     },
     "execution_count": 6,
     "metadata": {},
     "output_type": "execute_result"
    }
   ],
   "source": [
    "df.columns"
   ]
  },
  {
   "cell_type": "markdown",
   "metadata": {},
   "source": [
    "#### Decide how to deal with missing values:\n",
    "    - Explain why you filled in the missing values as you did or why you decided to leave them blank.\n",
    "    - Why do you think the values are missing? Give possible reasons.\n",
    "    - Pay attention to the abbreviation TBD (to be determined). Specify how you intend to handle such cases."
   ]
  },
  {
   "cell_type": "code",
   "execution_count": 7,
   "metadata": {},
   "outputs": [
    {
     "data": {
      "text/plain": [
       "name               2\n",
       "platform           0\n",
       "year             269\n",
       "genre              2\n",
       "na_sales           0\n",
       "eu_sales           0\n",
       "jp_sales           0\n",
       "other_sales        0\n",
       "critic_score    8578\n",
       "user_score      6701\n",
       "rating          6766\n",
       "dtype: int64"
      ]
     },
     "execution_count": 7,
     "metadata": {},
     "output_type": "execute_result"
    }
   ],
   "source": [
    "df.isna().sum()"
   ]
  },
  {
   "cell_type": "markdown",
   "metadata": {},
   "source": [
    "- name/genre: filter out the 2 rows without a name/genre for the game, this removes the 2 null genres as well. I am comfortable removing them because it is just 2 values\n",
    "- year: Convert null years to 0. Then be aware that the year is not reported in the data.\n",
    "- critic_score: Convert null scores to 0. Then be aware that the game's critic score is not reported in the data\n",
    "- user_score: Convert null scores to 0. Then be aware that the game's user score is not reported in the data\n",
    "- rating: filling the null values here with 'No Rating' so I know that there is no reported rating here\n",
    "- Converting to 0s and non-values will be useful in order to use the rest of the important data in each of these null rows, I can filter the 0s out when working with these specific values/columns."
   ]
  },
  {
   "cell_type": "code",
   "execution_count": 8,
   "metadata": {},
   "outputs": [],
   "source": [
    "df = df[df['name'].notnull()]\n",
    "\n",
    "df[['year', 'critic_score', 'user_score']] = df[['year', 'critic_score', 'user_score']].fillna(0)\n",
    "\n",
    "df['rating'] = df['rating'].fillna('No Rating')"
   ]
  },
  {
   "cell_type": "markdown",
   "metadata": {},
   "source": [
    "Creating a 'decade' column to split years into groups based on decade and also include those with unknown years"
   ]
  },
  {
   "cell_type": "code",
   "execution_count": 9,
   "metadata": {},
   "outputs": [
    {
     "data": {
      "text/html": [
       "<div>\n",
       "<style scoped>\n",
       "    .dataframe tbody tr th:only-of-type {\n",
       "        vertical-align: middle;\n",
       "    }\n",
       "\n",
       "    .dataframe tbody tr th {\n",
       "        vertical-align: top;\n",
       "    }\n",
       "\n",
       "    .dataframe thead th {\n",
       "        text-align: right;\n",
       "    }\n",
       "</style>\n",
       "<table border=\"1\" class=\"dataframe\">\n",
       "  <thead>\n",
       "    <tr style=\"text-align: right;\">\n",
       "      <th></th>\n",
       "      <th>name</th>\n",
       "      <th>platform</th>\n",
       "      <th>year</th>\n",
       "      <th>genre</th>\n",
       "      <th>na_sales</th>\n",
       "      <th>eu_sales</th>\n",
       "      <th>jp_sales</th>\n",
       "      <th>other_sales</th>\n",
       "      <th>critic_score</th>\n",
       "      <th>user_score</th>\n",
       "      <th>rating</th>\n",
       "      <th>decade</th>\n",
       "    </tr>\n",
       "  </thead>\n",
       "  <tbody>\n",
       "    <tr>\n",
       "      <th>0</th>\n",
       "      <td>Wii Sports</td>\n",
       "      <td>Wii</td>\n",
       "      <td>2006.0</td>\n",
       "      <td>Sports</td>\n",
       "      <td>41.36</td>\n",
       "      <td>28.96</td>\n",
       "      <td>3.77</td>\n",
       "      <td>8.45</td>\n",
       "      <td>76.0</td>\n",
       "      <td>8</td>\n",
       "      <td>E</td>\n",
       "      <td>00s</td>\n",
       "    </tr>\n",
       "    <tr>\n",
       "      <th>1</th>\n",
       "      <td>Super Mario Bros.</td>\n",
       "      <td>NES</td>\n",
       "      <td>1985.0</td>\n",
       "      <td>Platform</td>\n",
       "      <td>29.08</td>\n",
       "      <td>3.58</td>\n",
       "      <td>6.81</td>\n",
       "      <td>0.77</td>\n",
       "      <td>0.0</td>\n",
       "      <td>0</td>\n",
       "      <td>No Rating</td>\n",
       "      <td>80s</td>\n",
       "    </tr>\n",
       "    <tr>\n",
       "      <th>2</th>\n",
       "      <td>Mario Kart Wii</td>\n",
       "      <td>Wii</td>\n",
       "      <td>2008.0</td>\n",
       "      <td>Racing</td>\n",
       "      <td>15.68</td>\n",
       "      <td>12.76</td>\n",
       "      <td>3.79</td>\n",
       "      <td>3.29</td>\n",
       "      <td>82.0</td>\n",
       "      <td>8.3</td>\n",
       "      <td>E</td>\n",
       "      <td>00s</td>\n",
       "    </tr>\n",
       "    <tr>\n",
       "      <th>3</th>\n",
       "      <td>Wii Sports Resort</td>\n",
       "      <td>Wii</td>\n",
       "      <td>2009.0</td>\n",
       "      <td>Sports</td>\n",
       "      <td>15.61</td>\n",
       "      <td>10.93</td>\n",
       "      <td>3.28</td>\n",
       "      <td>2.95</td>\n",
       "      <td>80.0</td>\n",
       "      <td>8</td>\n",
       "      <td>E</td>\n",
       "      <td>00s</td>\n",
       "    </tr>\n",
       "    <tr>\n",
       "      <th>4</th>\n",
       "      <td>Pokemon Red/Pokemon Blue</td>\n",
       "      <td>GB</td>\n",
       "      <td>1996.0</td>\n",
       "      <td>Role-Playing</td>\n",
       "      <td>11.27</td>\n",
       "      <td>8.89</td>\n",
       "      <td>10.22</td>\n",
       "      <td>1.00</td>\n",
       "      <td>0.0</td>\n",
       "      <td>0</td>\n",
       "      <td>No Rating</td>\n",
       "      <td>90s</td>\n",
       "    </tr>\n",
       "  </tbody>\n",
       "</table>\n",
       "</div>"
      ],
      "text/plain": [
       "                       name platform    year         genre  na_sales  \\\n",
       "0                Wii Sports      Wii  2006.0        Sports     41.36   \n",
       "1         Super Mario Bros.      NES  1985.0      Platform     29.08   \n",
       "2            Mario Kart Wii      Wii  2008.0        Racing     15.68   \n",
       "3         Wii Sports Resort      Wii  2009.0        Sports     15.61   \n",
       "4  Pokemon Red/Pokemon Blue       GB  1996.0  Role-Playing     11.27   \n",
       "\n",
       "   eu_sales  jp_sales  other_sales  critic_score user_score     rating decade  \n",
       "0     28.96      3.77         8.45          76.0          8          E    00s  \n",
       "1      3.58      6.81         0.77           0.0          0  No Rating    80s  \n",
       "2     12.76      3.79         3.29          82.0        8.3          E    00s  \n",
       "3     10.93      3.28         2.95          80.0          8          E    00s  \n",
       "4      8.89     10.22         1.00           0.0          0  No Rating    90s  "
      ]
     },
     "execution_count": 9,
     "metadata": {},
     "output_type": "execute_result"
    }
   ],
   "source": [
    "def group_to_decade(year):\n",
    "    if 1980 <= year <=1989:\n",
    "        return '80s'\n",
    "    elif 1990 <= year <= 1999:\n",
    "        return '90s'\n",
    "    elif 2000 <= year <= 2009:\n",
    "        return '00s'\n",
    "    elif 2010 <= year <= 2020:\n",
    "        return '10s'\n",
    "    else:\n",
    "        return 'unknown'\n",
    "    \n",
    "df['decade'] = df['year'].apply(group_to_decade)\n",
    "df.head()"
   ]
  },
  {
   "cell_type": "markdown",
   "metadata": {},
   "source": [
    "Handling the 'tbd' in the user_score column by converting the values to 0.01. This way I know the value of those that have yet to be scored."
   ]
  },
  {
   "cell_type": "code",
   "execution_count": 10,
   "metadata": {},
   "outputs": [],
   "source": [
    "df['user_score'] = df['user_score'].replace('tbd', 0.01)"
   ]
  },
  {
   "cell_type": "code",
   "execution_count": 11,
   "metadata": {},
   "outputs": [
    {
     "data": {
      "text/plain": [
       "name            0\n",
       "platform        0\n",
       "year            0\n",
       "genre           0\n",
       "na_sales        0\n",
       "eu_sales        0\n",
       "jp_sales        0\n",
       "other_sales     0\n",
       "critic_score    0\n",
       "user_score      0\n",
       "rating          0\n",
       "decade          0\n",
       "dtype: int64"
      ]
     },
     "execution_count": 11,
     "metadata": {},
     "output_type": "execute_result"
    }
   ],
   "source": [
    "df.isna().sum()"
   ]
  },
  {
   "cell_type": "code",
   "execution_count": 12,
   "metadata": {},
   "outputs": [
    {
     "data": {
      "text/html": [
       "<div>\n",
       "<style scoped>\n",
       "    .dataframe tbody tr th:only-of-type {\n",
       "        vertical-align: middle;\n",
       "    }\n",
       "\n",
       "    .dataframe tbody tr th {\n",
       "        vertical-align: top;\n",
       "    }\n",
       "\n",
       "    .dataframe thead th {\n",
       "        text-align: right;\n",
       "    }\n",
       "</style>\n",
       "<table border=\"1\" class=\"dataframe\">\n",
       "  <thead>\n",
       "    <tr style=\"text-align: right;\">\n",
       "      <th></th>\n",
       "      <th>name</th>\n",
       "      <th>platform</th>\n",
       "      <th>year</th>\n",
       "      <th>genre</th>\n",
       "      <th>na_sales</th>\n",
       "      <th>eu_sales</th>\n",
       "      <th>jp_sales</th>\n",
       "      <th>other_sales</th>\n",
       "      <th>critic_score</th>\n",
       "      <th>user_score</th>\n",
       "      <th>rating</th>\n",
       "      <th>decade</th>\n",
       "    </tr>\n",
       "  </thead>\n",
       "  <tbody>\n",
       "    <tr>\n",
       "      <th>0</th>\n",
       "      <td>Wii Sports</td>\n",
       "      <td>Wii</td>\n",
       "      <td>2006.0</td>\n",
       "      <td>Sports</td>\n",
       "      <td>41.36</td>\n",
       "      <td>28.96</td>\n",
       "      <td>3.77</td>\n",
       "      <td>8.45</td>\n",
       "      <td>76.0</td>\n",
       "      <td>8</td>\n",
       "      <td>E</td>\n",
       "      <td>00s</td>\n",
       "    </tr>\n",
       "    <tr>\n",
       "      <th>1</th>\n",
       "      <td>Super Mario Bros.</td>\n",
       "      <td>NES</td>\n",
       "      <td>1985.0</td>\n",
       "      <td>Platform</td>\n",
       "      <td>29.08</td>\n",
       "      <td>3.58</td>\n",
       "      <td>6.81</td>\n",
       "      <td>0.77</td>\n",
       "      <td>0.0</td>\n",
       "      <td>0</td>\n",
       "      <td>No Rating</td>\n",
       "      <td>80s</td>\n",
       "    </tr>\n",
       "    <tr>\n",
       "      <th>2</th>\n",
       "      <td>Mario Kart Wii</td>\n",
       "      <td>Wii</td>\n",
       "      <td>2008.0</td>\n",
       "      <td>Racing</td>\n",
       "      <td>15.68</td>\n",
       "      <td>12.76</td>\n",
       "      <td>3.79</td>\n",
       "      <td>3.29</td>\n",
       "      <td>82.0</td>\n",
       "      <td>8.3</td>\n",
       "      <td>E</td>\n",
       "      <td>00s</td>\n",
       "    </tr>\n",
       "    <tr>\n",
       "      <th>3</th>\n",
       "      <td>Wii Sports Resort</td>\n",
       "      <td>Wii</td>\n",
       "      <td>2009.0</td>\n",
       "      <td>Sports</td>\n",
       "      <td>15.61</td>\n",
       "      <td>10.93</td>\n",
       "      <td>3.28</td>\n",
       "      <td>2.95</td>\n",
       "      <td>80.0</td>\n",
       "      <td>8</td>\n",
       "      <td>E</td>\n",
       "      <td>00s</td>\n",
       "    </tr>\n",
       "    <tr>\n",
       "      <th>4</th>\n",
       "      <td>Pokemon Red/Pokemon Blue</td>\n",
       "      <td>GB</td>\n",
       "      <td>1996.0</td>\n",
       "      <td>Role-Playing</td>\n",
       "      <td>11.27</td>\n",
       "      <td>8.89</td>\n",
       "      <td>10.22</td>\n",
       "      <td>1.00</td>\n",
       "      <td>0.0</td>\n",
       "      <td>0</td>\n",
       "      <td>No Rating</td>\n",
       "      <td>90s</td>\n",
       "    </tr>\n",
       "  </tbody>\n",
       "</table>\n",
       "</div>"
      ],
      "text/plain": [
       "                       name platform    year         genre  na_sales  \\\n",
       "0                Wii Sports      Wii  2006.0        Sports     41.36   \n",
       "1         Super Mario Bros.      NES  1985.0      Platform     29.08   \n",
       "2            Mario Kart Wii      Wii  2008.0        Racing     15.68   \n",
       "3         Wii Sports Resort      Wii  2009.0        Sports     15.61   \n",
       "4  Pokemon Red/Pokemon Blue       GB  1996.0  Role-Playing     11.27   \n",
       "\n",
       "   eu_sales  jp_sales  other_sales  critic_score user_score     rating decade  \n",
       "0     28.96      3.77         8.45          76.0          8          E    00s  \n",
       "1      3.58      6.81         0.77           0.0          0  No Rating    80s  \n",
       "2     12.76      3.79         3.29          82.0        8.3          E    00s  \n",
       "3     10.93      3.28         2.95          80.0          8          E    00s  \n",
       "4      8.89     10.22         1.00           0.0          0  No Rating    90s  "
      ]
     },
     "execution_count": 12,
     "metadata": {},
     "output_type": "execute_result"
    }
   ],
   "source": [
    "df.head()"
   ]
  },
  {
   "cell_type": "markdown",
   "metadata": {},
   "source": [
    "#### Convert the data to the required types.\n",
    "    - year --> int. No need to have decimals for a year datapoint\n",
    "    - user_score --> float. Was classified as object before due to 'tbd' values. Now the float can be used in calculations"
   ]
  },
  {
   "cell_type": "code",
   "execution_count": 13,
   "metadata": {},
   "outputs": [],
   "source": [
    "df['user_score'] = df['user_score'].astype(float)\n",
    "df['year'] = df['year'].astype(int)"
   ]
  },
  {
   "cell_type": "code",
   "execution_count": 14,
   "metadata": {},
   "outputs": [
    {
     "data": {
      "text/html": [
       "<div>\n",
       "<style scoped>\n",
       "    .dataframe tbody tr th:only-of-type {\n",
       "        vertical-align: middle;\n",
       "    }\n",
       "\n",
       "    .dataframe tbody tr th {\n",
       "        vertical-align: top;\n",
       "    }\n",
       "\n",
       "    .dataframe thead th {\n",
       "        text-align: right;\n",
       "    }\n",
       "</style>\n",
       "<table border=\"1\" class=\"dataframe\">\n",
       "  <thead>\n",
       "    <tr style=\"text-align: right;\">\n",
       "      <th></th>\n",
       "      <th>name</th>\n",
       "      <th>platform</th>\n",
       "      <th>year</th>\n",
       "      <th>genre</th>\n",
       "      <th>na_sales</th>\n",
       "      <th>eu_sales</th>\n",
       "      <th>jp_sales</th>\n",
       "      <th>other_sales</th>\n",
       "      <th>critic_score</th>\n",
       "      <th>user_score</th>\n",
       "      <th>rating</th>\n",
       "      <th>decade</th>\n",
       "    </tr>\n",
       "  </thead>\n",
       "  <tbody>\n",
       "    <tr>\n",
       "      <th>0</th>\n",
       "      <td>Wii Sports</td>\n",
       "      <td>Wii</td>\n",
       "      <td>2006</td>\n",
       "      <td>Sports</td>\n",
       "      <td>41.36</td>\n",
       "      <td>28.96</td>\n",
       "      <td>3.77</td>\n",
       "      <td>8.45</td>\n",
       "      <td>76.0</td>\n",
       "      <td>8.0</td>\n",
       "      <td>E</td>\n",
       "      <td>00s</td>\n",
       "    </tr>\n",
       "    <tr>\n",
       "      <th>1</th>\n",
       "      <td>Super Mario Bros.</td>\n",
       "      <td>NES</td>\n",
       "      <td>1985</td>\n",
       "      <td>Platform</td>\n",
       "      <td>29.08</td>\n",
       "      <td>3.58</td>\n",
       "      <td>6.81</td>\n",
       "      <td>0.77</td>\n",
       "      <td>0.0</td>\n",
       "      <td>0.0</td>\n",
       "      <td>No Rating</td>\n",
       "      <td>80s</td>\n",
       "    </tr>\n",
       "  </tbody>\n",
       "</table>\n",
       "</div>"
      ],
      "text/plain": [
       "                name platform  year     genre  na_sales  eu_sales  jp_sales  \\\n",
       "0         Wii Sports      Wii  2006    Sports     41.36     28.96      3.77   \n",
       "1  Super Mario Bros.      NES  1985  Platform     29.08      3.58      6.81   \n",
       "\n",
       "   other_sales  critic_score  user_score     rating decade  \n",
       "0         8.45          76.0         8.0          E    00s  \n",
       "1         0.77           0.0         0.0  No Rating    80s  "
      ]
     },
     "execution_count": 14,
     "metadata": {},
     "output_type": "execute_result"
    }
   ],
   "source": [
    "df.head(2)"
   ]
  },
  {
   "cell_type": "code",
   "execution_count": 15,
   "metadata": {},
   "outputs": [
    {
     "name": "stdout",
     "output_type": "stream",
     "text": [
      "<class 'pandas.core.frame.DataFrame'>\n",
      "Int64Index: 16713 entries, 0 to 16714\n",
      "Data columns (total 12 columns):\n",
      " #   Column        Non-Null Count  Dtype  \n",
      "---  ------        --------------  -----  \n",
      " 0   name          16713 non-null  object \n",
      " 1   platform      16713 non-null  object \n",
      " 2   year          16713 non-null  int64  \n",
      " 3   genre         16713 non-null  object \n",
      " 4   na_sales      16713 non-null  float64\n",
      " 5   eu_sales      16713 non-null  float64\n",
      " 6   jp_sales      16713 non-null  float64\n",
      " 7   other_sales   16713 non-null  float64\n",
      " 8   critic_score  16713 non-null  float64\n",
      " 9   user_score    16713 non-null  float64\n",
      " 10  rating        16713 non-null  object \n",
      " 11  decade        16713 non-null  object \n",
      "dtypes: float64(6), int64(1), object(5)\n",
      "memory usage: 1.7+ MB\n"
     ]
    }
   ],
   "source": [
    "df.info()"
   ]
  },
  {
   "cell_type": "markdown",
   "metadata": {},
   "source": [
    "#### Calculate the total sales (the sum of sales in all regions) for each game and put these values in a separate column."
   ]
  },
  {
   "cell_type": "code",
   "execution_count": 16,
   "metadata": {},
   "outputs": [
    {
     "data": {
      "text/html": [
       "<div>\n",
       "<style scoped>\n",
       "    .dataframe tbody tr th:only-of-type {\n",
       "        vertical-align: middle;\n",
       "    }\n",
       "\n",
       "    .dataframe tbody tr th {\n",
       "        vertical-align: top;\n",
       "    }\n",
       "\n",
       "    .dataframe thead th {\n",
       "        text-align: right;\n",
       "    }\n",
       "</style>\n",
       "<table border=\"1\" class=\"dataframe\">\n",
       "  <thead>\n",
       "    <tr style=\"text-align: right;\">\n",
       "      <th></th>\n",
       "      <th>na_sales</th>\n",
       "      <th>eu_sales</th>\n",
       "      <th>jp_sales</th>\n",
       "      <th>total_sales</th>\n",
       "    </tr>\n",
       "  </thead>\n",
       "  <tbody>\n",
       "    <tr>\n",
       "      <th>0</th>\n",
       "      <td>41.36</td>\n",
       "      <td>28.96</td>\n",
       "      <td>3.77</td>\n",
       "      <td>74.09</td>\n",
       "    </tr>\n",
       "    <tr>\n",
       "      <th>1</th>\n",
       "      <td>29.08</td>\n",
       "      <td>3.58</td>\n",
       "      <td>6.81</td>\n",
       "      <td>39.47</td>\n",
       "    </tr>\n",
       "    <tr>\n",
       "      <th>2</th>\n",
       "      <td>15.68</td>\n",
       "      <td>12.76</td>\n",
       "      <td>3.79</td>\n",
       "      <td>32.23</td>\n",
       "    </tr>\n",
       "    <tr>\n",
       "      <th>3</th>\n",
       "      <td>15.61</td>\n",
       "      <td>10.93</td>\n",
       "      <td>3.28</td>\n",
       "      <td>29.82</td>\n",
       "    </tr>\n",
       "    <tr>\n",
       "      <th>4</th>\n",
       "      <td>11.27</td>\n",
       "      <td>8.89</td>\n",
       "      <td>10.22</td>\n",
       "      <td>30.38</td>\n",
       "    </tr>\n",
       "  </tbody>\n",
       "</table>\n",
       "</div>"
      ],
      "text/plain": [
       "   na_sales  eu_sales  jp_sales  total_sales\n",
       "0     41.36     28.96      3.77        74.09\n",
       "1     29.08      3.58      6.81        39.47\n",
       "2     15.68     12.76      3.79        32.23\n",
       "3     15.61     10.93      3.28        29.82\n",
       "4     11.27      8.89     10.22        30.38"
      ]
     },
     "execution_count": 16,
     "metadata": {},
     "output_type": "execute_result"
    }
   ],
   "source": [
    "df['total_sales'] = df[['na_sales', 'eu_sales', 'jp_sales']].sum(axis=1)\n",
    "df[['na_sales', 'eu_sales', 'jp_sales', 'total_sales']].head()"
   ]
  },
  {
   "cell_type": "markdown",
   "metadata": {},
   "source": [
    "## Step 3: Analyze the Data"
   ]
  },
  {
   "cell_type": "markdown",
   "metadata": {},
   "source": [
    "#### Look at how many games were released in different years. Is the data for every period significant?"
   ]
  },
  {
   "cell_type": "code",
   "execution_count": 17,
   "metadata": {},
   "outputs": [
    {
     "data": {
      "text/plain": [
       "count    16444.000000\n",
       "mean      2006.486256\n",
       "std          5.875525\n",
       "min       1980.000000\n",
       "25%       2003.000000\n",
       "50%       2007.000000\n",
       "75%       2010.000000\n",
       "max       2016.000000\n",
       "Name: year, dtype: float64"
      ]
     },
     "execution_count": 17,
     "metadata": {},
     "output_type": "execute_result"
    }
   ],
   "source": [
    "df_known_years = df[df['year'] > 0]\n",
    "df_known_years['year'].describe()"
   ]
  },
  {
   "cell_type": "code",
   "execution_count": 18,
   "metadata": {},
   "outputs": [
    {
     "data": {
      "text/plain": [
       "Text(0, 0.5, 'Games Released')"
      ]
     },
     "execution_count": 18,
     "metadata": {},
     "output_type": "execute_result"
    },
    {
     "data": {
      "image/png": "[encoded data removed]",
      "text/plain": [
       "<Figure size 432x288 with 1 Axes>"
      ]
     },
     "metadata": {
      "needs_background": "light"
     },
     "output_type": "display_data"
    }
   ],
   "source": [
    "df_known_years['year'].hist(bins=37)\n",
    "plt.title('Games Released by Year')\n",
    "plt.xlabel('Year')\n",
    "plt.ylabel('Games Released')"
   ]
  },
  {
   "cell_type": "code",
   "execution_count": 19,
   "metadata": {},
   "outputs": [
    {
     "data": {
      "text/plain": [
       "Text(0, 0.5, 'Games Released')"
      ]
     },
     "execution_count": 19,
     "metadata": {},
     "output_type": "execute_result"
    },
    {
     "data": {
      "image/png": "[encoded data removed]",
      "text/plain": [
       "<Figure size 432x288 with 1 Axes>"
      ]
     },
     "metadata": {
      "needs_background": "light"
     },
     "output_type": "display_data"
    }
   ],
   "source": [
    "df_known_years['year'].hist(bins=37, log=True)\n",
    "plt.title('Games Released by Year')\n",
    "plt.xlabel('Year')\n",
    "plt.ylabel('Games Released')"
   ]
  },
  {
   "cell_type": "code",
   "execution_count": 20,
   "metadata": {},
   "outputs": [
    {
     "data": {
      "text/html": [
       "<div>\n",
       "<style scoped>\n",
       "    .dataframe tbody tr th:only-of-type {\n",
       "        vertical-align: middle;\n",
       "    }\n",
       "\n",
       "    .dataframe tbody tr th {\n",
       "        vertical-align: top;\n",
       "    }\n",
       "\n",
       "    .dataframe thead th {\n",
       "        text-align: right;\n",
       "    }\n",
       "</style>\n",
       "<table border=\"1\" class=\"dataframe\">\n",
       "  <thead>\n",
       "    <tr style=\"text-align: right;\">\n",
       "      <th></th>\n",
       "      <th>num_games</th>\n",
       "    </tr>\n",
       "  </thead>\n",
       "  <tbody>\n",
       "    <tr>\n",
       "      <th>2008</th>\n",
       "      <td>1427</td>\n",
       "    </tr>\n",
       "    <tr>\n",
       "      <th>2009</th>\n",
       "      <td>1426</td>\n",
       "    </tr>\n",
       "    <tr>\n",
       "      <th>2010</th>\n",
       "      <td>1255</td>\n",
       "    </tr>\n",
       "    <tr>\n",
       "      <th>2007</th>\n",
       "      <td>1197</td>\n",
       "    </tr>\n",
       "    <tr>\n",
       "      <th>2011</th>\n",
       "      <td>1136</td>\n",
       "    </tr>\n",
       "    <tr>\n",
       "      <th>2006</th>\n",
       "      <td>1006</td>\n",
       "    </tr>\n",
       "    <tr>\n",
       "      <th>2005</th>\n",
       "      <td>939</td>\n",
       "    </tr>\n",
       "    <tr>\n",
       "      <th>2002</th>\n",
       "      <td>829</td>\n",
       "    </tr>\n",
       "    <tr>\n",
       "      <th>2003</th>\n",
       "      <td>775</td>\n",
       "    </tr>\n",
       "    <tr>\n",
       "      <th>2004</th>\n",
       "      <td>762</td>\n",
       "    </tr>\n",
       "  </tbody>\n",
       "</table>\n",
       "</div>"
      ],
      "text/plain": [
       "      num_games\n",
       "2008       1427\n",
       "2009       1426\n",
       "2010       1255\n",
       "2007       1197\n",
       "2011       1136\n",
       "2006       1006\n",
       "2005        939\n",
       "2002        829\n",
       "2003        775\n",
       "2004        762"
      ]
     },
     "execution_count": 20,
     "metadata": {},
     "output_type": "execute_result"
    }
   ],
   "source": [
    "top_10_release_years = pd.DataFrame(df['year'].value_counts().head(10))\n",
    "top_10_release_years.columns = ['num_games']\n",
    "top_10_release_years"
   ]
  },
  {
   "cell_type": "code",
   "execution_count": 21,
   "metadata": {},
   "outputs": [
    {
     "data": {
      "text/plain": [
       "Text(0, 0.5, 'Games Released')"
      ]
     },
     "execution_count": 21,
     "metadata": {},
     "output_type": "execute_result"
    },
    {
     "data": {
      "image/png": "[encoded data removed]",
      "text/plain": [
       "<Figure size 432x288 with 1 Axes>"
      ]
     },
     "metadata": {
      "needs_background": "light"
     },
     "output_type": "display_data"
    }
   ],
   "source": [
    "df['decade'].hist(bins=9, align='mid', grid=True)\n",
    "plt.title('Games Released each Decade')\n",
    "plt.xlabel('Decade')\n",
    "plt.ylabel('Games Released')"
   ]
  },
  {
   "cell_type": "code",
   "execution_count": 22,
   "metadata": {},
   "outputs": [
    {
     "data": {
      "text/plain": [
       "00s        9193\n",
       "10s        5277\n",
       "90s        1769\n",
       "unknown     269\n",
       "80s         205\n",
       "Name: decade, dtype: int64"
      ]
     },
     "execution_count": 22,
     "metadata": {},
     "output_type": "execute_result"
    }
   ],
   "source": [
    "df['decade'].value_counts()"
   ]
  },
  {
   "cell_type": "markdown",
   "metadata": {},
   "source": [
    "- Looking at some of the data a visualization on release year, we can see that the number of games released each year has mostly been in creasing each year, until peaking in around 2008/2009. Each of the years from 2012 on released around half the amount of games compared to those peak years.\n",
    "- If we look at the released games based on the decade, we see the same trend in growth from the 80s to the 00s. A little over halfway through the 10s, it looks like this decade will end up on a similar track to release the same amount of games as the 00s.\n",
    "- The drop on the most recent decade also makes one wonder why the reduction in releases. Is it due to consolidation of game producers? Focus on fewer, higher quality games? Less interest in video games? Or some other factor?\n",
    "- The small bar that shows 'unknown' years even if added to a single decade would not have a major effect on differences\n",
    "- Lastly, two of the largest platforms, Playstation 2 and Xbox, were released in 200 and 2001 respectively. These major platform releases likely helped lead to the large growth in sales from 2000 to 2010"
   ]
  },
  {
   "cell_type": "markdown",
   "metadata": {},
   "source": [
    "#### Look at how sales varied from platform to platform. Choose the platforms with the greatest total sales and build a distribution based on data for each year. \n",
    "#### Find platforms that used to be popular but now have zero sales. How long does it generally take for new platforms to appear and old ones to fade?"
   ]
  },
  {
   "cell_type": "code",
   "execution_count": 23,
   "metadata": {},
   "outputs": [
    {
     "data": {
      "text/html": [
       "<div>\n",
       "<style scoped>\n",
       "    .dataframe tbody tr th:only-of-type {\n",
       "        vertical-align: middle;\n",
       "    }\n",
       "\n",
       "    .dataframe tbody tr th {\n",
       "        vertical-align: top;\n",
       "    }\n",
       "\n",
       "    .dataframe thead th {\n",
       "        text-align: right;\n",
       "    }\n",
       "</style>\n",
       "<table border=\"1\" class=\"dataframe\">\n",
       "  <thead>\n",
       "    <tr style=\"text-align: right;\">\n",
       "      <th></th>\n",
       "      <th>num_games</th>\n",
       "      <th>total_sales</th>\n",
       "    </tr>\n",
       "    <tr>\n",
       "      <th>platform</th>\n",
       "      <th></th>\n",
       "      <th></th>\n",
       "    </tr>\n",
       "  </thead>\n",
       "  <tbody>\n",
       "    <tr>\n",
       "      <th>PS2</th>\n",
       "      <td>2161</td>\n",
       "      <td>1062.33</td>\n",
       "    </tr>\n",
       "    <tr>\n",
       "      <th>X360</th>\n",
       "      <td>1262</td>\n",
       "      <td>885.66</td>\n",
       "    </tr>\n",
       "    <tr>\n",
       "      <th>Wii</th>\n",
       "      <td>1320</td>\n",
       "      <td>828.44</td>\n",
       "    </tr>\n",
       "    <tr>\n",
       "      <th>PS3</th>\n",
       "      <td>1331</td>\n",
       "      <td>803.97</td>\n",
       "    </tr>\n",
       "    <tr>\n",
       "      <th>DS</th>\n",
       "      <td>2151</td>\n",
       "      <td>746.86</td>\n",
       "    </tr>\n",
       "  </tbody>\n",
       "</table>\n",
       "</div>"
      ],
      "text/plain": [
       "          num_games  total_sales\n",
       "platform                        \n",
       "PS2            2161      1062.33\n",
       "X360           1262       885.66\n",
       "Wii            1320       828.44\n",
       "PS3            1331       803.97\n",
       "DS             2151       746.86"
      ]
     },
     "execution_count": 23,
     "metadata": {},
     "output_type": "execute_result"
    }
   ],
   "source": [
    "platform_sales = df.pivot_table(index='platform', values='total_sales', aggfunc=('count', 'sum'))\n",
    "platform_sales.columns = ['num_games', 'total_sales']\n",
    "platform_sales = platform_sales.sort_values(by='total_sales', ascending=False)\n",
    "platform_sales.head()"
   ]
  },
  {
   "cell_type": "code",
   "execution_count": 24,
   "metadata": {},
   "outputs": [],
   "source": [
    "ps2 = df[df['platform'] == 'PS2']\n",
    "x360 = df[df['platform'] == 'X360']\n",
    "wii = df[df['platform'] == 'Wii']\n",
    "ps3 = df[df['platform'] == 'PS3']\n",
    "ds = df[df['platform'] == 'DS']"
   ]
  },
  {
   "cell_type": "code",
   "execution_count": 25,
   "metadata": {},
   "outputs": [],
   "source": [
    "def format_platform_sales(z, non_year):\n",
    "    '''\n",
    "    Specific to the above  platform specific dfs. Input one df and returns a new table grouped by year showing the aggregate\n",
    "    total sales and the number of games released in that year.\n",
    "    '''\n",
    "    res = z.groupby(['year'])['total_sales'].agg(['count', 'sum'])\n",
    "    res.columns = ['num_games', 'sales']\n",
    "    res = res.reset_index()\n",
    "    res = res[res['year'] > non_year]\n",
    "    return res"
   ]
  },
  {
   "cell_type": "code",
   "execution_count": 26,
   "metadata": {},
   "outputs": [],
   "source": [
    "ps2_sales = format_platform_sales(ps2,0)\n",
    "x360_sales = format_platform_sales(x360,0)\n",
    "wii_sales = format_platform_sales(wii,0)\n",
    "ps3_sales = format_platform_sales(ps3,0)\n",
    "ds_sales = format_platform_sales(ds,2000)"
   ]
  },
  {
   "cell_type": "code",
   "execution_count": 27,
   "metadata": {
    "scrolled": false
   },
   "outputs": [
    {
     "data": {
      "image/png": "[encoded data removed]",
      "text/plain": [
       "<Figure size 432x288 with 1 Axes>"
      ]
     },
     "metadata": {
      "needs_background": "light"
     },
     "output_type": "display_data"
    },
    {
     "data": {
      "image/png": "[encoded data removed]",
      "text/plain": [
       "<Figure size 432x288 with 1 Axes>"
      ]
     },
     "metadata": {
      "needs_background": "light"
     },
     "output_type": "display_data"
    },
    {
     "data": {
      "image/png": "[encoded data removed]",
      "text/plain": [
       "<Figure size 432x288 with 1 Axes>"
      ]
     },
     "metadata": {
      "needs_background": "light"
     },
     "output_type": "display_data"
    },
    {
     "data": {
      "image/png": "[encoded data removed]",
      "text/plain": [
       "<Figure size 432x288 with 1 Axes>"
      ]
     },
     "metadata": {
      "needs_background": "light"
     },
     "output_type": "display_data"
    },
    {
     "data": {
      "image/png": "[encoded data removed]",
      "text/plain": [
       "<Figure size 432x288 with 1 Axes>"
      ]
     },
     "metadata": {
      "needs_background": "light"
     },
     "output_type": "display_data"
    }
   ],
   "source": [
    "ps2_sales.plot(kind='bar', x='year', y='sales', xlim=(1998, 2012))\n",
    "plt.title('PS2 Sales')\n",
    "plt.show()\n",
    "\n",
    "x360_sales.plot(kind='bar', x='year', y='sales', xlim=(2004, 2018))\n",
    "plt.title('Xbox 360 Sales')\n",
    "plt.show()\n",
    "\n",
    "wii_sales.plot(kind='bar', x='year', y='sales', xlim=(2004, 2018))\n",
    "plt.title('Wii Sales')\n",
    "plt.show()\n",
    "\n",
    "ps3_sales.plot(kind='bar', x='year', y='sales', xlim=(2005, 2018))\n",
    "plt.title('PS3 Sales')\n",
    "plt.show()\n",
    "\n",
    "ds_sales.plot(kind='bar', x='year', y='sales', xlim=(2003, 2014))\n",
    "plt.title('Nintendo DS Sales')\n",
    "plt.show()"
   ]
  },
  {
   "cell_type": "markdown",
   "metadata": {},
   "source": [
    "#### Looking at the above data on the top 5 selling platforms:\n",
    "- PS2\n",
    "    - Peak Sales Amount: 180 million\n",
    "    - Relevant Years: 2000 - 2011 (11 years)\n",
    "    - Years from Peak to end of sales: 9\n",
    "    - The PS2 was released in 2000 and peaked around 2002. Sales then declined until about 2011. This is especially interesting becaause the PS3 wa released in 2006 when sales begin to drop further as people likely started moving to the new platform.\n",
    "- Xbox 360\n",
    "    - Peak Sales Amount: ~160 million\n",
    "    - Relevant Years: 2005 - 2016 (11 years)\n",
    "    - Years from Peak to end of sales: 6\n",
    "    - The Xbox 360 had an even rise and fall starting in 2005, peaking in 2010, and losing its relevance around 2016\n",
    "- Wii\n",
    "    - Peak Sales Amount: ~180 million\n",
    "    - Relevant Years: 2006 - 2016 (10 years)\n",
    "    - Years from Peak to end of sales: 7\n",
    "    - The Wii had the highest initial sales in the same year as it was released in 2006 (perhaps due to the hype around the motion capture technology at the time). Wii sales peaked in 2009 and then sharply dropped over the next few years until sales were almost nothing in 2016.\n",
    "- PS3\n",
    "    - Peak Sales Amount: ~140 million\n",
    "    - Relevant Years: 2006 - 2016 (10 years)\n",
    "    - Years from Peak to end of sales: 5\n",
    "    - PS3 sales were similar to the Xbox 360 with asteady rise and fall in sales. Starting in 2006, peaking in 2011, and finally losing relevance in 2016\n",
    "- DS\n",
    "    - Peak Sales Amount: ~140 million\n",
    "    - Relevant Years: 2004 - 2013 (9 years)\n",
    "    - Years from Peak to end of sales: 6\n",
    "    - DS sales had a slow first year, but then had a spike and strong sales from 2005 to 2009 and then fell drastically each year until 2013\n",
    "- Overall:\n",
    "    - The average time for a top platform to be released and lose it relevancy is about 10 years\n",
    "    - The average time to lose relevancy from its peak in sales is about 7 years\n",
    "    - New platforms from different creators are often released in similar years, but the largest creators release new versions of their platforms around every 6 years"
   ]
  },
  {
   "cell_type": "markdown",
   "metadata": {},
   "source": [
    "#### Determine what period you should take data for. To do so, look at your answers to the previous questions. The data should allow you to build a prognosis for 2017.\n",
    "#### Work only with the data that you've decided is relevant. Disregard the data for previous years."
   ]
  },
  {
   "cell_type": "markdown",
   "metadata": {},
   "source": [
    "Based on the prior analysis and data, most platforms lose relevancy after being in the market for about 10 years, but they also have some overlap in sales for the new platforms. To be forward looking towards 2017 and beyond, I am going to work with the most recent 4 years of data (2013-2016) as many of the top new platforms were released in that time frame and will still have relevancy for about the next 5+ years."
   ]
  },
  {
   "cell_type": "code",
   "execution_count": 28,
   "metadata": {},
   "outputs": [
    {
     "data": {
      "text/plain": [
       "(2233, 13)"
      ]
     },
     "execution_count": 28,
     "metadata": {},
     "output_type": "execute_result"
    }
   ],
   "source": [
    "year_filt = df[df['year'] >= 2013]\n",
    "year_filt.shape"
   ]
  },
  {
   "cell_type": "markdown",
   "metadata": {},
   "source": [
    "#### Which platforms are leading in sales? Which ones are growing or shrinking? Select several potentially profitable platforms."
   ]
  },
  {
   "cell_type": "code",
   "execution_count": 29,
   "metadata": {},
   "outputs": [
    {
     "data": {
      "text/plain": [
       "PS4     392\n",
       "PSV     358\n",
       "PS3     345\n",
       "3DS     303\n",
       "XOne    247\n",
       "PC      189\n",
       "X360    186\n",
       "WiiU    115\n",
       "PSP      67\n",
       "Wii      23\n",
       "DS        8\n",
       "Name: platform, dtype: int64"
      ]
     },
     "execution_count": 29,
     "metadata": {},
     "output_type": "execute_result"
    }
   ],
   "source": [
    "recent_sales = year_filt[(year_filt['total_sales'] > 0)]\n",
    "recent_sales['platform'].value_counts()"
   ]
  },
  {
   "cell_type": "code",
   "execution_count": 30,
   "metadata": {},
   "outputs": [
    {
     "data": {
      "text/plain": [
       "PS4     164\n",
       "XOne     87\n",
       "PSV      85\n",
       "PC       54\n",
       "3DS      46\n",
       "PS3      38\n",
       "WiiU     14\n",
       "X360     13\n",
       "Wii       1\n",
       "Name: platform, dtype: int64"
      ]
     },
     "execution_count": 30,
     "metadata": {},
     "output_type": "execute_result"
    }
   ],
   "source": [
    "sales_in_2016 = year_filt[(year_filt['total_sales'] > 0) & (year_filt['year'] == 2016)]\n",
    "sales_in_2016['platform'].value_counts()"
   ]
  },
  {
   "cell_type": "code",
   "execution_count": 31,
   "metadata": {},
   "outputs": [
    {
     "data": {
      "text/html": [
       "<div>\n",
       "<style scoped>\n",
       "    .dataframe tbody tr th:only-of-type {\n",
       "        vertical-align: middle;\n",
       "    }\n",
       "\n",
       "    .dataframe tbody tr th {\n",
       "        vertical-align: top;\n",
       "    }\n",
       "\n",
       "    .dataframe thead th {\n",
       "        text-align: right;\n",
       "    }\n",
       "</style>\n",
       "<table border=\"1\" class=\"dataframe\">\n",
       "  <thead>\n",
       "    <tr style=\"text-align: right;\">\n",
       "      <th></th>\n",
       "      <th>platform</th>\n",
       "      <th>year</th>\n",
       "      <th>total_sales</th>\n",
       "    </tr>\n",
       "  </thead>\n",
       "  <tbody>\n",
       "    <tr>\n",
       "      <th>0</th>\n",
       "      <td>3DS</td>\n",
       "      <td>2013</td>\n",
       "      <td>53.97</td>\n",
       "    </tr>\n",
       "    <tr>\n",
       "      <th>1</th>\n",
       "      <td>3DS</td>\n",
       "      <td>2014</td>\n",
       "      <td>41.75</td>\n",
       "    </tr>\n",
       "    <tr>\n",
       "      <th>2</th>\n",
       "      <td>3DS</td>\n",
       "      <td>2015</td>\n",
       "      <td>26.75</td>\n",
       "    </tr>\n",
       "    <tr>\n",
       "      <th>3</th>\n",
       "      <td>3DS</td>\n",
       "      <td>2016</td>\n",
       "      <td>14.50</td>\n",
       "    </tr>\n",
       "    <tr>\n",
       "      <th>4</th>\n",
       "      <td>DS</td>\n",
       "      <td>2013</td>\n",
       "      <td>1.42</td>\n",
       "    </tr>\n",
       "    <tr>\n",
       "      <th>5</th>\n",
       "      <td>PC</td>\n",
       "      <td>2013</td>\n",
       "      <td>11.27</td>\n",
       "    </tr>\n",
       "    <tr>\n",
       "      <th>6</th>\n",
       "      <td>PC</td>\n",
       "      <td>2014</td>\n",
       "      <td>12.38</td>\n",
       "    </tr>\n",
       "    <tr>\n",
       "      <th>7</th>\n",
       "      <td>PC</td>\n",
       "      <td>2015</td>\n",
       "      <td>7.93</td>\n",
       "    </tr>\n",
       "    <tr>\n",
       "      <th>8</th>\n",
       "      <td>PC</td>\n",
       "      <td>2016</td>\n",
       "      <td>4.89</td>\n",
       "    </tr>\n",
       "    <tr>\n",
       "      <th>9</th>\n",
       "      <td>PS3</td>\n",
       "      <td>2013</td>\n",
       "      <td>95.85</td>\n",
       "    </tr>\n",
       "    <tr>\n",
       "      <th>10</th>\n",
       "      <td>PS3</td>\n",
       "      <td>2014</td>\n",
       "      <td>40.88</td>\n",
       "    </tr>\n",
       "    <tr>\n",
       "      <th>11</th>\n",
       "      <td>PS3</td>\n",
       "      <td>2015</td>\n",
       "      <td>14.70</td>\n",
       "    </tr>\n",
       "    <tr>\n",
       "      <th>12</th>\n",
       "      <td>PS3</td>\n",
       "      <td>2016</td>\n",
       "      <td>3.23</td>\n",
       "    </tr>\n",
       "    <tr>\n",
       "      <th>13</th>\n",
       "      <td>PS4</td>\n",
       "      <td>2013</td>\n",
       "      <td>22.12</td>\n",
       "    </tr>\n",
       "    <tr>\n",
       "      <th>14</th>\n",
       "      <td>PS4</td>\n",
       "      <td>2014</td>\n",
       "      <td>84.22</td>\n",
       "    </tr>\n",
       "    <tr>\n",
       "      <th>15</th>\n",
       "      <td>PS4</td>\n",
       "      <td>2015</td>\n",
       "      <td>100.44</td>\n",
       "    </tr>\n",
       "    <tr>\n",
       "      <th>16</th>\n",
       "      <td>PS4</td>\n",
       "      <td>2016</td>\n",
       "      <td>59.01</td>\n",
       "    </tr>\n",
       "    <tr>\n",
       "      <th>17</th>\n",
       "      <td>PSP</td>\n",
       "      <td>2013</td>\n",
       "      <td>3.10</td>\n",
       "    </tr>\n",
       "    <tr>\n",
       "      <th>18</th>\n",
       "      <td>PSP</td>\n",
       "      <td>2014</td>\n",
       "      <td>0.24</td>\n",
       "    </tr>\n",
       "    <tr>\n",
       "      <th>19</th>\n",
       "      <td>PSP</td>\n",
       "      <td>2015</td>\n",
       "      <td>0.12</td>\n",
       "    </tr>\n",
       "    <tr>\n",
       "      <th>20</th>\n",
       "      <td>PSV</td>\n",
       "      <td>2013</td>\n",
       "      <td>9.14</td>\n",
       "    </tr>\n",
       "    <tr>\n",
       "      <th>21</th>\n",
       "      <td>PSV</td>\n",
       "      <td>2014</td>\n",
       "      <td>10.56</td>\n",
       "    </tr>\n",
       "    <tr>\n",
       "      <th>22</th>\n",
       "      <td>PSV</td>\n",
       "      <td>2015</td>\n",
       "      <td>5.93</td>\n",
       "    </tr>\n",
       "    <tr>\n",
       "      <th>23</th>\n",
       "      <td>PSV</td>\n",
       "      <td>2016</td>\n",
       "      <td>4.10</td>\n",
       "    </tr>\n",
       "    <tr>\n",
       "      <th>24</th>\n",
       "      <td>Wii</td>\n",
       "      <td>2013</td>\n",
       "      <td>7.87</td>\n",
       "    </tr>\n",
       "    <tr>\n",
       "      <th>25</th>\n",
       "      <td>Wii</td>\n",
       "      <td>2014</td>\n",
       "      <td>3.45</td>\n",
       "    </tr>\n",
       "    <tr>\n",
       "      <th>26</th>\n",
       "      <td>Wii</td>\n",
       "      <td>2015</td>\n",
       "      <td>1.05</td>\n",
       "    </tr>\n",
       "    <tr>\n",
       "      <th>27</th>\n",
       "      <td>Wii</td>\n",
       "      <td>2016</td>\n",
       "      <td>0.17</td>\n",
       "    </tr>\n",
       "    <tr>\n",
       "      <th>28</th>\n",
       "      <td>WiiU</td>\n",
       "      <td>2013</td>\n",
       "      <td>20.12</td>\n",
       "    </tr>\n",
       "    <tr>\n",
       "      <th>29</th>\n",
       "      <td>WiiU</td>\n",
       "      <td>2014</td>\n",
       "      <td>20.35</td>\n",
       "    </tr>\n",
       "    <tr>\n",
       "      <th>30</th>\n",
       "      <td>WiiU</td>\n",
       "      <td>2015</td>\n",
       "      <td>15.22</td>\n",
       "    </tr>\n",
       "    <tr>\n",
       "      <th>31</th>\n",
       "      <td>WiiU</td>\n",
       "      <td>2016</td>\n",
       "      <td>4.25</td>\n",
       "    </tr>\n",
       "    <tr>\n",
       "      <th>32</th>\n",
       "      <td>X360</td>\n",
       "      <td>2013</td>\n",
       "      <td>80.82</td>\n",
       "    </tr>\n",
       "    <tr>\n",
       "      <th>33</th>\n",
       "      <td>X360</td>\n",
       "      <td>2014</td>\n",
       "      <td>31.61</td>\n",
       "    </tr>\n",
       "    <tr>\n",
       "      <th>34</th>\n",
       "      <td>X360</td>\n",
       "      <td>2015</td>\n",
       "      <td>10.86</td>\n",
       "    </tr>\n",
       "    <tr>\n",
       "      <th>35</th>\n",
       "      <td>X360</td>\n",
       "      <td>2016</td>\n",
       "      <td>1.40</td>\n",
       "    </tr>\n",
       "    <tr>\n",
       "      <th>36</th>\n",
       "      <td>XOne</td>\n",
       "      <td>2013</td>\n",
       "      <td>17.21</td>\n",
       "    </tr>\n",
       "    <tr>\n",
       "      <th>37</th>\n",
       "      <td>XOne</td>\n",
       "      <td>2014</td>\n",
       "      <td>49.26</td>\n",
       "    </tr>\n",
       "    <tr>\n",
       "      <th>38</th>\n",
       "      <td>XOne</td>\n",
       "      <td>2015</td>\n",
       "      <td>54.67</td>\n",
       "    </tr>\n",
       "    <tr>\n",
       "      <th>39</th>\n",
       "      <td>XOne</td>\n",
       "      <td>2016</td>\n",
       "      <td>23.91</td>\n",
       "    </tr>\n",
       "  </tbody>\n",
       "</table>\n",
       "</div>"
      ],
      "text/plain": [
       "   platform  year  total_sales\n",
       "0       3DS  2013        53.97\n",
       "1       3DS  2014        41.75\n",
       "2       3DS  2015        26.75\n",
       "3       3DS  2016        14.50\n",
       "4        DS  2013         1.42\n",
       "5        PC  2013        11.27\n",
       "6        PC  2014        12.38\n",
       "7        PC  2015         7.93\n",
       "8        PC  2016         4.89\n",
       "9       PS3  2013        95.85\n",
       "10      PS3  2014        40.88\n",
       "11      PS3  2015        14.70\n",
       "12      PS3  2016         3.23\n",
       "13      PS4  2013        22.12\n",
       "14      PS4  2014        84.22\n",
       "15      PS4  2015       100.44\n",
       "16      PS4  2016        59.01\n",
       "17      PSP  2013         3.10\n",
       "18      PSP  2014         0.24\n",
       "19      PSP  2015         0.12\n",
       "20      PSV  2013         9.14\n",
       "21      PSV  2014        10.56\n",
       "22      PSV  2015         5.93\n",
       "23      PSV  2016         4.10\n",
       "24      Wii  2013         7.87\n",
       "25      Wii  2014         3.45\n",
       "26      Wii  2015         1.05\n",
       "27      Wii  2016         0.17\n",
       "28     WiiU  2013        20.12\n",
       "29     WiiU  2014        20.35\n",
       "30     WiiU  2015        15.22\n",
       "31     WiiU  2016         4.25\n",
       "32     X360  2013        80.82\n",
       "33     X360  2014        31.61\n",
       "34     X360  2015        10.86\n",
       "35     X360  2016         1.40\n",
       "36     XOne  2013        17.21\n",
       "37     XOne  2014        49.26\n",
       "38     XOne  2015        54.67\n",
       "39     XOne  2016        23.91"
      ]
     },
     "execution_count": 31,
     "metadata": {},
     "output_type": "execute_result"
    }
   ],
   "source": [
    "sale = year_filt.groupby(['platform', 'year'])['total_sales'].agg('sum')\n",
    "#sale['yoy_change'] = sale['sum'].pct_change()\n",
    "sale = sale.reset_index()\n",
    "sale"
   ]
  },
  {
   "cell_type": "code",
   "execution_count": 32,
   "metadata": {},
   "outputs": [
    {
     "data": {
      "text/plain": [
       "Text(0.5, 0, 'Year')"
      ]
     },
     "execution_count": 32,
     "metadata": {},
     "output_type": "execute_result"
    },
    {
     "data": {
      "image/png": "[encoded data removed]",
      "text/plain": [
       "<Figure size 1152x720 with 1 Axes>"
      ]
     },
     "metadata": {
      "needs_background": "light"
     },
     "output_type": "display_data"
    }
   ],
   "source": [
    "groups = sale.groupby('platform')\n",
    "plt.figure(figsize=(16,10))\n",
    "for name, group in groups:\n",
    "    plt.plot(group[\"year\"], group[\"total_sales\"], label=name)\n",
    "plt.legend()\n",
    "plt.ylabel('Total Sales')\n",
    "plt.xlabel('Year')"
   ]
  },
  {
   "cell_type": "markdown",
   "metadata": {},
   "source": [
    "The top five selling platforms shown before (PS2, X360, Wii, PS3, DS) have all lost most of their sales by or before 2016 as new platforms have come about. In the above slice I looked at the count of values for each platform still making sales in 2016. The total sales from 2013 to 2016 are not showing much growth on any particular platform, but it is clear that the newer ones have been selling more in recent years. There are a couple of old ones, but I am going to focus on the newer platforms (in the new_consoles list below) as their sales are higher and/or growing."
   ]
  },
  {
   "cell_type": "code",
   "execution_count": 33,
   "metadata": {},
   "outputs": [
    {
     "data": {
      "text/html": [
       "<div>\n",
       "<style scoped>\n",
       "    .dataframe tbody tr th:only-of-type {\n",
       "        vertical-align: middle;\n",
       "    }\n",
       "\n",
       "    .dataframe tbody tr th {\n",
       "        vertical-align: top;\n",
       "    }\n",
       "\n",
       "    .dataframe thead th {\n",
       "        text-align: right;\n",
       "    }\n",
       "</style>\n",
       "<table border=\"1\" class=\"dataframe\">\n",
       "  <thead>\n",
       "    <tr style=\"text-align: right;\">\n",
       "      <th></th>\n",
       "      <th>index</th>\n",
       "      <th>name</th>\n",
       "      <th>platform</th>\n",
       "      <th>year</th>\n",
       "      <th>genre</th>\n",
       "      <th>na_sales</th>\n",
       "      <th>eu_sales</th>\n",
       "      <th>jp_sales</th>\n",
       "      <th>other_sales</th>\n",
       "      <th>critic_score</th>\n",
       "      <th>user_score</th>\n",
       "      <th>rating</th>\n",
       "      <th>decade</th>\n",
       "      <th>total_sales</th>\n",
       "    </tr>\n",
       "  </thead>\n",
       "  <tbody>\n",
       "    <tr>\n",
       "      <th>0</th>\n",
       "      <td>31</td>\n",
       "      <td>Call of Duty: Black Ops 3</td>\n",
       "      <td>PS4</td>\n",
       "      <td>2015</td>\n",
       "      <td>Shooter</td>\n",
       "      <td>6.03</td>\n",
       "      <td>5.86</td>\n",
       "      <td>0.36</td>\n",
       "      <td>2.38</td>\n",
       "      <td>0.0</td>\n",
       "      <td>0.0</td>\n",
       "      <td>No Rating</td>\n",
       "      <td>10s</td>\n",
       "      <td>12.25</td>\n",
       "    </tr>\n",
       "    <tr>\n",
       "      <th>1</th>\n",
       "      <td>33</td>\n",
       "      <td>Pokemon X/Pokemon Y</td>\n",
       "      <td>3DS</td>\n",
       "      <td>2013</td>\n",
       "      <td>Role-Playing</td>\n",
       "      <td>5.28</td>\n",
       "      <td>4.19</td>\n",
       "      <td>4.35</td>\n",
       "      <td>0.78</td>\n",
       "      <td>0.0</td>\n",
       "      <td>0.0</td>\n",
       "      <td>No Rating</td>\n",
       "      <td>10s</td>\n",
       "      <td>13.82</td>\n",
       "    </tr>\n",
       "    <tr>\n",
       "      <th>2</th>\n",
       "      <td>42</td>\n",
       "      <td>Grand Theft Auto V</td>\n",
       "      <td>PS4</td>\n",
       "      <td>2014</td>\n",
       "      <td>Action</td>\n",
       "      <td>3.96</td>\n",
       "      <td>6.31</td>\n",
       "      <td>0.38</td>\n",
       "      <td>1.97</td>\n",
       "      <td>97.0</td>\n",
       "      <td>8.3</td>\n",
       "      <td>M</td>\n",
       "      <td>10s</td>\n",
       "      <td>10.65</td>\n",
       "    </tr>\n",
       "    <tr>\n",
       "      <th>3</th>\n",
       "      <td>47</td>\n",
       "      <td>Pokemon Omega Ruby/Pokemon Alpha Sapphire</td>\n",
       "      <td>3DS</td>\n",
       "      <td>2014</td>\n",
       "      <td>Role-Playing</td>\n",
       "      <td>4.35</td>\n",
       "      <td>3.49</td>\n",
       "      <td>3.10</td>\n",
       "      <td>0.74</td>\n",
       "      <td>0.0</td>\n",
       "      <td>0.0</td>\n",
       "      <td>No Rating</td>\n",
       "      <td>10s</td>\n",
       "      <td>10.94</td>\n",
       "    </tr>\n",
       "    <tr>\n",
       "      <th>4</th>\n",
       "      <td>77</td>\n",
       "      <td>FIFA 16</td>\n",
       "      <td>PS4</td>\n",
       "      <td>2015</td>\n",
       "      <td>Sports</td>\n",
       "      <td>1.12</td>\n",
       "      <td>6.12</td>\n",
       "      <td>0.06</td>\n",
       "      <td>1.28</td>\n",
       "      <td>82.0</td>\n",
       "      <td>4.3</td>\n",
       "      <td>E</td>\n",
       "      <td>10s</td>\n",
       "      <td>7.30</td>\n",
       "    </tr>\n",
       "  </tbody>\n",
       "</table>\n",
       "</div>"
      ],
      "text/plain": [
       "   index                                       name platform  year  \\\n",
       "0     31                  Call of Duty: Black Ops 3      PS4  2015   \n",
       "1     33                        Pokemon X/Pokemon Y      3DS  2013   \n",
       "2     42                         Grand Theft Auto V      PS4  2014   \n",
       "3     47  Pokemon Omega Ruby/Pokemon Alpha Sapphire      3DS  2014   \n",
       "4     77                                    FIFA 16      PS4  2015   \n",
       "\n",
       "          genre  na_sales  eu_sales  jp_sales  other_sales  critic_score  \\\n",
       "0       Shooter      6.03      5.86      0.36         2.38           0.0   \n",
       "1  Role-Playing      5.28      4.19      4.35         0.78           0.0   \n",
       "2        Action      3.96      6.31      0.38         1.97          97.0   \n",
       "3  Role-Playing      4.35      3.49      3.10         0.74           0.0   \n",
       "4        Sports      1.12      6.12      0.06         1.28          82.0   \n",
       "\n",
       "   user_score     rating decade  total_sales  \n",
       "0         0.0  No Rating    10s        12.25  \n",
       "1         0.0  No Rating    10s        13.82  \n",
       "2         8.3          M    10s        10.65  \n",
       "3         0.0  No Rating    10s        10.94  \n",
       "4         4.3          E    10s         7.30  "
      ]
     },
     "execution_count": 33,
     "metadata": {},
     "output_type": "execute_result"
    }
   ],
   "source": [
    "new_consoles = ['PS4', 'XOne', 'PSV', 'PC', '3DS', 'WiiU']\n",
    "df2 = recent_sales[recent_sales['platform'].isin(new_consoles)].reset_index()\n",
    "df2.head()"
   ]
  },
  {
   "cell_type": "code",
   "execution_count": 34,
   "metadata": {},
   "outputs": [
    {
     "name": "stdout",
     "output_type": "stream",
     "text": [
      "<class 'pandas.core.frame.DataFrame'>\n",
      "RangeIndex: 1604 entries, 0 to 1603\n",
      "Data columns (total 14 columns):\n",
      " #   Column        Non-Null Count  Dtype  \n",
      "---  ------        --------------  -----  \n",
      " 0   index         1604 non-null   int64  \n",
      " 1   name          1604 non-null   object \n",
      " 2   platform      1604 non-null   object \n",
      " 3   year          1604 non-null   int64  \n",
      " 4   genre         1604 non-null   object \n",
      " 5   na_sales      1604 non-null   float64\n",
      " 6   eu_sales      1604 non-null   float64\n",
      " 7   jp_sales      1604 non-null   float64\n",
      " 8   other_sales   1604 non-null   float64\n",
      " 9   critic_score  1604 non-null   float64\n",
      " 10  user_score    1604 non-null   float64\n",
      " 11  rating        1604 non-null   object \n",
      " 12  decade        1604 non-null   object \n",
      " 13  total_sales   1604 non-null   float64\n",
      "dtypes: float64(7), int64(2), object(5)\n",
      "memory usage: 175.6+ KB\n"
     ]
    }
   ],
   "source": [
    "df2.info()"
   ]
  },
  {
   "cell_type": "markdown",
   "metadata": {},
   "source": [
    "#### Build a box plot for the global sales of all games, broken down by platform. Are the differences in sales significant? What about average sales on various platforms? Describe your findings."
   ]
  },
  {
   "cell_type": "code",
   "execution_count": 35,
   "metadata": {},
   "outputs": [
    {
     "data": {
      "text/plain": [
       "<matplotlib.axes._subplots.AxesSubplot at 0x7f8ee060c610>"
      ]
     },
     "execution_count": 35,
     "metadata": {},
     "output_type": "execute_result"
    },
    {
     "data": {
      "image/png": "[encoded data removed]",
      "text/plain": [
       "<Figure size 1440x720 with 1 Axes>"
      ]
     },
     "metadata": {
      "needs_background": "light"
     },
     "output_type": "display_data"
    }
   ],
   "source": [
    "df2.boxplot(column='total_sales', by='platform', figsize=(20, 10))"
   ]
  },
  {
   "cell_type": "markdown",
   "metadata": {},
   "source": [
    "Based on the box plots and statistics laid out above for the newer consoles, there are a few takeaways:\n",
    "- There are some significant differences in the total sales by platform which range from 29 million(PSV) to 265 million(PS4)\n",
    "- Mean and Median Sales for each platform had smaller differences for mean and median sales numbers per game:\n",
    "    - PS4: Mean - 0.678 million and Median: 0.17 million\n",
    "    - XOne: Mean - 0.58 million and Median: 0.2 million\n",
    "    - PSV: Mean - 0.619 million and Median: 0.07 million\n",
    "    - PC: Mean - 0.19 million and Median: 0.07 million\n",
    "    - 3DS: Mean - 0.45 million and Median: 0.09 million\n",
    "    - WiiU: Mean - 0.52 million and Median: 0.19 million\n",
    "- It is of note that there are large discrepancies between the mean and median on each platform. With that information and based on outliers in the box plots, it can be seen that most games only make between 70-200 thousand in sales. But then, there are major outliers that can make well over 1 million on each platform which causes the positive skew. The major outliers likely represent the big blockbuster games that have the biggest budgets and advertising teams, helping create more sales for the games"
   ]
  },
  {
   "cell_type": "markdown",
   "metadata": {},
   "source": [
    "#### Take a look at how user and professional reviews affect sales for one popular platform (you choose). Build a scatter plot and calculate the correlation between reviews and sales. Draw conclusions."
   ]
  },
  {
   "cell_type": "code",
   "execution_count": 36,
   "metadata": {},
   "outputs": [],
   "source": [
    "ps4_df = df[(df['platform'] == 'PS4') & (df['critic_score'] > 0) & (df['user_score'] > 0.01)]\n",
    "# removing unrated data based on ratings/"
   ]
  },
  {
   "cell_type": "code",
   "execution_count": 37,
   "metadata": {},
   "outputs": [
    {
     "name": "stdout",
     "output_type": "stream",
     "text": [
      "              critic_score  total_sales\n",
      "critic_score      1.000000     0.405223\n",
      "total_sales       0.405223     1.000000\n"
     ]
    },
    {
     "data": {
      "image/png": "[encoded data removed]",
      "text/plain": [
       "<Figure size 432x288 with 1 Axes>"
      ]
     },
     "metadata": {
      "needs_background": "light"
     },
     "output_type": "display_data"
    }
   ],
   "source": [
    "ps4_df.plot(kind='scatter', x='critic_score', y='total_sales')\n",
    "plt.title('Critic Scores compared to Sales')\n",
    "print(ps4_df[['critic_score', 'total_sales']].corr())"
   ]
  },
  {
   "cell_type": "code",
   "execution_count": 38,
   "metadata": {},
   "outputs": [
    {
     "name": "stdout",
     "output_type": "stream",
     "text": [
      "             user_score  total_sales\n",
      "user_score     1.000000    -0.032923\n",
      "total_sales   -0.032923     1.000000\n"
     ]
    },
    {
     "data": {
      "image/png": "[encoded data removed]",
      "text/plain": [
       "<Figure size 432x288 with 1 Axes>"
      ]
     },
     "metadata": {
      "needs_background": "light"
     },
     "output_type": "display_data"
    }
   ],
   "source": [
    "ps4_df.plot(kind='scatter', x='user_score', y='total_sales')\n",
    "plt.title('User Scores compared to Sales')\n",
    "print(ps4_df[['user_score', 'total_sales']].corr())"
   ]
  },
  {
   "cell_type": "markdown",
   "metadata": {},
   "source": [
    "Critic scores have a positive correlation of about 40% showing that in general, that as critic scores increase, so do sales of the game\n",
    "\n",
    "User scores on the other hand are different. They have the smallest negative correlation, but it is close enough to 0 to basically say there is no correlation. Sales numbers may be high or low regardless of what user may think and vice versa."
   ]
  },
  {
   "cell_type": "markdown",
   "metadata": {},
   "source": [
    "#### Keeping your conclusions in mind, compare the sales of the same games on other platforms."
   ]
  },
  {
   "cell_type": "code",
   "execution_count": 39,
   "metadata": {},
   "outputs": [
    {
     "data": {
      "text/html": [
       "<div>\n",
       "<style scoped>\n",
       "    .dataframe tbody tr th:only-of-type {\n",
       "        vertical-align: middle;\n",
       "    }\n",
       "\n",
       "    .dataframe tbody tr th {\n",
       "        vertical-align: top;\n",
       "    }\n",
       "\n",
       "    .dataframe thead th {\n",
       "        text-align: right;\n",
       "    }\n",
       "</style>\n",
       "<table border=\"1\" class=\"dataframe\">\n",
       "  <thead>\n",
       "    <tr style=\"text-align: right;\">\n",
       "      <th></th>\n",
       "      <th>name</th>\n",
       "      <th>platform</th>\n",
       "      <th>total_sales</th>\n",
       "    </tr>\n",
       "  </thead>\n",
       "  <tbody>\n",
       "    <tr>\n",
       "      <th>0</th>\n",
       "      <td>7 Days to Die</td>\n",
       "      <td>PS4</td>\n",
       "      <td>0.12</td>\n",
       "    </tr>\n",
       "    <tr>\n",
       "      <th>1</th>\n",
       "      <td>7 Days to Die</td>\n",
       "      <td>XOne</td>\n",
       "      <td>0.05</td>\n",
       "    </tr>\n",
       "    <tr>\n",
       "      <th>2</th>\n",
       "      <td>Adventure Time: Explore the Dungeon Because I ...</td>\n",
       "      <td>3DS</td>\n",
       "      <td>0.13</td>\n",
       "    </tr>\n",
       "    <tr>\n",
       "      <th>3</th>\n",
       "      <td>Adventure Time: Explore the Dungeon Because I ...</td>\n",
       "      <td>WiiU</td>\n",
       "      <td>0.03</td>\n",
       "    </tr>\n",
       "    <tr>\n",
       "      <th>4</th>\n",
       "      <td>Adventure Time: Finn &amp; Jake Investigations</td>\n",
       "      <td>3DS</td>\n",
       "      <td>0.08</td>\n",
       "    </tr>\n",
       "    <tr>\n",
       "      <th>5</th>\n",
       "      <td>Adventure Time: Finn &amp; Jake Investigations</td>\n",
       "      <td>PS4</td>\n",
       "      <td>0.08</td>\n",
       "    </tr>\n",
       "    <tr>\n",
       "      <th>6</th>\n",
       "      <td>Adventure Time: Finn &amp; Jake Investigations</td>\n",
       "      <td>WiiU</td>\n",
       "      <td>0.05</td>\n",
       "    </tr>\n",
       "    <tr>\n",
       "      <th>7</th>\n",
       "      <td>Adventure Time: Finn &amp; Jake Investigations</td>\n",
       "      <td>XOne</td>\n",
       "      <td>0.05</td>\n",
       "    </tr>\n",
       "    <tr>\n",
       "      <th>8</th>\n",
       "      <td>Aegis of Earth: Protonovus Assault</td>\n",
       "      <td>PS4</td>\n",
       "      <td>0.02</td>\n",
       "    </tr>\n",
       "    <tr>\n",
       "      <th>9</th>\n",
       "      <td>Aegis of Earth: Protonovus Assault</td>\n",
       "      <td>PSV</td>\n",
       "      <td>0.02</td>\n",
       "    </tr>\n",
       "  </tbody>\n",
       "</table>\n",
       "</div>"
      ],
      "text/plain": [
       "                                                name platform  total_sales\n",
       "0                                      7 Days to Die      PS4         0.12\n",
       "1                                      7 Days to Die     XOne         0.05\n",
       "2  Adventure Time: Explore the Dungeon Because I ...      3DS         0.13\n",
       "3  Adventure Time: Explore the Dungeon Because I ...     WiiU         0.03\n",
       "4         Adventure Time: Finn & Jake Investigations      3DS         0.08\n",
       "5         Adventure Time: Finn & Jake Investigations      PS4         0.08\n",
       "6         Adventure Time: Finn & Jake Investigations     WiiU         0.05\n",
       "7         Adventure Time: Finn & Jake Investigations     XOne         0.05\n",
       "8                 Aegis of Earth: Protonovus Assault      PS4         0.02\n",
       "9                 Aegis of Earth: Protonovus Assault      PSV         0.02"
      ]
     },
     "execution_count": 39,
     "metadata": {},
     "output_type": "execute_result"
    }
   ],
   "source": [
    "dup = df2[df2.duplicated('name', keep=False) == True]\n",
    "\n",
    "by_name = pd.DataFrame(dup.groupby(['name', 'platform'])['total_sales'].agg('sum')).reset_index()\n",
    "by_name.head(10)"
   ]
  },
  {
   "cell_type": "code",
   "execution_count": 40,
   "metadata": {},
   "outputs": [
    {
     "data": {
      "text/plain": [
       "<matplotlib.collections.PathCollection at 0x7f8ee04fc710>"
      ]
     },
     "execution_count": 40,
     "metadata": {},
     "output_type": "execute_result"
    },
    {
     "data": {
      "image/png": "[encoded data removed]",
      "text/plain": [
       "<Figure size 432x288 with 1 Axes>"
      ]
     },
     "metadata": {
      "needs_background": "light"
     },
     "output_type": "display_data"
    }
   ],
   "source": [
    "plt.scatter(by_name['platform'], by_name['total_sales']) # exactly the same as yours from local machine =)"
   ]
  },
  {
   "cell_type": "code",
   "execution_count": 41,
   "metadata": {},
   "outputs": [
    {
     "data": {
      "text/plain": [
       "platform\n",
       "PS4     225.51\n",
       "XOne    121.01\n",
       "PC       22.67\n",
       "WiiU     20.41\n",
       "3DS      18.22\n",
       "PSV      11.60\n",
       "Name: total_sales, dtype: float64"
      ]
     },
     "execution_count": 41,
     "metadata": {},
     "output_type": "execute_result"
    }
   ],
   "source": [
    "dup_group = pd.DataFrame(dup.groupby('platform')['total_sales'].agg('sum'))\n",
    "dup_group['total_sales'].sort_values(ascending=False)"
   ]
  },
  {
   "cell_type": "markdown",
   "metadata": {},
   "source": [
    "After filtering out games released only on a single platform, I could group and visualize the data to see which platforms had the most sales when games crossed multiple. In general, PS4 was the leader and was almost double the second most in sales XOne and both of those were much higher than the rest of the modern platforms."
   ]
  },
  {
   "cell_type": "markdown",
   "metadata": {},
   "source": [
    "#### Take a look at the general distribution of games by genre. What can we say about the most profitable genres? Can you generalize about genres with high and low sales?"
   ]
  },
  {
   "cell_type": "code",
   "execution_count": 42,
   "metadata": {},
   "outputs": [
    {
     "data": {
      "text/html": [
       "<div>\n",
       "<style scoped>\n",
       "    .dataframe tbody tr th:only-of-type {\n",
       "        vertical-align: middle;\n",
       "    }\n",
       "\n",
       "    .dataframe tbody tr th {\n",
       "        vertical-align: top;\n",
       "    }\n",
       "\n",
       "    .dataframe thead th {\n",
       "        text-align: right;\n",
       "    }\n",
       "</style>\n",
       "<table border=\"1\" class=\"dataframe\">\n",
       "  <thead>\n",
       "    <tr style=\"text-align: right;\">\n",
       "      <th></th>\n",
       "      <th>genre</th>\n",
       "      <th>total_sales</th>\n",
       "      <th>num_games</th>\n",
       "      <th>profit_per_game</th>\n",
       "    </tr>\n",
       "  </thead>\n",
       "  <tbody>\n",
       "    <tr>\n",
       "      <th>0</th>\n",
       "      <td>Shooter</td>\n",
       "      <td>144.82</td>\n",
       "      <td>122</td>\n",
       "      <td>1.187049</td>\n",
       "    </tr>\n",
       "    <tr>\n",
       "      <th>1</th>\n",
       "      <td>Sports</td>\n",
       "      <td>78.77</td>\n",
       "      <td>127</td>\n",
       "      <td>0.620236</td>\n",
       "    </tr>\n",
       "    <tr>\n",
       "      <th>2</th>\n",
       "      <td>Platform</td>\n",
       "      <td>31.09</td>\n",
       "      <td>55</td>\n",
       "      <td>0.565273</td>\n",
       "    </tr>\n",
       "    <tr>\n",
       "      <th>3</th>\n",
       "      <td>Role-Playing</td>\n",
       "      <td>114.76</td>\n",
       "      <td>228</td>\n",
       "      <td>0.503333</td>\n",
       "    </tr>\n",
       "    <tr>\n",
       "      <th>4</th>\n",
       "      <td>Fighting</td>\n",
       "      <td>24.01</td>\n",
       "      <td>48</td>\n",
       "      <td>0.500208</td>\n",
       "    </tr>\n",
       "    <tr>\n",
       "      <th>5</th>\n",
       "      <td>Racing</td>\n",
       "      <td>27.15</td>\n",
       "      <td>60</td>\n",
       "      <td>0.452500</td>\n",
       "    </tr>\n",
       "    <tr>\n",
       "      <th>6</th>\n",
       "      <td>Simulation</td>\n",
       "      <td>18.54</td>\n",
       "      <td>50</td>\n",
       "      <td>0.370800</td>\n",
       "    </tr>\n",
       "    <tr>\n",
       "      <th>7</th>\n",
       "      <td>Action</td>\n",
       "      <td>177.26</td>\n",
       "      <td>568</td>\n",
       "      <td>0.312077</td>\n",
       "    </tr>\n",
       "    <tr>\n",
       "      <th>8</th>\n",
       "      <td>Misc</td>\n",
       "      <td>31.57</td>\n",
       "      <td>112</td>\n",
       "      <td>0.281875</td>\n",
       "    </tr>\n",
       "    <tr>\n",
       "      <th>9</th>\n",
       "      <td>Puzzle</td>\n",
       "      <td>2.97</td>\n",
       "      <td>16</td>\n",
       "      <td>0.185625</td>\n",
       "    </tr>\n",
       "    <tr>\n",
       "      <th>10</th>\n",
       "      <td>Strategy</td>\n",
       "      <td>8.19</td>\n",
       "      <td>49</td>\n",
       "      <td>0.167143</td>\n",
       "    </tr>\n",
       "    <tr>\n",
       "      <th>11</th>\n",
       "      <td>Adventure</td>\n",
       "      <td>14.82</td>\n",
       "      <td>169</td>\n",
       "      <td>0.087692</td>\n",
       "    </tr>\n",
       "  </tbody>\n",
       "</table>\n",
       "</div>"
      ],
      "text/plain": [
       "           genre  total_sales  num_games  profit_per_game\n",
       "0        Shooter       144.82        122         1.187049\n",
       "1         Sports        78.77        127         0.620236\n",
       "2       Platform        31.09         55         0.565273\n",
       "3   Role-Playing       114.76        228         0.503333\n",
       "4       Fighting        24.01         48         0.500208\n",
       "5         Racing        27.15         60         0.452500\n",
       "6     Simulation        18.54         50         0.370800\n",
       "7         Action       177.26        568         0.312077\n",
       "8           Misc        31.57        112         0.281875\n",
       "9         Puzzle         2.97         16         0.185625\n",
       "10      Strategy         8.19         49         0.167143\n",
       "11     Adventure        14.82        169         0.087692"
      ]
     },
     "execution_count": 42,
     "metadata": {},
     "output_type": "execute_result"
    }
   ],
   "source": [
    "genre_groups = pd.DataFrame(df2.groupby('genre')['total_sales'].agg(['sum', 'count']))\n",
    "genre_groups.columns = ['total_sales', 'num_games']\n",
    "genre_groups['profit_per_game'] = genre_groups['total_sales'] / genre_groups['num_games']\n",
    "genre_groups = genre_groups.sort_values(by='profit_per_game', ascending=False).reset_index()\n",
    "genre_groups"
   ]
  },
  {
   "cell_type": "code",
   "execution_count": 43,
   "metadata": {},
   "outputs": [
    {
     "data": {
      "image/png": "[encoded data removed]",
      "text/plain": [
       "<Figure size 576x288 with 1 Axes>"
      ]
     },
     "metadata": {
      "needs_background": "light"
     },
     "output_type": "display_data"
    },
    {
     "data": {
      "image/png": "[encoded data removed]",
      "text/plain": [
       "<Figure size 576x288 with 1 Axes>"
      ]
     },
     "metadata": {
      "needs_background": "light"
     },
     "output_type": "display_data"
    }
   ],
   "source": [
    "genre_groups.plot(kind='bar', x='genre', y='total_sales', figsize=(8,4))\n",
    "plt.title('Total Sales by genre')\n",
    "plt.xlabel('Genre')\n",
    "plt.ylabel('Total Sales')\n",
    "genre_groups.plot(kind='bar', x='genre', y='num_games', figsize=(8,4))\n",
    "plt.title('Number of Games per genre')\n",
    "plt.xlabel('Genre')\n",
    "plt.ylabel('Number of Games')\n",
    "plt.show()"
   ]
  },
  {
   "cell_type": "code",
   "execution_count": 44,
   "metadata": {},
   "outputs": [
    {
     "data": {
      "text/html": [
       "<div>\n",
       "<style scoped>\n",
       "    .dataframe tbody tr th:only-of-type {\n",
       "        vertical-align: middle;\n",
       "    }\n",
       "\n",
       "    .dataframe tbody tr th {\n",
       "        vertical-align: top;\n",
       "    }\n",
       "\n",
       "    .dataframe thead th {\n",
       "        text-align: right;\n",
       "    }\n",
       "</style>\n",
       "<table border=\"1\" class=\"dataframe\">\n",
       "  <thead>\n",
       "    <tr style=\"text-align: right;\">\n",
       "      <th></th>\n",
       "      <th>total_sales</th>\n",
       "      <th>num_games</th>\n",
       "      <th>profit_per_game</th>\n",
       "    </tr>\n",
       "  </thead>\n",
       "  <tbody>\n",
       "    <tr>\n",
       "      <th>total_sales</th>\n",
       "      <td>1.000000</td>\n",
       "      <td>0.790685</td>\n",
       "      <td>0.539131</td>\n",
       "    </tr>\n",
       "    <tr>\n",
       "      <th>num_games</th>\n",
       "      <td>0.790685</td>\n",
       "      <td>1.000000</td>\n",
       "      <td>-0.053747</td>\n",
       "    </tr>\n",
       "    <tr>\n",
       "      <th>profit_per_game</th>\n",
       "      <td>0.539131</td>\n",
       "      <td>-0.053747</td>\n",
       "      <td>1.000000</td>\n",
       "    </tr>\n",
       "  </tbody>\n",
       "</table>\n",
       "</div>"
      ],
      "text/plain": [
       "                 total_sales  num_games  profit_per_game\n",
       "total_sales         1.000000   0.790685         0.539131\n",
       "num_games           0.790685   1.000000        -0.053747\n",
       "profit_per_game     0.539131  -0.053747         1.000000"
      ]
     },
     "execution_count": 44,
     "metadata": {},
     "output_type": "execute_result"
    }
   ],
   "source": [
    "genre_groups.corr()"
   ]
  },
  {
   "cell_type": "markdown",
   "metadata": {},
   "source": [
    "The most profitable genres are shooter, sports, platform, role_playing, and fighting. Although action may have the highest sales, it also has the most number of games, which reduces the profitability for each game.\n",
    "\n",
    "In terms of correlations, the number of games has a strong positive correlation to the total sales, but a slightly negative correlation with profit per game. Those games with higher total sales are often accompanied by a large number of games and those that have lower total sales have a fewer number of games."
   ]
  },
  {
   "cell_type": "markdown",
   "metadata": {},
   "source": [
    "## Step 4: Create a User Profile for each Region"
   ]
  },
  {
   "cell_type": "markdown",
   "metadata": {},
   "source": [
    "For each region (NA, EU, JP), determine:"
   ]
  },
  {
   "cell_type": "markdown",
   "metadata": {},
   "source": [
    "#### The top five platforms. Describe variations in their market shares from region to region."
   ]
  },
  {
   "cell_type": "code",
   "execution_count": 45,
   "metadata": {},
   "outputs": [],
   "source": [
    "# group data into regions:\n",
    "na = df2.groupby('platform')['na_sales'].agg(['count', 'sum']).sort_values(by='sum', ascending=False).reset_index()\n",
    "na['mkt_share'] = (na['sum'] / na['sum'].sum())\n",
    "na.columns = ['platform', 'na_games', 'na_sales','na_mkt_share']\n",
    "\n",
    "eu = df2.groupby('platform')['eu_sales'].agg(['count', 'sum']).sort_values(by='sum', ascending=False).reset_index()\n",
    "eu['mkt_share'] = (eu['sum'] / eu['sum'].sum())\n",
    "eu.columns = ['platform', 'eu_games', 'eu_sales', 'eu_mkt_share']\n",
    "\n",
    "jp = df2.groupby('platform')['jp_sales'].agg(['count', 'sum']).sort_values(by='sum', ascending=False).reset_index()\n",
    "jp['mkt_share'] = (jp['sum'] / jp['sum'].sum())\n",
    "jp.columns = ['platform', 'jp_games', 'jp_sales', 'jp_mkt_share']"
   ]
  },
  {
   "cell_type": "code",
   "execution_count": 46,
   "metadata": {},
   "outputs": [
    {
     "data": {
      "text/html": [
       "<div>\n",
       "<style scoped>\n",
       "    .dataframe tbody tr th:only-of-type {\n",
       "        vertical-align: middle;\n",
       "    }\n",
       "\n",
       "    .dataframe tbody tr th {\n",
       "        vertical-align: top;\n",
       "    }\n",
       "\n",
       "    .dataframe thead th {\n",
       "        text-align: right;\n",
       "    }\n",
       "</style>\n",
       "<table border=\"1\" class=\"dataframe\">\n",
       "  <thead>\n",
       "    <tr style=\"text-align: right;\">\n",
       "      <th></th>\n",
       "      <th>platform</th>\n",
       "      <th>na_games</th>\n",
       "      <th>na_sales</th>\n",
       "      <th>na_mkt_share</th>\n",
       "    </tr>\n",
       "  </thead>\n",
       "  <tbody>\n",
       "    <tr>\n",
       "      <th>0</th>\n",
       "      <td>PS4</td>\n",
       "      <td>392</td>\n",
       "      <td>108.74</td>\n",
       "      <td>0.380982</td>\n",
       "    </tr>\n",
       "    <tr>\n",
       "      <th>1</th>\n",
       "      <td>XOne</td>\n",
       "      <td>247</td>\n",
       "      <td>93.12</td>\n",
       "      <td>0.326256</td>\n",
       "    </tr>\n",
       "    <tr>\n",
       "      <th>2</th>\n",
       "      <td>3DS</td>\n",
       "      <td>303</td>\n",
       "      <td>38.20</td>\n",
       "      <td>0.133838</td>\n",
       "    </tr>\n",
       "    <tr>\n",
       "      <th>3</th>\n",
       "      <td>WiiU</td>\n",
       "      <td>115</td>\n",
       "      <td>29.21</td>\n",
       "      <td>0.102340</td>\n",
       "    </tr>\n",
       "    <tr>\n",
       "      <th>4</th>\n",
       "      <td>PC</td>\n",
       "      <td>189</td>\n",
       "      <td>11.11</td>\n",
       "      <td>0.038925</td>\n",
       "    </tr>\n",
       "  </tbody>\n",
       "</table>\n",
       "</div>"
      ],
      "text/plain": [
       "  platform  na_games  na_sales  na_mkt_share\n",
       "0      PS4       392    108.74      0.380982\n",
       "1     XOne       247     93.12      0.326256\n",
       "2      3DS       303     38.20      0.133838\n",
       "3     WiiU       115     29.21      0.102340\n",
       "4       PC       189     11.11      0.038925"
      ]
     },
     "metadata": {},
     "output_type": "display_data"
    },
    {
     "data": {
      "text/html": [
       "<div>\n",
       "<style scoped>\n",
       "    .dataframe tbody tr th:only-of-type {\n",
       "        vertical-align: middle;\n",
       "    }\n",
       "\n",
       "    .dataframe tbody tr th {\n",
       "        vertical-align: top;\n",
       "    }\n",
       "\n",
       "    .dataframe thead th {\n",
       "        text-align: right;\n",
       "    }\n",
       "</style>\n",
       "<table border=\"1\" class=\"dataframe\">\n",
       "  <thead>\n",
       "    <tr style=\"text-align: right;\">\n",
       "      <th></th>\n",
       "      <th>platform</th>\n",
       "      <th>eu_games</th>\n",
       "      <th>eu_sales</th>\n",
       "      <th>eu_mkt_share</th>\n",
       "    </tr>\n",
       "  </thead>\n",
       "  <tbody>\n",
       "    <tr>\n",
       "      <th>0</th>\n",
       "      <td>PS4</td>\n",
       "      <td>392</td>\n",
       "      <td>141.09</td>\n",
       "      <td>0.513148</td>\n",
       "    </tr>\n",
       "    <tr>\n",
       "      <th>1</th>\n",
       "      <td>XOne</td>\n",
       "      <td>247</td>\n",
       "      <td>51.59</td>\n",
       "      <td>0.187634</td>\n",
       "    </tr>\n",
       "    <tr>\n",
       "      <th>2</th>\n",
       "      <td>3DS</td>\n",
       "      <td>303</td>\n",
       "      <td>30.96</td>\n",
       "      <td>0.112602</td>\n",
       "    </tr>\n",
       "    <tr>\n",
       "      <th>3</th>\n",
       "      <td>PC</td>\n",
       "      <td>189</td>\n",
       "      <td>25.36</td>\n",
       "      <td>0.092235</td>\n",
       "    </tr>\n",
       "    <tr>\n",
       "      <th>4</th>\n",
       "      <td>WiiU</td>\n",
       "      <td>115</td>\n",
       "      <td>19.85</td>\n",
       "      <td>0.072195</td>\n",
       "    </tr>\n",
       "  </tbody>\n",
       "</table>\n",
       "</div>"
      ],
      "text/plain": [
       "  platform  eu_games  eu_sales  eu_mkt_share\n",
       "0      PS4       392    141.09      0.513148\n",
       "1     XOne       247     51.59      0.187634\n",
       "2      3DS       303     30.96      0.112602\n",
       "3       PC       189     25.36      0.092235\n",
       "4     WiiU       115     19.85      0.072195"
      ]
     },
     "metadata": {},
     "output_type": "display_data"
    },
    {
     "data": {
      "text/html": [
       "<div>\n",
       "<style scoped>\n",
       "    .dataframe tbody tr th:only-of-type {\n",
       "        vertical-align: middle;\n",
       "    }\n",
       "\n",
       "    .dataframe tbody tr th {\n",
       "        vertical-align: top;\n",
       "    }\n",
       "\n",
       "    .dataframe thead th {\n",
       "        text-align: right;\n",
       "    }\n",
       "</style>\n",
       "<table border=\"1\" class=\"dataframe\">\n",
       "  <thead>\n",
       "    <tr style=\"text-align: right;\">\n",
       "      <th></th>\n",
       "      <th>platform</th>\n",
       "      <th>jp_games</th>\n",
       "      <th>jp_sales</th>\n",
       "      <th>jp_mkt_share</th>\n",
       "    </tr>\n",
       "  </thead>\n",
       "  <tbody>\n",
       "    <tr>\n",
       "      <th>0</th>\n",
       "      <td>3DS</td>\n",
       "      <td>303</td>\n",
       "      <td>67.81</td>\n",
       "      <td>0.597024</td>\n",
       "    </tr>\n",
       "    <tr>\n",
       "      <th>1</th>\n",
       "      <td>PSV</td>\n",
       "      <td>358</td>\n",
       "      <td>18.59</td>\n",
       "      <td>0.163673</td>\n",
       "    </tr>\n",
       "    <tr>\n",
       "      <th>2</th>\n",
       "      <td>PS4</td>\n",
       "      <td>392</td>\n",
       "      <td>15.96</td>\n",
       "      <td>0.140518</td>\n",
       "    </tr>\n",
       "    <tr>\n",
       "      <th>3</th>\n",
       "      <td>WiiU</td>\n",
       "      <td>115</td>\n",
       "      <td>10.88</td>\n",
       "      <td>0.095792</td>\n",
       "    </tr>\n",
       "    <tr>\n",
       "      <th>4</th>\n",
       "      <td>XOne</td>\n",
       "      <td>247</td>\n",
       "      <td>0.34</td>\n",
       "      <td>0.002993</td>\n",
       "    </tr>\n",
       "  </tbody>\n",
       "</table>\n",
       "</div>"
      ],
      "text/plain": [
       "  platform  jp_games  jp_sales  jp_mkt_share\n",
       "0      3DS       303     67.81      0.597024\n",
       "1      PSV       358     18.59      0.163673\n",
       "2      PS4       392     15.96      0.140518\n",
       "3     WiiU       115     10.88      0.095792\n",
       "4     XOne       247      0.34      0.002993"
      ]
     },
     "metadata": {},
     "output_type": "display_data"
    }
   ],
   "source": [
    "display(na.head(5))\n",
    "display(eu.head(5))\n",
    "display(jp.head(5))"
   ]
  },
  {
   "cell_type": "markdown",
   "metadata": {},
   "source": [
    "When split between the regions sales are somewhat similar in NA and EU, where both have nearly the same order in top selling platforms lead by the PS4, XOne, and 3DS. The PS4 is more dominant in EU, more than double the sales and market share of any other platform, while the XOne is a strong competitor with the PS4 in NA. JP on the other hand seems to prefer handheld platforms, particularly the 3DS and the PSV. General sales in JP are not as high as the other regions, but the region is dominated by the 3Ds with about 60% of market share."
   ]
  },
  {
   "cell_type": "markdown",
   "metadata": {},
   "source": [
    "#### The top five genres. Explain the difference."
   ]
  },
  {
   "cell_type": "code",
   "execution_count": 47,
   "metadata": {},
   "outputs": [],
   "source": [
    "nag = df2.groupby('genre')['na_sales'].agg(['count', 'sum']).sort_values(by='sum', ascending=False).reset_index()\n",
    "nag['g_share'] = nag['sum'] / nag['sum'].sum()\n",
    "nag.columns = ['genre', 'na_games', 'na_sales', 'na_gshare']\n",
    "\n",
    "eug = df2.groupby('genre')['eu_sales'].agg(['count', 'sum']).sort_values(by='sum', ascending=False).reset_index()\n",
    "eug['ppg'] = eug['sum'] / eug['sum'].sum()\n",
    "eug.columns = ['genre', 'eu_games', 'eu_sales', 'eu_gshare']\n",
    "\n",
    "jpg = df2.groupby('genre')['jp_sales'].agg(['count', 'sum']).sort_values(by='sum', ascending=False).reset_index()\n",
    "jpg['ppg'] = jpg['sum'] / jpg['sum'].sum()\n",
    "jpg.columns = ['genre', 'jp_games', 'jp_sales', 'jp_gshare']\n"
   ]
  },
  {
   "cell_type": "code",
   "execution_count": 48,
   "metadata": {},
   "outputs": [
    {
     "data": {
      "text/html": [
       "<div>\n",
       "<style scoped>\n",
       "    .dataframe tbody tr th:only-of-type {\n",
       "        vertical-align: middle;\n",
       "    }\n",
       "\n",
       "    .dataframe tbody tr th {\n",
       "        vertical-align: top;\n",
       "    }\n",
       "\n",
       "    .dataframe thead th {\n",
       "        text-align: right;\n",
       "    }\n",
       "</style>\n",
       "<table border=\"1\" class=\"dataframe\">\n",
       "  <thead>\n",
       "    <tr style=\"text-align: right;\">\n",
       "      <th></th>\n",
       "      <th>genre</th>\n",
       "      <th>na_games</th>\n",
       "      <th>na_sales</th>\n",
       "      <th>na_gshare</th>\n",
       "    </tr>\n",
       "  </thead>\n",
       "  <tbody>\n",
       "    <tr>\n",
       "      <th>0</th>\n",
       "      <td>Shooter</td>\n",
       "      <td>122</td>\n",
       "      <td>75.37</td>\n",
       "      <td>0.264067</td>\n",
       "    </tr>\n",
       "    <tr>\n",
       "      <th>1</th>\n",
       "      <td>Action</td>\n",
       "      <td>568</td>\n",
       "      <td>73.43</td>\n",
       "      <td>0.257270</td>\n",
       "    </tr>\n",
       "    <tr>\n",
       "      <th>2</th>\n",
       "      <td>Role-Playing</td>\n",
       "      <td>228</td>\n",
       "      <td>37.92</td>\n",
       "      <td>0.132857</td>\n",
       "    </tr>\n",
       "    <tr>\n",
       "      <th>3</th>\n",
       "      <td>Sports</td>\n",
       "      <td>127</td>\n",
       "      <td>37.09</td>\n",
       "      <td>0.129949</td>\n",
       "    </tr>\n",
       "    <tr>\n",
       "      <th>4</th>\n",
       "      <td>Platform</td>\n",
       "      <td>55</td>\n",
       "      <td>14.18</td>\n",
       "      <td>0.049681</td>\n",
       "    </tr>\n",
       "    <tr>\n",
       "      <th>5</th>\n",
       "      <td>Misc</td>\n",
       "      <td>112</td>\n",
       "      <td>12.69</td>\n",
       "      <td>0.044461</td>\n",
       "    </tr>\n",
       "    <tr>\n",
       "      <th>6</th>\n",
       "      <td>Fighting</td>\n",
       "      <td>48</td>\n",
       "      <td>12.10</td>\n",
       "      <td>0.042394</td>\n",
       "    </tr>\n",
       "    <tr>\n",
       "      <th>7</th>\n",
       "      <td>Racing</td>\n",
       "      <td>60</td>\n",
       "      <td>10.29</td>\n",
       "      <td>0.036052</td>\n",
       "    </tr>\n",
       "    <tr>\n",
       "      <th>8</th>\n",
       "      <td>Adventure</td>\n",
       "      <td>169</td>\n",
       "      <td>4.57</td>\n",
       "      <td>0.016011</td>\n",
       "    </tr>\n",
       "    <tr>\n",
       "      <th>9</th>\n",
       "      <td>Simulation</td>\n",
       "      <td>50</td>\n",
       "      <td>4.08</td>\n",
       "      <td>0.014295</td>\n",
       "    </tr>\n",
       "    <tr>\n",
       "      <th>10</th>\n",
       "      <td>Strategy</td>\n",
       "      <td>49</td>\n",
       "      <td>2.87</td>\n",
       "      <td>0.010055</td>\n",
       "    </tr>\n",
       "    <tr>\n",
       "      <th>11</th>\n",
       "      <td>Puzzle</td>\n",
       "      <td>16</td>\n",
       "      <td>0.83</td>\n",
       "      <td>0.002908</td>\n",
       "    </tr>\n",
       "  </tbody>\n",
       "</table>\n",
       "</div>"
      ],
      "text/plain": [
       "           genre  na_games  na_sales  na_gshare\n",
       "0        Shooter       122     75.37   0.264067\n",
       "1         Action       568     73.43   0.257270\n",
       "2   Role-Playing       228     37.92   0.132857\n",
       "3         Sports       127     37.09   0.129949\n",
       "4       Platform        55     14.18   0.049681\n",
       "5           Misc       112     12.69   0.044461\n",
       "6       Fighting        48     12.10   0.042394\n",
       "7         Racing        60     10.29   0.036052\n",
       "8      Adventure       169      4.57   0.016011\n",
       "9     Simulation        50      4.08   0.014295\n",
       "10      Strategy        49      2.87   0.010055\n",
       "11        Puzzle        16      0.83   0.002908"
      ]
     },
     "metadata": {},
     "output_type": "display_data"
    },
    {
     "data": {
      "text/html": [
       "<div>\n",
       "<style scoped>\n",
       "    .dataframe tbody tr th:only-of-type {\n",
       "        vertical-align: middle;\n",
       "    }\n",
       "\n",
       "    .dataframe tbody tr th {\n",
       "        vertical-align: top;\n",
       "    }\n",
       "\n",
       "    .dataframe thead th {\n",
       "        text-align: right;\n",
       "    }\n",
       "</style>\n",
       "<table border=\"1\" class=\"dataframe\">\n",
       "  <thead>\n",
       "    <tr style=\"text-align: right;\">\n",
       "      <th></th>\n",
       "      <th>genre</th>\n",
       "      <th>eu_games</th>\n",
       "      <th>eu_sales</th>\n",
       "      <th>eu_gshare</th>\n",
       "    </tr>\n",
       "  </thead>\n",
       "  <tbody>\n",
       "    <tr>\n",
       "      <th>0</th>\n",
       "      <td>Action</td>\n",
       "      <td>568</td>\n",
       "      <td>73.96</td>\n",
       "      <td>0.268994</td>\n",
       "    </tr>\n",
       "    <tr>\n",
       "      <th>1</th>\n",
       "      <td>Shooter</td>\n",
       "      <td>122</td>\n",
       "      <td>64.89</td>\n",
       "      <td>0.236007</td>\n",
       "    </tr>\n",
       "    <tr>\n",
       "      <th>2</th>\n",
       "      <td>Sports</td>\n",
       "      <td>127</td>\n",
       "      <td>38.63</td>\n",
       "      <td>0.140498</td>\n",
       "    </tr>\n",
       "    <tr>\n",
       "      <th>3</th>\n",
       "      <td>Role-Playing</td>\n",
       "      <td>228</td>\n",
       "      <td>32.00</td>\n",
       "      <td>0.116385</td>\n",
       "    </tr>\n",
       "    <tr>\n",
       "      <th>4</th>\n",
       "      <td>Racing</td>\n",
       "      <td>60</td>\n",
       "      <td>15.18</td>\n",
       "      <td>0.055210</td>\n",
       "    </tr>\n",
       "    <tr>\n",
       "      <th>5</th>\n",
       "      <td>Platform</td>\n",
       "      <td>55</td>\n",
       "      <td>12.16</td>\n",
       "      <td>0.044226</td>\n",
       "    </tr>\n",
       "    <tr>\n",
       "      <th>6</th>\n",
       "      <td>Misc</td>\n",
       "      <td>112</td>\n",
       "      <td>10.61</td>\n",
       "      <td>0.038589</td>\n",
       "    </tr>\n",
       "    <tr>\n",
       "      <th>7</th>\n",
       "      <td>Simulation</td>\n",
       "      <td>50</td>\n",
       "      <td>10.17</td>\n",
       "      <td>0.036989</td>\n",
       "    </tr>\n",
       "    <tr>\n",
       "      <th>8</th>\n",
       "      <td>Fighting</td>\n",
       "      <td>48</td>\n",
       "      <td>6.58</td>\n",
       "      <td>0.023932</td>\n",
       "    </tr>\n",
       "    <tr>\n",
       "      <th>9</th>\n",
       "      <td>Adventure</td>\n",
       "      <td>169</td>\n",
       "      <td>5.88</td>\n",
       "      <td>0.021386</td>\n",
       "    </tr>\n",
       "    <tr>\n",
       "      <th>10</th>\n",
       "      <td>Strategy</td>\n",
       "      <td>49</td>\n",
       "      <td>3.89</td>\n",
       "      <td>0.014148</td>\n",
       "    </tr>\n",
       "    <tr>\n",
       "      <th>11</th>\n",
       "      <td>Puzzle</td>\n",
       "      <td>16</td>\n",
       "      <td>1.00</td>\n",
       "      <td>0.003637</td>\n",
       "    </tr>\n",
       "  </tbody>\n",
       "</table>\n",
       "</div>"
      ],
      "text/plain": [
       "           genre  eu_games  eu_sales  eu_gshare\n",
       "0         Action       568     73.96   0.268994\n",
       "1        Shooter       122     64.89   0.236007\n",
       "2         Sports       127     38.63   0.140498\n",
       "3   Role-Playing       228     32.00   0.116385\n",
       "4         Racing        60     15.18   0.055210\n",
       "5       Platform        55     12.16   0.044226\n",
       "6           Misc       112     10.61   0.038589\n",
       "7     Simulation        50     10.17   0.036989\n",
       "8       Fighting        48      6.58   0.023932\n",
       "9      Adventure       169      5.88   0.021386\n",
       "10      Strategy        49      3.89   0.014148\n",
       "11        Puzzle        16      1.00   0.003637"
      ]
     },
     "metadata": {},
     "output_type": "display_data"
    },
    {
     "data": {
      "text/html": [
       "<div>\n",
       "<style scoped>\n",
       "    .dataframe tbody tr th:only-of-type {\n",
       "        vertical-align: middle;\n",
       "    }\n",
       "\n",
       "    .dataframe tbody tr th {\n",
       "        vertical-align: top;\n",
       "    }\n",
       "\n",
       "    .dataframe thead th {\n",
       "        text-align: right;\n",
       "    }\n",
       "</style>\n",
       "<table border=\"1\" class=\"dataframe\">\n",
       "  <thead>\n",
       "    <tr style=\"text-align: right;\">\n",
       "      <th></th>\n",
       "      <th>genre</th>\n",
       "      <th>jp_games</th>\n",
       "      <th>jp_sales</th>\n",
       "      <th>jp_gshare</th>\n",
       "    </tr>\n",
       "  </thead>\n",
       "  <tbody>\n",
       "    <tr>\n",
       "      <th>0</th>\n",
       "      <td>Role-Playing</td>\n",
       "      <td>228</td>\n",
       "      <td>44.84</td>\n",
       "      <td>0.394788</td>\n",
       "    </tr>\n",
       "    <tr>\n",
       "      <th>1</th>\n",
       "      <td>Action</td>\n",
       "      <td>568</td>\n",
       "      <td>29.87</td>\n",
       "      <td>0.262986</td>\n",
       "    </tr>\n",
       "    <tr>\n",
       "      <th>2</th>\n",
       "      <td>Misc</td>\n",
       "      <td>112</td>\n",
       "      <td>8.27</td>\n",
       "      <td>0.072812</td>\n",
       "    </tr>\n",
       "    <tr>\n",
       "      <th>3</th>\n",
       "      <td>Fighting</td>\n",
       "      <td>48</td>\n",
       "      <td>5.33</td>\n",
       "      <td>0.046927</td>\n",
       "    </tr>\n",
       "    <tr>\n",
       "      <th>4</th>\n",
       "      <td>Platform</td>\n",
       "      <td>55</td>\n",
       "      <td>4.75</td>\n",
       "      <td>0.041821</td>\n",
       "    </tr>\n",
       "    <tr>\n",
       "      <th>5</th>\n",
       "      <td>Shooter</td>\n",
       "      <td>122</td>\n",
       "      <td>4.56</td>\n",
       "      <td>0.040148</td>\n",
       "    </tr>\n",
       "    <tr>\n",
       "      <th>6</th>\n",
       "      <td>Adventure</td>\n",
       "      <td>169</td>\n",
       "      <td>4.37</td>\n",
       "      <td>0.038475</td>\n",
       "    </tr>\n",
       "    <tr>\n",
       "      <th>7</th>\n",
       "      <td>Simulation</td>\n",
       "      <td>50</td>\n",
       "      <td>4.29</td>\n",
       "      <td>0.037771</td>\n",
       "    </tr>\n",
       "    <tr>\n",
       "      <th>8</th>\n",
       "      <td>Sports</td>\n",
       "      <td>127</td>\n",
       "      <td>3.05</td>\n",
       "      <td>0.026853</td>\n",
       "    </tr>\n",
       "    <tr>\n",
       "      <th>9</th>\n",
       "      <td>Racing</td>\n",
       "      <td>60</td>\n",
       "      <td>1.68</td>\n",
       "      <td>0.014791</td>\n",
       "    </tr>\n",
       "    <tr>\n",
       "      <th>10</th>\n",
       "      <td>Strategy</td>\n",
       "      <td>49</td>\n",
       "      <td>1.43</td>\n",
       "      <td>0.012590</td>\n",
       "    </tr>\n",
       "    <tr>\n",
       "      <th>11</th>\n",
       "      <td>Puzzle</td>\n",
       "      <td>16</td>\n",
       "      <td>1.14</td>\n",
       "      <td>0.010037</td>\n",
       "    </tr>\n",
       "  </tbody>\n",
       "</table>\n",
       "</div>"
      ],
      "text/plain": [
       "           genre  jp_games  jp_sales  jp_gshare\n",
       "0   Role-Playing       228     44.84   0.394788\n",
       "1         Action       568     29.87   0.262986\n",
       "2           Misc       112      8.27   0.072812\n",
       "3       Fighting        48      5.33   0.046927\n",
       "4       Platform        55      4.75   0.041821\n",
       "5        Shooter       122      4.56   0.040148\n",
       "6      Adventure       169      4.37   0.038475\n",
       "7     Simulation        50      4.29   0.037771\n",
       "8         Sports       127      3.05   0.026853\n",
       "9         Racing        60      1.68   0.014791\n",
       "10      Strategy        49      1.43   0.012590\n",
       "11        Puzzle        16      1.14   0.010037"
      ]
     },
     "metadata": {},
     "output_type": "display_data"
    }
   ],
   "source": [
    "display(nag)\n",
    "display(eug)\n",
    "display(jpg)"
   ]
  },
  {
   "cell_type": "markdown",
   "metadata": {},
   "source": [
    "Similar to platforms, NA and EU have a similar breakdown for top selling genres. The top for in both are action, shooter, role-playing, and sports. For both fo those regions these top four categories take up about 75% of the market share. It seems logical that since the two regions have the same popular platforms, they are exposed to the same popular games and specific genres of games that come on those platforms. On the other hand JP prefers role-playing games more than anything with nearly 40% of the market. The role0playing genre and the action genre are the only two in the JP region with a market share greater than 10%. The sports genre, which is popular in NA and EU (ranked 3 and 4 respectively), is ranke rather low in Japan at number 9 which could be due to the fact that sports may be more popular in NA and EU."
   ]
  },
  {
   "cell_type": "markdown",
   "metadata": {},
   "source": [
    "#### Do ESRB ratings affect sales in individual regions?"
   ]
  },
  {
   "cell_type": "code",
   "execution_count": 49,
   "metadata": {},
   "outputs": [
    {
     "data": {
      "text/plain": [
       "No Rating    727\n",
       "M            255\n",
       "T            238\n",
       "E            206\n",
       "E10+         178\n",
       "Name: rating, dtype: int64"
      ]
     },
     "execution_count": 49,
     "metadata": {},
     "output_type": "execute_result"
    }
   ],
   "source": [
    "df2['rating'].value_counts()"
   ]
  },
  {
   "cell_type": "code",
   "execution_count": 50,
   "metadata": {},
   "outputs": [],
   "source": [
    "na_rate = df2.groupby('rating')['na_sales'].agg(['count', 'sum']).sort_values(by='sum', ascending=False).reset_index()\n",
    "na_rate.columns = ['rating', 'na_games', 'na_sales']\n",
    "\n",
    "eu_rate = df2.groupby('rating')['eu_sales'].agg(['count', 'sum']).sort_values(by='sum', ascending=False).reset_index()\n",
    "eu_rate.columns = ['rating', 'eu_games', 'eu_sales']\n",
    "\n",
    "jp_rate = df2.groupby('rating')['jp_sales'].agg(['count', 'sum']).sort_values(by='sum', ascending=False).reset_index()\n",
    "eu_rate.columns = ['rating', 'eu_games', 'eu_sales']"
   ]
  },
  {
   "cell_type": "code",
   "execution_count": 51,
   "metadata": {},
   "outputs": [
    {
     "data": {
      "text/html": [
       "<div>\n",
       "<style scoped>\n",
       "    .dataframe tbody tr th:only-of-type {\n",
       "        vertical-align: middle;\n",
       "    }\n",
       "\n",
       "    .dataframe tbody tr th {\n",
       "        vertical-align: top;\n",
       "    }\n",
       "\n",
       "    .dataframe thead th {\n",
       "        text-align: right;\n",
       "    }\n",
       "</style>\n",
       "<table border=\"1\" class=\"dataframe\">\n",
       "  <thead>\n",
       "    <tr style=\"text-align: right;\">\n",
       "      <th></th>\n",
       "      <th>rating</th>\n",
       "      <th>na_games</th>\n",
       "      <th>na_sales</th>\n",
       "    </tr>\n",
       "  </thead>\n",
       "  <tbody>\n",
       "    <tr>\n",
       "      <th>0</th>\n",
       "      <td>M</td>\n",
       "      <td>255</td>\n",
       "      <td>97.05</td>\n",
       "    </tr>\n",
       "    <tr>\n",
       "      <th>1</th>\n",
       "      <td>No Rating</td>\n",
       "      <td>727</td>\n",
       "      <td>68.68</td>\n",
       "    </tr>\n",
       "    <tr>\n",
       "      <th>2</th>\n",
       "      <td>E</td>\n",
       "      <td>206</td>\n",
       "      <td>52.37</td>\n",
       "    </tr>\n",
       "    <tr>\n",
       "      <th>3</th>\n",
       "      <td>T</td>\n",
       "      <td>238</td>\n",
       "      <td>35.07</td>\n",
       "    </tr>\n",
       "    <tr>\n",
       "      <th>4</th>\n",
       "      <td>E10+</td>\n",
       "      <td>178</td>\n",
       "      <td>32.25</td>\n",
       "    </tr>\n",
       "  </tbody>\n",
       "</table>\n",
       "</div>"
      ],
      "text/plain": [
       "      rating  na_games  na_sales\n",
       "0          M       255     97.05\n",
       "1  No Rating       727     68.68\n",
       "2          E       206     52.37\n",
       "3          T       238     35.07\n",
       "4       E10+       178     32.25"
      ]
     },
     "metadata": {},
     "output_type": "display_data"
    },
    {
     "data": {
      "text/html": [
       "<div>\n",
       "<style scoped>\n",
       "    .dataframe tbody tr th:only-of-type {\n",
       "        vertical-align: middle;\n",
       "    }\n",
       "\n",
       "    .dataframe tbody tr th {\n",
       "        vertical-align: top;\n",
       "    }\n",
       "\n",
       "    .dataframe thead th {\n",
       "        text-align: right;\n",
       "    }\n",
       "</style>\n",
       "<table border=\"1\" class=\"dataframe\">\n",
       "  <thead>\n",
       "    <tr style=\"text-align: right;\">\n",
       "      <th></th>\n",
       "      <th>rating</th>\n",
       "      <th>eu_games</th>\n",
       "      <th>eu_sales</th>\n",
       "    </tr>\n",
       "  </thead>\n",
       "  <tbody>\n",
       "    <tr>\n",
       "      <th>0</th>\n",
       "      <td>M</td>\n",
       "      <td>255</td>\n",
       "      <td>94.51</td>\n",
       "    </tr>\n",
       "    <tr>\n",
       "      <th>1</th>\n",
       "      <td>No Rating</td>\n",
       "      <td>727</td>\n",
       "      <td>63.54</td>\n",
       "    </tr>\n",
       "    <tr>\n",
       "      <th>2</th>\n",
       "      <td>E</td>\n",
       "      <td>206</td>\n",
       "      <td>58.00</td>\n",
       "    </tr>\n",
       "    <tr>\n",
       "      <th>3</th>\n",
       "      <td>T</td>\n",
       "      <td>238</td>\n",
       "      <td>32.60</td>\n",
       "    </tr>\n",
       "    <tr>\n",
       "      <th>4</th>\n",
       "      <td>E10+</td>\n",
       "      <td>178</td>\n",
       "      <td>26.30</td>\n",
       "    </tr>\n",
       "  </tbody>\n",
       "</table>\n",
       "</div>"
      ],
      "text/plain": [
       "      rating  eu_games  eu_sales\n",
       "0          M       255     94.51\n",
       "1  No Rating       727     63.54\n",
       "2          E       206     58.00\n",
       "3          T       238     32.60\n",
       "4       E10+       178     26.30"
      ]
     },
     "metadata": {},
     "output_type": "display_data"
    },
    {
     "data": {
      "text/html": [
       "<div>\n",
       "<style scoped>\n",
       "    .dataframe tbody tr th:only-of-type {\n",
       "        vertical-align: middle;\n",
       "    }\n",
       "\n",
       "    .dataframe tbody tr th {\n",
       "        vertical-align: top;\n",
       "    }\n",
       "\n",
       "    .dataframe thead th {\n",
       "        text-align: right;\n",
       "    }\n",
       "</style>\n",
       "<table border=\"1\" class=\"dataframe\">\n",
       "  <thead>\n",
       "    <tr style=\"text-align: right;\">\n",
       "      <th></th>\n",
       "      <th>rating</th>\n",
       "      <th>count</th>\n",
       "      <th>sum</th>\n",
       "    </tr>\n",
       "  </thead>\n",
       "  <tbody>\n",
       "    <tr>\n",
       "      <th>0</th>\n",
       "      <td>No Rating</td>\n",
       "      <td>727</td>\n",
       "      <td>72.97</td>\n",
       "    </tr>\n",
       "    <tr>\n",
       "      <th>1</th>\n",
       "      <td>T</td>\n",
       "      <td>238</td>\n",
       "      <td>13.52</td>\n",
       "    </tr>\n",
       "    <tr>\n",
       "      <th>2</th>\n",
       "      <td>E</td>\n",
       "      <td>206</td>\n",
       "      <td>13.26</td>\n",
       "    </tr>\n",
       "    <tr>\n",
       "      <th>3</th>\n",
       "      <td>M</td>\n",
       "      <td>255</td>\n",
       "      <td>8.17</td>\n",
       "    </tr>\n",
       "    <tr>\n",
       "      <th>4</th>\n",
       "      <td>E10+</td>\n",
       "      <td>178</td>\n",
       "      <td>5.66</td>\n",
       "    </tr>\n",
       "  </tbody>\n",
       "</table>\n",
       "</div>"
      ],
      "text/plain": [
       "      rating  count    sum\n",
       "0  No Rating    727  72.97\n",
       "1          T    238  13.52\n",
       "2          E    206  13.26\n",
       "3          M    255   8.17\n",
       "4       E10+    178   5.66"
      ]
     },
     "metadata": {},
     "output_type": "display_data"
    }
   ],
   "source": [
    "display(na_rate)\n",
    "display(eu_rate)\n",
    "display(jp_rate)"
   ]
  },
  {
   "cell_type": "markdown",
   "metadata": {},
   "source": [
    "It is difficult to conclude how much of an effect ESRB rating has on sales. Since a large portion of games do not have a rating, and the proportion in each region of games without a rating is significant, knowing what category they fall in could have a major effect on results. So the fact that 'No Rating' games have the 1st or 2nd highest sales in each reason means it cannot be ignored, but it makes the conclusions ambiguous.\n",
    "\n",
    "Based on the ratings that are available, games rated M top the charts in NA and EU, showing further evidence of how similar these markets are in the platforms, genres, and rated games they buy. JP is different again with no rating topping the chart by more the 5x the next rating, which makes it unknown to us whether we can conclude anything in Japan. What we can say by the rating compared to the other regions is that JP sales of M rated games are much less."
   ]
  },
  {
   "cell_type": "markdown",
   "metadata": {},
   "source": [
    "## Step 5: Test the Hypotheses"
   ]
  },
  {
   "cell_type": "markdown",
   "metadata": {},
   "source": [
    "\n",
    "Explain:\n",
    "- How you formulated the null and alternative hypotheses\n",
    "- What significance level you chose to test the hypotheses, and why"
   ]
  },
  {
   "cell_type": "markdown",
   "metadata": {},
   "source": [
    "### Hypothesis 1:\n",
    "- Null: The average user ratings of the Xbox One and PC platforms are the same\n",
    "- Alternative: The average user ratings of the Xbox One and PC platforms are not the same"
   ]
  },
  {
   "cell_type": "code",
   "execution_count": 52,
   "metadata": {},
   "outputs": [
    {
     "name": "stdout",
     "output_type": "stream",
     "text": [
      "Hypothesis 1 Results: \n",
      "\n",
      "p-value:  0.15507335579117215\n",
      "We can't reject the null hypothesis\n"
     ]
    }
   ],
   "source": [
    "xs = df2[df2['platform'] == 'XOne']\n",
    "ps = df2[df2['platform'] == 'PC']\n",
    "\n",
    "samp_1 = xs['user_score']\n",
    "samp_2 = ps['user_score']\n",
    "alpha = 0.05\n",
    "\n",
    "print('Hypothesis 1 Results: \\n')\n",
    "\n",
    "results = st.mannwhitneyu(samp_1, samp_2)\n",
    "\n",
    "print('p-value: ', results.pvalue)\n",
    "\n",
    "if (results.pvalue < alpha):\n",
    "        print(\"We reject the null hypothesis\")\n",
    "else:\n",
    "        print(\"We can't reject the null hypothesis\")"
   ]
  },
  {
   "cell_type": "markdown",
   "metadata": {},
   "source": [
    "Using the alpha of 0.05, we find that we are unable to reject the null. The p-value of 0.155, which is above the alpha, is too high to reject that the average user scores for XOne and PC are the same."
   ]
  },
  {
   "cell_type": "markdown",
   "metadata": {},
   "source": [
    "### Hypothesis 2:\n",
    "- Null: The average user ratings for the Action and Sports genres are different.\n",
    "- Alternative: The average user ratings for the Action and Sports genres are not significantly different."
   ]
  },
  {
   "cell_type": "code",
   "execution_count": 53,
   "metadata": {},
   "outputs": [
    {
     "name": "stdout",
     "output_type": "stream",
     "text": [
      "Hypothesis 2 Results: \n",
      "\n",
      "p-value:  0.04774636719589825\n",
      "We reject the null hypothesis\n"
     ]
    }
   ],
   "source": [
    "action = df2[df2['genre'] == 'Action']\n",
    "sports = df2[df2['genre'] == 'Sports']\n",
    "\n",
    "s_1 = action['user_score']\n",
    "s_2 = sports['user_score']\n",
    "alpha = 0.05\n",
    "\n",
    "print('Hypothesis 2 Results: \\n')\n",
    "\n",
    "res = st.mannwhitneyu(s_1, s_2)\n",
    "\n",
    "print('p-value: ', res.pvalue)\n",
    "\n",
    "if (res.pvalue < alpha):\n",
    "        print(\"We reject the null hypothesis\")\n",
    "else:\n",
    "        print(\"We can't reject the null hypothesis\")"
   ]
  },
  {
   "cell_type": "markdown",
   "metadata": {},
   "source": [
    "Using the alpha of 0.05, we reject the null hypothesis that the average user scores for action and sport genres differ. The p-value falls just below our set alpha causng us to reject."
   ]
  },
  {
   "cell_type": "markdown",
   "metadata": {},
   "source": [
    "## Step 6: General Conclusion"
   ]
  },
  {
   "cell_type": "markdown",
   "metadata": {},
   "source": [
    "- The overall strategy for Ice should stick with the latest platform models that are most popular in each region. The market is nearing the end of the life cycle for some of the platforms, but there is still potential for hit games to come out. \n",
    "- Regionally we see many similarities in the NA and EU markets, but some important differences in the JP region. In NA and EU, they prefer the larger platforms (PS4, XONE), games with action and sports, and those with M ratings. In JP on the other hand, they seem to prefer the handheld platforms such as the 3DS and the PSV, playing mainly role-playing games where the ESRB rating is unclear, but unlikely to be rated M. These are the areas that should be focused on in each of the regions.\n",
    "- The store should also recognize the power of critic scores. They have a higher positive correlation to sales, when compared to user scores. This does not mean that higher critic scores cause higher sales, but games that have high critic scores a more likely to sell more."
   ]
  }
 ],
 "metadata": {
  "kernelspec": {
   "display_name": "Python 3",
   "language": "python",
   "name": "python3"
  },
  "language_info": {
   "codemirror_mode": {
    "name": "ipython",
    "version": 3
   },
   "file_extension": ".py",
   "mimetype": "text/x-python",
   "name": "python",
   "nbconvert_exporter": "python",
   "pygments_lexer": "ipython3",
   "version": "3.7.6"
  }
 },
 "nbformat": 4,
 "nbformat_minor": 4
}
