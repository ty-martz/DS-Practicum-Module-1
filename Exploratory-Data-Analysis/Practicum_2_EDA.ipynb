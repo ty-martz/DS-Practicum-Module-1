{
 "cells": [
  {
   "cell_type": "markdown",
   "metadata": {},
   "source": [
    "# Project 2: Exploratory Data Analysis\n",
    "\n",
    "Analyzing data on properties for sale"
   ]
  },
  {
   "cell_type": "code",
   "execution_count": 1,
   "metadata": {},
   "outputs": [],
   "source": [
    "import pandas as pd\n",
    "import matplotlib.pyplot as plt"
   ]
  },
  {
   "cell_type": "markdown",
   "metadata": {},
   "source": [
    "Importing pandas for data analysis and matplotlib for some plotting features\n",
    "\n",
    "## Part 1) Upload and read the dataset"
   ]
  },
  {
   "cell_type": "code",
   "execution_count": 2,
   "metadata": {},
   "outputs": [
    {
     "name": "stderr",
     "output_type": "stream",
     "text": [
      "/Users/Ty/opt/anaconda3/lib/python3.7/site-packages/ipykernel_launcher.py:1: ParserWarning: Falling back to the 'python' engine because the 'c' engine does not support regex separators (separators > 1 char and different from '\\s+' are interpreted as regex); you can avoid this warning by specifying engine='python'.\n",
      "  \"\"\"Entry point for launching an IPython kernel.\n"
     ]
    }
   ],
   "source": [
    "df = pd.read_csv('real_estate_data_us.csv', sep='\\\\t')"
   ]
  },
  {
   "cell_type": "code",
   "execution_count": 3,
   "metadata": {},
   "outputs": [
    {
     "data": {
      "text/html": [
       "<div>\n",
       "<style scoped>\n",
       "    .dataframe tbody tr th:only-of-type {\n",
       "        vertical-align: middle;\n",
       "    }\n",
       "\n",
       "    .dataframe tbody tr th {\n",
       "        vertical-align: top;\n",
       "    }\n",
       "\n",
       "    .dataframe thead th {\n",
       "        text-align: right;\n",
       "    }\n",
       "</style>\n",
       "<table border=\"1\" class=\"dataframe\">\n",
       "  <thead>\n",
       "    <tr style=\"text-align: right;\">\n",
       "      <th></th>\n",
       "      <th>date_posted</th>\n",
       "      <th>days_listed</th>\n",
       "      <th>last_price</th>\n",
       "      <th>bedrooms</th>\n",
       "      <th>kitchen_area</th>\n",
       "      <th>living_area</th>\n",
       "      <th>total_area</th>\n",
       "      <th>balconies</th>\n",
       "      <th>ceiling_height</th>\n",
       "      <th>floors_total</th>\n",
       "      <th>...</th>\n",
       "      <th>bike_parking</th>\n",
       "      <th>is_studio</th>\n",
       "      <th>is_open_plan</th>\n",
       "      <th>locality_name</th>\n",
       "      <th>airport_dist</th>\n",
       "      <th>city_center_dist</th>\n",
       "      <th>park_dist</th>\n",
       "      <th>parks_within_3000</th>\n",
       "      <th>pond_dist</th>\n",
       "      <th>ponds_within_3000</th>\n",
       "    </tr>\n",
       "  </thead>\n",
       "  <tbody>\n",
       "    <tr>\n",
       "      <th>0</th>\n",
       "      <td>2019-03-07T00:00:00</td>\n",
       "      <td>NaN</td>\n",
       "      <td>260000.0</td>\n",
       "      <td>3</td>\n",
       "      <td>25.0</td>\n",
       "      <td>51.0</td>\n",
       "      <td>108.0</td>\n",
       "      <td>NaN</td>\n",
       "      <td>2.70</td>\n",
       "      <td>16.0</td>\n",
       "      <td>...</td>\n",
       "      <td>NaN</td>\n",
       "      <td>False</td>\n",
       "      <td>False</td>\n",
       "      <td>Saint Petersburg</td>\n",
       "      <td>18863.0</td>\n",
       "      <td>16028.0</td>\n",
       "      <td>482.0</td>\n",
       "      <td>1.0</td>\n",
       "      <td>755.0</td>\n",
       "      <td>2.0</td>\n",
       "    </tr>\n",
       "    <tr>\n",
       "      <th>1</th>\n",
       "      <td>2018-12-04T00:00:00</td>\n",
       "      <td>81.0</td>\n",
       "      <td>67000.0</td>\n",
       "      <td>1</td>\n",
       "      <td>11.0</td>\n",
       "      <td>18.6</td>\n",
       "      <td>40.4</td>\n",
       "      <td>2.0</td>\n",
       "      <td>NaN</td>\n",
       "      <td>11.0</td>\n",
       "      <td>...</td>\n",
       "      <td>NaN</td>\n",
       "      <td>False</td>\n",
       "      <td>False</td>\n",
       "      <td>Shushary village</td>\n",
       "      <td>12817.0</td>\n",
       "      <td>18603.0</td>\n",
       "      <td>NaN</td>\n",
       "      <td>0.0</td>\n",
       "      <td>NaN</td>\n",
       "      <td>0.0</td>\n",
       "    </tr>\n",
       "    <tr>\n",
       "      <th>2</th>\n",
       "      <td>2015-08-20T00:00:00</td>\n",
       "      <td>558.0</td>\n",
       "      <td>103920.0</td>\n",
       "      <td>2</td>\n",
       "      <td>8.3</td>\n",
       "      <td>34.3</td>\n",
       "      <td>56.0</td>\n",
       "      <td>0.0</td>\n",
       "      <td>NaN</td>\n",
       "      <td>5.0</td>\n",
       "      <td>...</td>\n",
       "      <td>NaN</td>\n",
       "      <td>False</td>\n",
       "      <td>False</td>\n",
       "      <td>Saint Petersburg</td>\n",
       "      <td>21741.0</td>\n",
       "      <td>13933.0</td>\n",
       "      <td>90.0</td>\n",
       "      <td>1.0</td>\n",
       "      <td>574.0</td>\n",
       "      <td>2.0</td>\n",
       "    </tr>\n",
       "    <tr>\n",
       "      <th>3</th>\n",
       "      <td>2015-07-24T00:00:00</td>\n",
       "      <td>424.0</td>\n",
       "      <td>1298000.0</td>\n",
       "      <td>3</td>\n",
       "      <td>NaN</td>\n",
       "      <td>NaN</td>\n",
       "      <td>159.0</td>\n",
       "      <td>0.0</td>\n",
       "      <td>NaN</td>\n",
       "      <td>14.0</td>\n",
       "      <td>...</td>\n",
       "      <td>NaN</td>\n",
       "      <td>False</td>\n",
       "      <td>False</td>\n",
       "      <td>Saint Petersburg</td>\n",
       "      <td>28098.0</td>\n",
       "      <td>6800.0</td>\n",
       "      <td>84.0</td>\n",
       "      <td>2.0</td>\n",
       "      <td>234.0</td>\n",
       "      <td>3.0</td>\n",
       "    </tr>\n",
       "    <tr>\n",
       "      <th>4</th>\n",
       "      <td>2018-06-19T00:00:00</td>\n",
       "      <td>121.0</td>\n",
       "      <td>200000.0</td>\n",
       "      <td>2</td>\n",
       "      <td>41.0</td>\n",
       "      <td>32.0</td>\n",
       "      <td>100.0</td>\n",
       "      <td>NaN</td>\n",
       "      <td>3.03</td>\n",
       "      <td>14.0</td>\n",
       "      <td>...</td>\n",
       "      <td>NaN</td>\n",
       "      <td>False</td>\n",
       "      <td>False</td>\n",
       "      <td>Saint Petersburg</td>\n",
       "      <td>31856.0</td>\n",
       "      <td>8098.0</td>\n",
       "      <td>112.0</td>\n",
       "      <td>2.0</td>\n",
       "      <td>48.0</td>\n",
       "      <td>1.0</td>\n",
       "    </tr>\n",
       "  </tbody>\n",
       "</table>\n",
       "<p>5 rows × 22 columns</p>\n",
       "</div>"
      ],
      "text/plain": [
       "           date_posted  days_listed  last_price  bedrooms  kitchen_area  \\\n",
       "0  2019-03-07T00:00:00          NaN    260000.0         3          25.0   \n",
       "1  2018-12-04T00:00:00         81.0     67000.0         1          11.0   \n",
       "2  2015-08-20T00:00:00        558.0    103920.0         2           8.3   \n",
       "3  2015-07-24T00:00:00        424.0   1298000.0         3           NaN   \n",
       "4  2018-06-19T00:00:00        121.0    200000.0         2          41.0   \n",
       "\n",
       "   living_area  total_area  balconies  ceiling_height  floors_total  ...  \\\n",
       "0         51.0       108.0        NaN            2.70          16.0  ...   \n",
       "1         18.6        40.4        2.0             NaN          11.0  ...   \n",
       "2         34.3        56.0        0.0             NaN           5.0  ...   \n",
       "3          NaN       159.0        0.0             NaN          14.0  ...   \n",
       "4         32.0       100.0        NaN            3.03          14.0  ...   \n",
       "\n",
       "   bike_parking  is_studio is_open_plan     locality_name  airport_dist  \\\n",
       "0           NaN      False        False  Saint Petersburg       18863.0   \n",
       "1           NaN      False        False  Shushary village       12817.0   \n",
       "2           NaN      False        False  Saint Petersburg       21741.0   \n",
       "3           NaN      False        False  Saint Petersburg       28098.0   \n",
       "4           NaN      False        False  Saint Petersburg       31856.0   \n",
       "\n",
       "  city_center_dist  park_dist  parks_within_3000  pond_dist  ponds_within_3000  \n",
       "0          16028.0      482.0                1.0      755.0                2.0  \n",
       "1          18603.0        NaN                0.0        NaN                0.0  \n",
       "2          13933.0       90.0                1.0      574.0                2.0  \n",
       "3           6800.0       84.0                2.0      234.0                3.0  \n",
       "4           8098.0      112.0                2.0       48.0                1.0  \n",
       "\n",
       "[5 rows x 22 columns]"
      ]
     },
     "execution_count": 3,
     "metadata": {},
     "output_type": "execute_result"
    }
   ],
   "source": [
    "df.head()"
   ]
  },
  {
   "cell_type": "code",
   "execution_count": 4,
   "metadata": {},
   "outputs": [
    {
     "data": {
      "text/plain": [
       "(23699, 22)"
      ]
     },
     "execution_count": 4,
     "metadata": {},
     "output_type": "execute_result"
    }
   ],
   "source": [
    "df.shape"
   ]
  },
  {
   "cell_type": "markdown",
   "metadata": {},
   "source": [
    "#### All distance in Meters, Area in Sq Meters, Price in Dollars"
   ]
  },
  {
   "cell_type": "markdown",
   "metadata": {},
   "source": [
    "## Part 2) Preprocess the Data\n",
    "\n",
    "Find, fill, or leave missing values\n",
    "Convert data types"
   ]
  },
  {
   "cell_type": "code",
   "execution_count": 5,
   "metadata": {},
   "outputs": [
    {
     "data": {
      "text/plain": [
       "date_posted              0\n",
       "days_listed           3181\n",
       "last_price               0\n",
       "bedrooms                 0\n",
       "kitchen_area          2278\n",
       "living_area           1903\n",
       "total_area               0\n",
       "balconies            11519\n",
       "ceiling_height        9195\n",
       "floors_total            86\n",
       "floor                    0\n",
       "total_images             0\n",
       "bike_parking         20924\n",
       "is_studio                0\n",
       "is_open_plan             0\n",
       "locality_name           49\n",
       "airport_dist          5542\n",
       "city_center_dist      5519\n",
       "park_dist            15620\n",
       "parks_within_3000     5518\n",
       "pond_dist            14589\n",
       "ponds_within_3000     5518\n",
       "dtype: int64"
      ]
     },
     "execution_count": 5,
     "metadata": {},
     "output_type": "execute_result"
    }
   ],
   "source": [
    "df.isna().sum()"
   ]
  },
  {
   "cell_type": "markdown",
   "metadata": {},
   "source": [
    "#### What to do With NaNs:\n",
    "- Convert the following to 0 because the NaNs likely mean that there are none\n",
    "    - balconies, parks_within_3000, ponds_within_3000\n",
    "- Convert the following to 4000 because the distance measured is within 3000 in other columns so I increase the value to 4000 so that I know listing with that value are more the 3000 meters from a pond or park\n",
    "    - park_dist, pond_dist\n",
    "- Convert the following to the median value of the column. After looking at the histogram for each, they are either relatively normal or they are skewed to the right so the median would be the best measurement to fill in\n",
    "    - days_listed, ceiling_height, airport_dist, city_center_dist\n",
    "- Converting each of these to a calculation that is equal to 1/4 the size of the total area. Many of the NaNs here are likely because the listed apartment is a studio so everything is in one room and the lines for each are (kitchen, living, bed, bathroom) are unclear. So here I fill in this value for those missing to give a general idea of the space. If I calculate using column average or median, it is possible that a one of these spaces would be calculated as larger than the total_area of the apartment which does not make sense.\n",
    "    - kitchen_area, living_area\n",
    "- Converting NaNs to equal the floor that the apartment is listed to be on, since I don't want to asume another number and have floors_total < floor which would be illogical. \n",
    "    - floors_total\n",
    "- bike_parking: convert NaNs to False because it is a boolean and I will assume that if there is no value then there is no bike parking\n",
    "- locality_name: Drop since there are only 49 NaNs and it will have a minimal effect on the data"
   ]
  },
  {
   "cell_type": "code",
   "execution_count": 6,
   "metadata": {},
   "outputs": [
    {
     "data": {
      "text/plain": [
       "date_posted          0\n",
       "days_listed          0\n",
       "last_price           0\n",
       "bedrooms             0\n",
       "kitchen_area         0\n",
       "living_area          0\n",
       "total_area           0\n",
       "balconies            0\n",
       "ceiling_height       0\n",
       "floors_total         0\n",
       "floor                0\n",
       "total_images         0\n",
       "bike_parking         0\n",
       "is_studio            0\n",
       "is_open_plan         0\n",
       "locality_name        0\n",
       "airport_dist         0\n",
       "city_center_dist     0\n",
       "park_dist            0\n",
       "parks_within_3000    0\n",
       "pond_dist            0\n",
       "ponds_within_3000    0\n",
       "dtype: int64"
      ]
     },
     "execution_count": 6,
     "metadata": {},
     "output_type": "execute_result"
    }
   ],
   "source": [
    "df[['balconies', 'parks_within_3000', 'ponds_within_3000']] = df[['balconies', 'parks_within_3000', 'ponds_within_3000']].fillna(0)\n",
    "df[['park_dist', 'pond_dist']] = df[['park_dist', 'pond_dist']].fillna(4000)\n",
    "df[['days_listed', 'ceiling_height', 'airport_dist', 'city_center_dist']] = df[['days_listed', 'ceiling_height', 'airport_dist', 'city_center_dist']].fillna(df.median())\n",
    "df['kitchen_area'] = df['kitchen_area'].fillna(df['total_area']/4)\n",
    "df['living_area'] = df['living_area'].fillna(df['total_area']/4)\n",
    "df['floors_total'] = df['floors_total'].fillna(df['floor'])\n",
    "df['bike_parking'] = df['bike_parking'].fillna(False)\n",
    "df.dropna(subset=['locality_name'], inplace=True)\n",
    "df.isna().sum()"
   ]
  },
  {
   "cell_type": "code",
   "execution_count": 7,
   "metadata": {},
   "outputs": [
    {
     "data": {
      "text/plain": [
       "(23650, 22)"
      ]
     },
     "execution_count": 7,
     "metadata": {},
     "output_type": "execute_result"
    }
   ],
   "source": [
    "df.shape"
   ]
  },
  {
   "cell_type": "markdown",
   "metadata": {},
   "source": [
    "#### Check and convert Data Types"
   ]
  },
  {
   "cell_type": "code",
   "execution_count": 8,
   "metadata": {},
   "outputs": [
    {
     "data": {
      "text/plain": [
       "date_posted           object\n",
       "days_listed          float64\n",
       "last_price           float64\n",
       "bedrooms               int64\n",
       "kitchen_area         float64\n",
       "living_area          float64\n",
       "total_area           float64\n",
       "balconies            float64\n",
       "ceiling_height       float64\n",
       "floors_total         float64\n",
       "floor                  int64\n",
       "total_images           int64\n",
       "bike_parking            bool\n",
       "is_studio               bool\n",
       "is_open_plan            bool\n",
       "locality_name         object\n",
       "airport_dist         float64\n",
       "city_center_dist     float64\n",
       "park_dist            float64\n",
       "parks_within_3000    float64\n",
       "pond_dist            float64\n",
       "ponds_within_3000    float64\n",
       "dtype: object"
      ]
     },
     "execution_count": 8,
     "metadata": {},
     "output_type": "execute_result"
    }
   ],
   "source": [
    "df.dtypes"
   ]
  },
  {
   "cell_type": "markdown",
   "metadata": {},
   "source": [
    "#### Data types to convert\n",
    "- Convert date to standard time and format\n",
    "- All floats can be converted to ints except for kitchen_area, living_area, total_area, and ceiling_height\n",
    "    - Since those should all be integers we can ignore the decimal by converting them\n",
    "- bike_parking current type is object, but values are T/F, Convert to bool"
   ]
  },
  {
   "cell_type": "code",
   "execution_count": 9,
   "metadata": {},
   "outputs": [],
   "source": [
    "df['date_posted'] = pd.to_datetime(df['date_posted'], format='%Y-%m-%dT%H:%M:%S')"
   ]
  },
  {
   "cell_type": "code",
   "execution_count": 10,
   "metadata": {},
   "outputs": [
    {
     "data": {
      "text/plain": [
       "date_posted          datetime64[ns]\n",
       "days_listed                   int64\n",
       "last_price                    int64\n",
       "bedrooms                      int64\n",
       "kitchen_area                float64\n",
       "living_area                 float64\n",
       "total_area                  float64\n",
       "balconies                     int64\n",
       "ceiling_height              float64\n",
       "floors_total                  int64\n",
       "floor                         int64\n",
       "total_images                  int64\n",
       "bike_parking                   bool\n",
       "is_studio                      bool\n",
       "is_open_plan                   bool\n",
       "locality_name                object\n",
       "airport_dist                  int64\n",
       "city_center_dist              int64\n",
       "park_dist                     int64\n",
       "parks_within_3000             int64\n",
       "pond_dist                     int64\n",
       "ponds_within_3000             int64\n",
       "dtype: object"
      ]
     },
     "execution_count": 10,
     "metadata": {},
     "output_type": "execute_result"
    }
   ],
   "source": [
    "to_be_int = {'days_listed':int, 'last_price':int, 'balconies':int, 'floors_total':int, 'airport_dist':int, 'city_center_dist':int, 'park_dist':int, 'parks_within_3000':int, 'pond_dist':int, 'ponds_within_3000':int}\n",
    "df = df.astype(to_be_int)\n",
    "df['bike_parking'] = df['bike_parking'].astype(bool)\n",
    "df.dtypes"
   ]
  },
  {
   "cell_type": "code",
   "execution_count": 11,
   "metadata": {},
   "outputs": [
    {
     "data": {
      "text/html": [
       "<div>\n",
       "<style scoped>\n",
       "    .dataframe tbody tr th:only-of-type {\n",
       "        vertical-align: middle;\n",
       "    }\n",
       "\n",
       "    .dataframe tbody tr th {\n",
       "        vertical-align: top;\n",
       "    }\n",
       "\n",
       "    .dataframe thead th {\n",
       "        text-align: right;\n",
       "    }\n",
       "</style>\n",
       "<table border=\"1\" class=\"dataframe\">\n",
       "  <thead>\n",
       "    <tr style=\"text-align: right;\">\n",
       "      <th></th>\n",
       "      <th>date_posted</th>\n",
       "      <th>days_listed</th>\n",
       "      <th>last_price</th>\n",
       "      <th>bedrooms</th>\n",
       "      <th>kitchen_area</th>\n",
       "      <th>living_area</th>\n",
       "      <th>total_area</th>\n",
       "      <th>balconies</th>\n",
       "      <th>ceiling_height</th>\n",
       "      <th>floors_total</th>\n",
       "      <th>...</th>\n",
       "      <th>bike_parking</th>\n",
       "      <th>is_studio</th>\n",
       "      <th>is_open_plan</th>\n",
       "      <th>locality_name</th>\n",
       "      <th>airport_dist</th>\n",
       "      <th>city_center_dist</th>\n",
       "      <th>park_dist</th>\n",
       "      <th>parks_within_3000</th>\n",
       "      <th>pond_dist</th>\n",
       "      <th>ponds_within_3000</th>\n",
       "    </tr>\n",
       "  </thead>\n",
       "  <tbody>\n",
       "    <tr>\n",
       "      <th>0</th>\n",
       "      <td>2019-03-07</td>\n",
       "      <td>95</td>\n",
       "      <td>260000</td>\n",
       "      <td>3</td>\n",
       "      <td>25.00</td>\n",
       "      <td>51.00</td>\n",
       "      <td>108.0</td>\n",
       "      <td>0</td>\n",
       "      <td>2.70</td>\n",
       "      <td>16</td>\n",
       "      <td>...</td>\n",
       "      <td>False</td>\n",
       "      <td>False</td>\n",
       "      <td>False</td>\n",
       "      <td>Saint Petersburg</td>\n",
       "      <td>18863</td>\n",
       "      <td>16028</td>\n",
       "      <td>482</td>\n",
       "      <td>1</td>\n",
       "      <td>755</td>\n",
       "      <td>2</td>\n",
       "    </tr>\n",
       "    <tr>\n",
       "      <th>1</th>\n",
       "      <td>2018-12-04</td>\n",
       "      <td>81</td>\n",
       "      <td>67000</td>\n",
       "      <td>1</td>\n",
       "      <td>11.00</td>\n",
       "      <td>18.60</td>\n",
       "      <td>40.4</td>\n",
       "      <td>2</td>\n",
       "      <td>2.65</td>\n",
       "      <td>11</td>\n",
       "      <td>...</td>\n",
       "      <td>False</td>\n",
       "      <td>False</td>\n",
       "      <td>False</td>\n",
       "      <td>Shushary village</td>\n",
       "      <td>12817</td>\n",
       "      <td>18603</td>\n",
       "      <td>4000</td>\n",
       "      <td>0</td>\n",
       "      <td>4000</td>\n",
       "      <td>0</td>\n",
       "    </tr>\n",
       "    <tr>\n",
       "      <th>2</th>\n",
       "      <td>2015-08-20</td>\n",
       "      <td>558</td>\n",
       "      <td>103920</td>\n",
       "      <td>2</td>\n",
       "      <td>8.30</td>\n",
       "      <td>34.30</td>\n",
       "      <td>56.0</td>\n",
       "      <td>0</td>\n",
       "      <td>2.65</td>\n",
       "      <td>5</td>\n",
       "      <td>...</td>\n",
       "      <td>False</td>\n",
       "      <td>False</td>\n",
       "      <td>False</td>\n",
       "      <td>Saint Petersburg</td>\n",
       "      <td>21741</td>\n",
       "      <td>13933</td>\n",
       "      <td>90</td>\n",
       "      <td>1</td>\n",
       "      <td>574</td>\n",
       "      <td>2</td>\n",
       "    </tr>\n",
       "    <tr>\n",
       "      <th>3</th>\n",
       "      <td>2015-07-24</td>\n",
       "      <td>424</td>\n",
       "      <td>1298000</td>\n",
       "      <td>3</td>\n",
       "      <td>39.75</td>\n",
       "      <td>39.75</td>\n",
       "      <td>159.0</td>\n",
       "      <td>0</td>\n",
       "      <td>2.65</td>\n",
       "      <td>14</td>\n",
       "      <td>...</td>\n",
       "      <td>False</td>\n",
       "      <td>False</td>\n",
       "      <td>False</td>\n",
       "      <td>Saint Petersburg</td>\n",
       "      <td>28098</td>\n",
       "      <td>6800</td>\n",
       "      <td>84</td>\n",
       "      <td>2</td>\n",
       "      <td>234</td>\n",
       "      <td>3</td>\n",
       "    </tr>\n",
       "    <tr>\n",
       "      <th>4</th>\n",
       "      <td>2018-06-19</td>\n",
       "      <td>121</td>\n",
       "      <td>200000</td>\n",
       "      <td>2</td>\n",
       "      <td>41.00</td>\n",
       "      <td>32.00</td>\n",
       "      <td>100.0</td>\n",
       "      <td>0</td>\n",
       "      <td>3.03</td>\n",
       "      <td>14</td>\n",
       "      <td>...</td>\n",
       "      <td>False</td>\n",
       "      <td>False</td>\n",
       "      <td>False</td>\n",
       "      <td>Saint Petersburg</td>\n",
       "      <td>31856</td>\n",
       "      <td>8098</td>\n",
       "      <td>112</td>\n",
       "      <td>2</td>\n",
       "      <td>48</td>\n",
       "      <td>1</td>\n",
       "    </tr>\n",
       "  </tbody>\n",
       "</table>\n",
       "<p>5 rows × 22 columns</p>\n",
       "</div>"
      ],
      "text/plain": [
       "  date_posted  days_listed  last_price  bedrooms  kitchen_area  living_area  \\\n",
       "0  2019-03-07           95      260000         3         25.00        51.00   \n",
       "1  2018-12-04           81       67000         1         11.00        18.60   \n",
       "2  2015-08-20          558      103920         2          8.30        34.30   \n",
       "3  2015-07-24          424     1298000         3         39.75        39.75   \n",
       "4  2018-06-19          121      200000         2         41.00        32.00   \n",
       "\n",
       "   total_area  balconies  ceiling_height  floors_total  ...  bike_parking  \\\n",
       "0       108.0          0            2.70            16  ...         False   \n",
       "1        40.4          2            2.65            11  ...         False   \n",
       "2        56.0          0            2.65             5  ...         False   \n",
       "3       159.0          0            2.65            14  ...         False   \n",
       "4       100.0          0            3.03            14  ...         False   \n",
       "\n",
       "   is_studio  is_open_plan     locality_name  airport_dist city_center_dist  \\\n",
       "0      False         False  Saint Petersburg         18863            16028   \n",
       "1      False         False  Shushary village         12817            18603   \n",
       "2      False         False  Saint Petersburg         21741            13933   \n",
       "3      False         False  Saint Petersburg         28098             6800   \n",
       "4      False         False  Saint Petersburg         31856             8098   \n",
       "\n",
       "   park_dist  parks_within_3000  pond_dist  ponds_within_3000  \n",
       "0        482                  1        755                  2  \n",
       "1       4000                  0       4000                  0  \n",
       "2         90                  1        574                  2  \n",
       "3         84                  2        234                  3  \n",
       "4        112                  2         48                  1  \n",
       "\n",
       "[5 rows x 22 columns]"
      ]
     },
     "execution_count": 11,
     "metadata": {},
     "output_type": "execute_result"
    }
   ],
   "source": [
    "df.head()"
   ]
  },
  {
   "cell_type": "markdown",
   "metadata": {},
   "source": [
    "## Part 3) Make Calculations and Add Columns\n",
    "- Price per sq meter\n",
    "- Day of week, month, and year the ad was published\n",
    "- Which floor the apartment is on\n",
    "- Ratio between living space and total area\n",
    "- Ratio between kitchen space and total area"
   ]
  },
  {
   "cell_type": "code",
   "execution_count": 12,
   "metadata": {},
   "outputs": [
    {
     "data": {
      "text/html": [
       "<div>\n",
       "<style scoped>\n",
       "    .dataframe tbody tr th:only-of-type {\n",
       "        vertical-align: middle;\n",
       "    }\n",
       "\n",
       "    .dataframe tbody tr th {\n",
       "        vertical-align: top;\n",
       "    }\n",
       "\n",
       "    .dataframe thead th {\n",
       "        text-align: right;\n",
       "    }\n",
       "</style>\n",
       "<table border=\"1\" class=\"dataframe\">\n",
       "  <thead>\n",
       "    <tr style=\"text-align: right;\">\n",
       "      <th></th>\n",
       "      <th>last_price</th>\n",
       "      <th>total_area</th>\n",
       "      <th>ppsm</th>\n",
       "    </tr>\n",
       "  </thead>\n",
       "  <tbody>\n",
       "    <tr>\n",
       "      <th>0</th>\n",
       "      <td>260000</td>\n",
       "      <td>108.0</td>\n",
       "      <td>2407</td>\n",
       "    </tr>\n",
       "    <tr>\n",
       "      <th>1</th>\n",
       "      <td>67000</td>\n",
       "      <td>40.4</td>\n",
       "      <td>1658</td>\n",
       "    </tr>\n",
       "    <tr>\n",
       "      <th>2</th>\n",
       "      <td>103920</td>\n",
       "      <td>56.0</td>\n",
       "      <td>1855</td>\n",
       "    </tr>\n",
       "    <tr>\n",
       "      <th>3</th>\n",
       "      <td>1298000</td>\n",
       "      <td>159.0</td>\n",
       "      <td>8163</td>\n",
       "    </tr>\n",
       "    <tr>\n",
       "      <th>4</th>\n",
       "      <td>200000</td>\n",
       "      <td>100.0</td>\n",
       "      <td>2000</td>\n",
       "    </tr>\n",
       "  </tbody>\n",
       "</table>\n",
       "</div>"
      ],
      "text/plain": [
       "   last_price  total_area  ppsm\n",
       "0      260000       108.0  2407\n",
       "1       67000        40.4  1658\n",
       "2      103920        56.0  1855\n",
       "3     1298000       159.0  8163\n",
       "4      200000       100.0  2000"
      ]
     },
     "execution_count": 12,
     "metadata": {},
     "output_type": "execute_result"
    }
   ],
   "source": [
    "df['ppsm'] = (df['last_price'] / df['total_area']).astype(int)\n",
    "\n",
    "df[['last_price', 'total_area', 'ppsm']].head()"
   ]
  },
  {
   "cell_type": "code",
   "execution_count": 13,
   "metadata": {},
   "outputs": [
    {
     "data": {
      "text/html": [
       "<div>\n",
       "<style scoped>\n",
       "    .dataframe tbody tr th:only-of-type {\n",
       "        vertical-align: middle;\n",
       "    }\n",
       "\n",
       "    .dataframe tbody tr th {\n",
       "        vertical-align: top;\n",
       "    }\n",
       "\n",
       "    .dataframe thead th {\n",
       "        text-align: right;\n",
       "    }\n",
       "</style>\n",
       "<table border=\"1\" class=\"dataframe\">\n",
       "  <thead>\n",
       "    <tr style=\"text-align: right;\">\n",
       "      <th></th>\n",
       "      <th>date_posted</th>\n",
       "      <th>weekday_posted</th>\n",
       "      <th>month_posted</th>\n",
       "      <th>year_posted</th>\n",
       "    </tr>\n",
       "  </thead>\n",
       "  <tbody>\n",
       "    <tr>\n",
       "      <th>0</th>\n",
       "      <td>2019-03-07</td>\n",
       "      <td>3</td>\n",
       "      <td>3</td>\n",
       "      <td>2019</td>\n",
       "    </tr>\n",
       "    <tr>\n",
       "      <th>1</th>\n",
       "      <td>2018-12-04</td>\n",
       "      <td>1</td>\n",
       "      <td>12</td>\n",
       "      <td>2018</td>\n",
       "    </tr>\n",
       "    <tr>\n",
       "      <th>2</th>\n",
       "      <td>2015-08-20</td>\n",
       "      <td>3</td>\n",
       "      <td>8</td>\n",
       "      <td>2015</td>\n",
       "    </tr>\n",
       "    <tr>\n",
       "      <th>3</th>\n",
       "      <td>2015-07-24</td>\n",
       "      <td>4</td>\n",
       "      <td>7</td>\n",
       "      <td>2015</td>\n",
       "    </tr>\n",
       "    <tr>\n",
       "      <th>4</th>\n",
       "      <td>2018-06-19</td>\n",
       "      <td>1</td>\n",
       "      <td>6</td>\n",
       "      <td>2018</td>\n",
       "    </tr>\n",
       "  </tbody>\n",
       "</table>\n",
       "</div>"
      ],
      "text/plain": [
       "  date_posted  weekday_posted  month_posted  year_posted\n",
       "0  2019-03-07               3             3         2019\n",
       "1  2018-12-04               1            12         2018\n",
       "2  2015-08-20               3             8         2015\n",
       "3  2015-07-24               4             7         2015\n",
       "4  2018-06-19               1             6         2018"
      ]
     },
     "execution_count": 13,
     "metadata": {},
     "output_type": "execute_result"
    }
   ],
   "source": [
    "df['weekday_posted'] = df['date_posted'].dt.weekday\n",
    "df['month_posted'] = df['date_posted'].dt.month\n",
    "df['year_posted'] = df['date_posted'].dt.year\n",
    "\n",
    "df[['date_posted', 'weekday_posted', 'month_posted', 'year_posted']].head()"
   ]
  },
  {
   "cell_type": "code",
   "execution_count": 14,
   "metadata": {},
   "outputs": [
    {
     "data": {
      "text/html": [
       "<div>\n",
       "<style scoped>\n",
       "    .dataframe tbody tr th:only-of-type {\n",
       "        vertical-align: middle;\n",
       "    }\n",
       "\n",
       "    .dataframe tbody tr th {\n",
       "        vertical-align: top;\n",
       "    }\n",
       "\n",
       "    .dataframe thead th {\n",
       "        text-align: right;\n",
       "    }\n",
       "</style>\n",
       "<table border=\"1\" class=\"dataframe\">\n",
       "  <thead>\n",
       "    <tr style=\"text-align: right;\">\n",
       "      <th></th>\n",
       "      <th>floor</th>\n",
       "      <th>floors_total</th>\n",
       "      <th>floor_group</th>\n",
       "    </tr>\n",
       "  </thead>\n",
       "  <tbody>\n",
       "    <tr>\n",
       "      <th>0</th>\n",
       "      <td>8</td>\n",
       "      <td>16</td>\n",
       "      <td>other</td>\n",
       "    </tr>\n",
       "    <tr>\n",
       "      <th>1</th>\n",
       "      <td>1</td>\n",
       "      <td>11</td>\n",
       "      <td>first_floor</td>\n",
       "    </tr>\n",
       "    <tr>\n",
       "      <th>2</th>\n",
       "      <td>4</td>\n",
       "      <td>5</td>\n",
       "      <td>other</td>\n",
       "    </tr>\n",
       "    <tr>\n",
       "      <th>3</th>\n",
       "      <td>9</td>\n",
       "      <td>14</td>\n",
       "      <td>other</td>\n",
       "    </tr>\n",
       "    <tr>\n",
       "      <th>4</th>\n",
       "      <td>13</td>\n",
       "      <td>14</td>\n",
       "      <td>other</td>\n",
       "    </tr>\n",
       "  </tbody>\n",
       "</table>\n",
       "</div>"
      ],
      "text/plain": [
       "   floor  floors_total  floor_group\n",
       "0      8            16        other\n",
       "1      1            11  first_floor\n",
       "2      4             5        other\n",
       "3      9            14        other\n",
       "4     13            14        other"
      ]
     },
     "execution_count": 14,
     "metadata": {},
     "output_type": "execute_result"
    }
   ],
   "source": [
    "def floor_group(d):\n",
    "    '''\n",
    "    this takes the floor number and groups them either on the first floor, top floor, or other\n",
    "    '''\n",
    "    if d[10] == 1:\n",
    "        return 'first_floor'\n",
    "    if d[10] == d[9]:\n",
    "        return 'top_floor'\n",
    "    return 'other'\n",
    "\n",
    "df['floor_group'] = df.apply(floor_group, axis=1)\n",
    "\n",
    "df[['floor', 'floors_total', 'floor_group']].head()"
   ]
  },
  {
   "cell_type": "code",
   "execution_count": 15,
   "metadata": {},
   "outputs": [
    {
     "data": {
      "text/html": [
       "<div>\n",
       "<style scoped>\n",
       "    .dataframe tbody tr th:only-of-type {\n",
       "        vertical-align: middle;\n",
       "    }\n",
       "\n",
       "    .dataframe tbody tr th {\n",
       "        vertical-align: top;\n",
       "    }\n",
       "\n",
       "    .dataframe thead th {\n",
       "        text-align: right;\n",
       "    }\n",
       "</style>\n",
       "<table border=\"1\" class=\"dataframe\">\n",
       "  <thead>\n",
       "    <tr style=\"text-align: right;\">\n",
       "      <th></th>\n",
       "      <th>living_area</th>\n",
       "      <th>kitchen_area</th>\n",
       "      <th>total_area</th>\n",
       "      <th>living_ratio</th>\n",
       "      <th>kitchen_ratio</th>\n",
       "    </tr>\n",
       "  </thead>\n",
       "  <tbody>\n",
       "    <tr>\n",
       "      <th>0</th>\n",
       "      <td>51.00</td>\n",
       "      <td>25.00</td>\n",
       "      <td>108.0</td>\n",
       "      <td>0.47</td>\n",
       "      <td>0.23</td>\n",
       "    </tr>\n",
       "    <tr>\n",
       "      <th>1</th>\n",
       "      <td>18.60</td>\n",
       "      <td>11.00</td>\n",
       "      <td>40.4</td>\n",
       "      <td>0.46</td>\n",
       "      <td>0.27</td>\n",
       "    </tr>\n",
       "    <tr>\n",
       "      <th>2</th>\n",
       "      <td>34.30</td>\n",
       "      <td>8.30</td>\n",
       "      <td>56.0</td>\n",
       "      <td>0.61</td>\n",
       "      <td>0.15</td>\n",
       "    </tr>\n",
       "    <tr>\n",
       "      <th>3</th>\n",
       "      <td>39.75</td>\n",
       "      <td>39.75</td>\n",
       "      <td>159.0</td>\n",
       "      <td>0.25</td>\n",
       "      <td>0.25</td>\n",
       "    </tr>\n",
       "    <tr>\n",
       "      <th>4</th>\n",
       "      <td>32.00</td>\n",
       "      <td>41.00</td>\n",
       "      <td>100.0</td>\n",
       "      <td>0.32</td>\n",
       "      <td>0.41</td>\n",
       "    </tr>\n",
       "  </tbody>\n",
       "</table>\n",
       "</div>"
      ],
      "text/plain": [
       "   living_area  kitchen_area  total_area  living_ratio  kitchen_ratio\n",
       "0        51.00         25.00       108.0          0.47           0.23\n",
       "1        18.60         11.00        40.4          0.46           0.27\n",
       "2        34.30          8.30        56.0          0.61           0.15\n",
       "3        39.75         39.75       159.0          0.25           0.25\n",
       "4        32.00         41.00       100.0          0.32           0.41"
      ]
     },
     "execution_count": 15,
     "metadata": {},
     "output_type": "execute_result"
    }
   ],
   "source": [
    "df['living_ratio'] = round((df['living_area'] / df['total_area']),2)\n",
    "df['kitchen_ratio'] = round((df['kitchen_area'] / df['total_area']),2)\n",
    "\n",
    "df[['living_area', 'kitchen_area', 'total_area', 'living_ratio', 'kitchen_ratio']].head()"
   ]
  },
  {
   "cell_type": "code",
   "execution_count": 16,
   "metadata": {},
   "outputs": [
    {
     "data": {
      "text/html": [
       "<div>\n",
       "<style scoped>\n",
       "    .dataframe tbody tr th:only-of-type {\n",
       "        vertical-align: middle;\n",
       "    }\n",
       "\n",
       "    .dataframe tbody tr th {\n",
       "        vertical-align: top;\n",
       "    }\n",
       "\n",
       "    .dataframe thead th {\n",
       "        text-align: right;\n",
       "    }\n",
       "</style>\n",
       "<table border=\"1\" class=\"dataframe\">\n",
       "  <thead>\n",
       "    <tr style=\"text-align: right;\">\n",
       "      <th></th>\n",
       "      <th>ppsm</th>\n",
       "      <th>weekday_posted</th>\n",
       "      <th>month_posted</th>\n",
       "      <th>year_posted</th>\n",
       "      <th>floor_group</th>\n",
       "      <th>living_ratio</th>\n",
       "      <th>kitchen_ratio</th>\n",
       "    </tr>\n",
       "  </thead>\n",
       "  <tbody>\n",
       "    <tr>\n",
       "      <th>0</th>\n",
       "      <td>2407</td>\n",
       "      <td>3</td>\n",
       "      <td>3</td>\n",
       "      <td>2019</td>\n",
       "      <td>other</td>\n",
       "      <td>0.47</td>\n",
       "      <td>0.23</td>\n",
       "    </tr>\n",
       "    <tr>\n",
       "      <th>1</th>\n",
       "      <td>1658</td>\n",
       "      <td>1</td>\n",
       "      <td>12</td>\n",
       "      <td>2018</td>\n",
       "      <td>first_floor</td>\n",
       "      <td>0.46</td>\n",
       "      <td>0.27</td>\n",
       "    </tr>\n",
       "    <tr>\n",
       "      <th>2</th>\n",
       "      <td>1855</td>\n",
       "      <td>3</td>\n",
       "      <td>8</td>\n",
       "      <td>2015</td>\n",
       "      <td>other</td>\n",
       "      <td>0.61</td>\n",
       "      <td>0.15</td>\n",
       "    </tr>\n",
       "    <tr>\n",
       "      <th>3</th>\n",
       "      <td>8163</td>\n",
       "      <td>4</td>\n",
       "      <td>7</td>\n",
       "      <td>2015</td>\n",
       "      <td>other</td>\n",
       "      <td>0.25</td>\n",
       "      <td>0.25</td>\n",
       "    </tr>\n",
       "    <tr>\n",
       "      <th>4</th>\n",
       "      <td>2000</td>\n",
       "      <td>1</td>\n",
       "      <td>6</td>\n",
       "      <td>2018</td>\n",
       "      <td>other</td>\n",
       "      <td>0.32</td>\n",
       "      <td>0.41</td>\n",
       "    </tr>\n",
       "  </tbody>\n",
       "</table>\n",
       "</div>"
      ],
      "text/plain": [
       "   ppsm  weekday_posted  month_posted  year_posted  floor_group  living_ratio  \\\n",
       "0  2407               3             3         2019        other          0.47   \n",
       "1  1658               1            12         2018  first_floor          0.46   \n",
       "2  1855               3             8         2015        other          0.61   \n",
       "3  8163               4             7         2015        other          0.25   \n",
       "4  2000               1             6         2018        other          0.32   \n",
       "\n",
       "   kitchen_ratio  \n",
       "0           0.23  \n",
       "1           0.27  \n",
       "2           0.15  \n",
       "3           0.25  \n",
       "4           0.41  "
      ]
     },
     "execution_count": 16,
     "metadata": {},
     "output_type": "execute_result"
    }
   ],
   "source": [
    "new_cols = df.iloc[:,22:].copy()\n",
    "new_cols.head()"
   ]
  },
  {
   "cell_type": "markdown",
   "metadata": {},
   "source": [
    "## Part 4) Exploratory Analysis\n",
    "- Histograms, Correlations, Scatteplots, Mean/Median, Outliers, etc."
   ]
  },
  {
   "cell_type": "markdown",
   "metadata": {},
   "source": [
    "#### Histograms: \n",
    "- square area\n",
    "    - Filtered outliers above 200\n",
    "- price\n",
    "    - Filtered outliers above 300000\n",
    "- number of rooms\n",
    "    - Filtered outliers above 15\n",
    "- ceiling height\n",
    "    - "
   ]
  },
  {
   "cell_type": "code",
   "execution_count": 17,
   "metadata": {},
   "outputs": [
    {
     "name": "stdout",
     "output_type": "stream",
     "text": [
      "Min: 12.0\n",
      "Max: 900.0\n"
     ]
    },
    {
     "data": {
      "text/plain": [
       "<matplotlib.axes._subplots.AxesSubplot at 0x7f8bc4352450>"
      ]
     },
     "execution_count": 17,
     "metadata": {},
     "output_type": "execute_result"
    },
    {
     "data": {
      "image/png": "[encoded data removed]",
      "text/plain": [
       "<Figure size 432x288 with 1 Axes>"
      ]
     },
     "metadata": {
      "needs_background": "light"
     },
     "output_type": "display_data"
    }
   ],
   "source": [
    "print('Min:', df['total_area'].min())\n",
    "print('Max:', df['total_area'].max())\n",
    "area_filt = df[df['total_area'] <= 200]\n",
    "area_filt.plot(y='total_area', kind='hist', title='total_area', bins=100, grid=True)"
   ]
  },
  {
   "cell_type": "code",
   "execution_count": 18,
   "metadata": {},
   "outputs": [
    {
     "name": "stdout",
     "output_type": "stream",
     "text": [
      "Min: 244\n",
      "Max: 15260000\n"
     ]
    },
    {
     "data": {
      "text/plain": [
       "<matplotlib.axes._subplots.AxesSubplot at 0x7f8bc45c4a10>"
      ]
     },
     "execution_count": 18,
     "metadata": {},
     "output_type": "execute_result"
    },
    {
     "data": {
      "image/png": "[encoded data removed]",
      "text/plain": [
       "<Figure size 432x288 with 1 Axes>"
      ]
     },
     "metadata": {
      "needs_background": "light"
     },
     "output_type": "display_data"
    }
   ],
   "source": [
    "print('Min:', df['last_price'].min())\n",
    "print('Max:', df['last_price'].max())\n",
    "price_filt = df[df['last_price'] <= 300000]\n",
    "price_filt.plot(y='last_price', kind='hist', title='last_price', range=(0,300000), bins=100, grid=True)"
   ]
  },
  {
   "cell_type": "code",
   "execution_count": 19,
   "metadata": {},
   "outputs": [
    {
     "name": "stdout",
     "output_type": "stream",
     "text": [
      "Min: 0\n",
      "Max: 19\n"
     ]
    },
    {
     "data": {
      "text/plain": [
       "<matplotlib.axes._subplots.AxesSubplot at 0x7f8bc4599510>"
      ]
     },
     "execution_count": 19,
     "metadata": {},
     "output_type": "execute_result"
    },
    {
     "data": {
      "image/png": "[encoded data removed]",
      "text/plain": [
       "<Figure size 432x288 with 1 Axes>"
      ]
     },
     "metadata": {
      "needs_background": "light"
     },
     "output_type": "display_data"
    }
   ],
   "source": [
    "print('Min:', df['bedrooms'].min())\n",
    "print('Max:', df['bedrooms'].max())\n",
    "room_filt = df[df['bedrooms'] <= 15]\n",
    "room_filt.plot(y='bedrooms', kind='hist', title='bedrooms', range=(0,15), bins=15, grid=True)"
   ]
  },
  {
   "cell_type": "code",
   "execution_count": 20,
   "metadata": {},
   "outputs": [
    {
     "name": "stdout",
     "output_type": "stream",
     "text": [
      "Min: 1.0\n",
      "Max: 100.0\n"
     ]
    },
    {
     "data": {
      "text/plain": [
       "<matplotlib.axes._subplots.AxesSubplot at 0x7f8bc4608790>"
      ]
     },
     "execution_count": 20,
     "metadata": {},
     "output_type": "execute_result"
    },
    {
     "data": {
      "image/png": "[encoded data removed]",
      "text/plain": [
       "<Figure size 432x288 with 1 Axes>"
      ]
     },
     "metadata": {
      "needs_background": "light"
     },
     "output_type": "display_data"
    }
   ],
   "source": [
    "print('Min:', df['ceiling_height'].min())\n",
    "print('Max:', df['ceiling_height'].max())\n",
    "ch_filt = df[df['ceiling_height'] <= 5]\n",
    "ch_filt.plot(y='ceiling_height', kind='hist', title='ceiling_height', range=(0,5), bins=10, grid=True)"
   ]
  },
  {
   "cell_type": "markdown",
   "metadata": {},
   "source": [
    "#### Time to sell an apartment:\n",
    "- Mean and Median times"
   ]
  },
  {
   "cell_type": "code",
   "execution_count": 21,
   "metadata": {
    "scrolled": false
   },
   "outputs": [
    {
     "name": "stdout",
     "output_type": "stream",
     "text": [
      "Mean value: 169.22274841437633\n",
      "Median value: 95.0\n",
      "\n",
      "Description:\n",
      "count    23650.000000\n",
      "mean       169.222748\n",
      "std        206.550577\n",
      "min          1.000000\n",
      "25%         45.000000\n",
      "50%         95.000000\n",
      "75%        198.000000\n",
      "max       1580.000000\n",
      "Name: days_listed, dtype: float64\n"
     ]
    },
    {
     "data": {
      "text/plain": [
       "<matplotlib.axes._subplots.AxesSubplot at 0x7f8bc445e650>"
      ]
     },
     "execution_count": 21,
     "metadata": {},
     "output_type": "execute_result"
    },
    {
     "data": {
      "image/png": "[encoded data removed]",
      "text/plain": [
       "<Figure size 432x288 with 1 Axes>"
      ]
     },
     "metadata": {
      "needs_background": "light"
     },
     "output_type": "display_data"
    }
   ],
   "source": [
    "print('Mean value:', df['days_listed'].mean())\n",
    "print('Median value:', df['days_listed'].median())\n",
    "print()\n",
    "print('Description:')\n",
    "print(df['days_listed'].describe())\n",
    "\n",
    "df['days_listed'].hist(bins=50, range=(0,1000))"
   ]
  },
  {
   "cell_type": "markdown",
   "metadata": {},
   "source": [
    "#### What makes a sale extra quick or extra long?\n",
    "- Based on the histogram, there is not a clean Poisson distribution due to the spike in days listed around 200.\n",
    "- Looking at some of the descriptive statistics I would say that a sales would be considered extra quick if it is listed for 30 days or less (about 2/3 of the first quartile), and a sale is considered extra long if it takes more than 250 days."
   ]
  },
  {
   "cell_type": "markdown",
   "metadata": {},
   "source": [
    "#### Outlier Removal"
   ]
  },
  {
   "cell_type": "code",
   "execution_count": 22,
   "metadata": {},
   "outputs": [
    {
     "name": "stdout",
     "output_type": "stream",
     "text": [
      "Top Whisker: 427.5\n"
     ]
    },
    {
     "data": {
      "image/png": "[encoded data removed]",
      "text/plain": [
       "<Figure size 432x288 with 1 Axes>"
      ]
     },
     "metadata": {
      "needs_background": "light"
     },
     "output_type": "display_data"
    }
   ],
   "source": [
    "cols = list(df.columns)\n",
    "dl = pd.DataFrame(df['days_listed'])\n",
    "dl.boxplot()\n",
    "print('Top Whisker:', (1.5*(198-45))+198) # 1.5 time the IQR added to the 3rd Quartile"
   ]
  },
  {
   "cell_type": "code",
   "execution_count": 23,
   "metadata": {},
   "outputs": [
    {
     "name": "stdout",
     "output_type": "stream",
     "text": [
      "23650\n",
      "2345\n",
      "Percent Outliers: 9.92%\n"
     ]
    }
   ],
   "source": [
    "og_count = df['days_listed'].count()\n",
    "count_over_428 = df[df['days_listed']>=428]['days_listed'].count()\n",
    "print(og_count)\n",
    "print(count_over_428)\n",
    "print('Percent Outliers: {:.2f}%'.format((count_over_428 / og_count)*100))"
   ]
  },
  {
   "cell_type": "code",
   "execution_count": 24,
   "metadata": {},
   "outputs": [
    {
     "data": {
      "text/plain": [
       "21305"
      ]
     },
     "execution_count": 24,
     "metadata": {},
     "output_type": "execute_result"
    }
   ],
   "source": [
    "df2 = df[df['days_listed']<428]\n",
    "df2['days_listed'].count()"
   ]
  },
  {
   "cell_type": "markdown",
   "metadata": {},
   "source": [
    "#### What Factors impact Price using Scatterplots and Correlation:\n",
    "- Total Sq Area\n",
    "- number ofrooms\n",
    "- floor\n",
    "- proximity to city center\n",
    "- date (month, day, year)\n"
   ]
  },
  {
   "cell_type": "code",
   "execution_count": 25,
   "metadata": {},
   "outputs": [
    {
     "data": {
      "text/plain": [
       "Index(['date_posted', 'days_listed', 'last_price', 'bedrooms', 'kitchen_area',\n",
       "       'living_area', 'total_area', 'balconies', 'ceiling_height',\n",
       "       'floors_total', 'floor', 'total_images', 'bike_parking', 'is_studio',\n",
       "       'is_open_plan', 'locality_name', 'airport_dist', 'city_center_dist',\n",
       "       'park_dist', 'parks_within_3000', 'pond_dist', 'ponds_within_3000',\n",
       "       'ppsm', 'weekday_posted', 'month_posted', 'year_posted', 'floor_group',\n",
       "       'living_ratio', 'kitchen_ratio'],\n",
       "      dtype='object')"
      ]
     },
     "execution_count": 25,
     "metadata": {},
     "output_type": "execute_result"
    }
   ],
   "source": [
    "df2.columns"
   ]
  },
  {
   "cell_type": "code",
   "execution_count": 26,
   "metadata": {},
   "outputs": [
    {
     "name": "stdout",
     "output_type": "stream",
     "text": [
      "Correlation: 64.16%\n"
     ]
    },
    {
     "data": {
      "image/png": "[encoded data removed]",
      "text/plain": [
       "<Figure size 432x288 with 1 Axes>"
      ]
     },
     "metadata": {
      "needs_background": "light"
     },
     "output_type": "display_data"
    }
   ],
   "source": [
    "df2.plot(x='total_area', y='last_price', kind='scatter', alpha=.3)\n",
    "print('Correlation: {:.2f}%'.format(df2['last_price'].corr(df2['total_area'])*100))"
   ]
  },
  {
   "cell_type": "code",
   "execution_count": 27,
   "metadata": {},
   "outputs": [
    {
     "name": "stdout",
     "output_type": "stream",
     "text": [
      "Correlation: 35.28%\n"
     ]
    },
    {
     "data": {
      "image/png": "[encoded data removed]",
      "text/plain": [
       "<Figure size 432x288 with 1 Axes>"
      ]
     },
     "metadata": {
      "needs_background": "light"
     },
     "output_type": "display_data"
    }
   ],
   "source": [
    "df2.plot(x='bedrooms', y='last_price', kind='scatter', alpha=.3)\n",
    "print('Correlation: {:.2f}%'.format(df2['last_price'].corr(df2['bedrooms'])*100))"
   ]
  },
  {
   "cell_type": "code",
   "execution_count": 28,
   "metadata": {},
   "outputs": [
    {
     "name": "stdout",
     "output_type": "stream",
     "text": [
      "Correlation: 3.09%\n"
     ]
    },
    {
     "data": {
      "image/png": "[encoded data removed]",
      "text/plain": [
       "<Figure size 432x288 with 1 Axes>"
      ]
     },
     "metadata": {
      "needs_background": "light"
     },
     "output_type": "display_data"
    }
   ],
   "source": [
    "df2.plot(x='floor', y='last_price', kind='scatter', alpha=.3)\n",
    "print('Correlation: {:.2f}%'.format(df2['last_price'].corr(df2['floor'])*100))"
   ]
  },
  {
   "cell_type": "code",
   "execution_count": 29,
   "metadata": {},
   "outputs": [
    {
     "name": "stdout",
     "output_type": "stream",
     "text": [
      "Correlation: -18.12%\n"
     ]
    },
    {
     "data": {
      "image/png": "[encoded data removed]",
      "text/plain": [
       "<Figure size 432x288 with 1 Axes>"
      ]
     },
     "metadata": {
      "needs_background": "light"
     },
     "output_type": "display_data"
    }
   ],
   "source": [
    "df2.plot(x='city_center_dist', y='last_price', kind='scatter', alpha=.3)\n",
    "print('Correlation: {:.2f}%'.format(df2['last_price'].corr(df2['city_center_dist'])*100))"
   ]
  },
  {
   "cell_type": "code",
   "execution_count": 30,
   "metadata": {},
   "outputs": [
    {
     "name": "stdout",
     "output_type": "stream",
     "text": [
      "Correlation by weekday: 0.03%\n",
      "Correlation by month: -0.03%\n",
      "Correlation by year: -2.01%\n"
     ]
    },
    {
     "data": {
      "image/png": "[encoded data removed]",
      "text/plain": [
       "<Figure size 432x288 with 1 Axes>"
      ]
     },
     "metadata": {
      "needs_background": "light"
     },
     "output_type": "display_data"
    },
    {
     "data": {
      "image/png": "[encoded data removed]",
      "text/plain": [
       "<Figure size 432x288 with 1 Axes>"
      ]
     },
     "metadata": {
      "needs_background": "light"
     },
     "output_type": "display_data"
    },
    {
     "data": {
      "image/png": "[encoded data removed]",
      "text/plain": [
       "<Figure size 432x288 with 1 Axes>"
      ]
     },
     "metadata": {
      "needs_background": "light"
     },
     "output_type": "display_data"
    }
   ],
   "source": [
    "df2.plot(x='weekday_posted', y='last_price', kind='scatter')\n",
    "df2.plot(x='month_posted', y='last_price', kind='scatter')\n",
    "df2.plot(x='year_posted', y='last_price', kind='scatter')\n",
    "\n",
    "print('Correlation by weekday: {:.2f}%'.format(df2['last_price'].corr(df2['weekday_posted'])*100))\n",
    "print('Correlation by month: {:.2f}%'.format(df2['last_price'].corr(df2['month_posted'])*100))\n",
    "print('Correlation by year: {:.2f}%'.format(df2['last_price'].corr(df2['year_posted'])*100))"
   ]
  },
  {
   "cell_type": "markdown",
   "metadata": {},
   "source": [
    "### Correlation Takeaways:\n",
    "- Total Sq Area\n",
    "    - 64.16% correlation\n",
    "    - Highest positive impact on price which seems to make sense since one would pay more for more space\n",
    "    \n",
    "- Number of rooms\n",
    "    - 35.28% correlation\n",
    "    - Second highest correlation, but not to strong, related to total area since more rooms means more space\n",
    "    \n",
    "- Floor\n",
    "    - 3.09% correlation\n",
    "    - very low impact here\n",
    "    \n",
    "- Proximity to city center\n",
    "    - -19.21% correlation\n",
    "    - The strongest negative correlation, but still only around -20%, due to the fact that closer to the center is more desirable so a smaller number (lower distance) will cost more for convenience to the center\n",
    "    \n",
    "- Weekday\n",
    "    - 0.03% correlation\n",
    "    - No significant impact\n",
    "- Month\n",
    "    - -0.03% correlation\n",
    "    - No significant impact, but based on scatter plot, there a minor peaks in April and October\n",
    "        \n",
    "- Year\n",
    "    - -2.01% correlation\n",
    "    - very low impact, but based on scatter plot prices were skewed slightly higher in 2017"
   ]
  },
  {
   "cell_type": "markdown",
   "metadata": {},
   "source": [
    "#### Top 10 Localities with the most Listings:\n",
    "- Average price per Sq Meter in each loacality\n",
    "- Which have the highest prices and which have the lowest"
   ]
  },
  {
   "cell_type": "code",
   "execution_count": 31,
   "metadata": {},
   "outputs": [
    {
     "data": {
      "text/plain": [
       "Saint Petersburg     14105\n",
       "Murino village         511\n",
       "Shushary village       407\n",
       "Vsevolozhsk            356\n",
       "Pushkin                334\n",
       "Kolpino                316\n",
       "Pargolovo village      301\n",
       "Gatchina               273\n",
       "Kudrovo village        263\n",
       "Vyborg                 214\n",
       "Name: locality_name, dtype: int64"
      ]
     },
     "execution_count": 31,
     "metadata": {},
     "output_type": "execute_result"
    }
   ],
   "source": [
    "top_10_local = df2['locality_name'].value_counts()[:10].index.tolist()\n",
    "df2['locality_name'].value_counts()[:10]"
   ]
  },
  {
   "cell_type": "code",
   "execution_count": 32,
   "metadata": {},
   "outputs": [
    {
     "data": {
      "text/html": [
       "<div>\n",
       "<style scoped>\n",
       "    .dataframe tbody tr th:only-of-type {\n",
       "        vertical-align: middle;\n",
       "    }\n",
       "\n",
       "    .dataframe tbody tr th {\n",
       "        vertical-align: top;\n",
       "    }\n",
       "\n",
       "    .dataframe thead th {\n",
       "        text-align: right;\n",
       "    }\n",
       "</style>\n",
       "<table border=\"1\" class=\"dataframe\">\n",
       "  <thead>\n",
       "    <tr style=\"text-align: right;\">\n",
       "      <th></th>\n",
       "      <th>ppsm</th>\n",
       "    </tr>\n",
       "    <tr>\n",
       "      <th>locality_name</th>\n",
       "      <th></th>\n",
       "    </tr>\n",
       "  </thead>\n",
       "  <tbody>\n",
       "    <tr>\n",
       "      <th>Vyborg</th>\n",
       "      <td>1164.579439</td>\n",
       "    </tr>\n",
       "    <tr>\n",
       "      <th>Vsevolozhsk</th>\n",
       "      <td>1378.705056</td>\n",
       "    </tr>\n",
       "    <tr>\n",
       "      <th>Gatchina</th>\n",
       "      <td>1379.560440</td>\n",
       "    </tr>\n",
       "    <tr>\n",
       "      <th>Kolpino</th>\n",
       "      <td>1507.183544</td>\n",
       "    </tr>\n",
       "    <tr>\n",
       "      <th>Shushary village</th>\n",
       "      <td>1574.800983</td>\n",
       "    </tr>\n",
       "    <tr>\n",
       "      <th>Murino village</th>\n",
       "      <td>1718.450098</td>\n",
       "    </tr>\n",
       "    <tr>\n",
       "      <th>Pargolovo village</th>\n",
       "      <td>1793.378738</td>\n",
       "    </tr>\n",
       "    <tr>\n",
       "      <th>Kudrovo village</th>\n",
       "      <td>1853.460076</td>\n",
       "    </tr>\n",
       "    <tr>\n",
       "      <th>Pushkin</th>\n",
       "      <td>2056.745509</td>\n",
       "    </tr>\n",
       "    <tr>\n",
       "      <th>Saint Petersburg</th>\n",
       "      <td>2286.419780</td>\n",
       "    </tr>\n",
       "  </tbody>\n",
       "</table>\n",
       "</div>"
      ],
      "text/plain": [
       "                          ppsm\n",
       "locality_name                 \n",
       "Vyborg             1164.579439\n",
       "Vsevolozhsk        1378.705056\n",
       "Gatchina           1379.560440\n",
       "Kolpino            1507.183544\n",
       "Shushary village   1574.800983\n",
       "Murino village     1718.450098\n",
       "Pargolovo village  1793.378738\n",
       "Kudrovo village    1853.460076\n",
       "Pushkin            2056.745509\n",
       "Saint Petersburg   2286.419780"
      ]
     },
     "execution_count": 32,
     "metadata": {},
     "output_type": "execute_result"
    }
   ],
   "source": [
    "top_local = df2.query('locality_name in @top_10_local')\n",
    "top_local.pivot_table(index='locality_name', values='ppsm', aggfunc='mean').sort_values(by='ppsm')"
   ]
  },
  {
   "cell_type": "markdown",
   "metadata": {},
   "source": [
    "#### Average price per square meter (ppsm) seen in pivot table above sorted from lowest average to highest\n",
    "#### Vyborg has the lowest average price while Saint Petersburg has the highest"
   ]
  },
  {
   "cell_type": "markdown",
   "metadata": {},
   "source": [
    "#### In St Petersburg, Determine which area is the city center\n",
    "- Create column with distance to city center\n",
    "- Calculate the avg price per km and plot graph to display effect\n",
    "- Where the graph shifts significantly is the border to the center"
   ]
  },
  {
   "cell_type": "code",
   "execution_count": 33,
   "metadata": {},
   "outputs": [
    {
     "data": {
      "text/html": [
       "<div>\n",
       "<style scoped>\n",
       "    .dataframe tbody tr th:only-of-type {\n",
       "        vertical-align: middle;\n",
       "    }\n",
       "\n",
       "    .dataframe tbody tr th {\n",
       "        vertical-align: top;\n",
       "    }\n",
       "\n",
       "    .dataframe thead th {\n",
       "        text-align: right;\n",
       "    }\n",
       "</style>\n",
       "<table border=\"1\" class=\"dataframe\">\n",
       "  <thead>\n",
       "    <tr style=\"text-align: right;\">\n",
       "      <th></th>\n",
       "      <th>last_price</th>\n",
       "    </tr>\n",
       "    <tr>\n",
       "      <th>ccd_km</th>\n",
       "      <th></th>\n",
       "    </tr>\n",
       "  </thead>\n",
       "  <tbody>\n",
       "    <tr>\n",
       "      <th>0.181</th>\n",
       "      <td>621980.0</td>\n",
       "    </tr>\n",
       "    <tr>\n",
       "      <th>0.208</th>\n",
       "      <td>116000.0</td>\n",
       "    </tr>\n",
       "    <tr>\n",
       "      <th>0.215</th>\n",
       "      <td>219800.0</td>\n",
       "    </tr>\n",
       "    <tr>\n",
       "      <th>0.287</th>\n",
       "      <td>191800.0</td>\n",
       "    </tr>\n",
       "    <tr>\n",
       "      <th>0.291</th>\n",
       "      <td>230000.0</td>\n",
       "    </tr>\n",
       "    <tr>\n",
       "      <th>...</th>\n",
       "      <td>...</td>\n",
       "    </tr>\n",
       "    <tr>\n",
       "      <th>64.857</th>\n",
       "      <td>73000.0</td>\n",
       "    </tr>\n",
       "    <tr>\n",
       "      <th>65.105</th>\n",
       "      <td>66000.0</td>\n",
       "    </tr>\n",
       "    <tr>\n",
       "      <th>65.764</th>\n",
       "      <td>80000.0</td>\n",
       "    </tr>\n",
       "    <tr>\n",
       "      <th>65.952</th>\n",
       "      <td>72000.0</td>\n",
       "    </tr>\n",
       "    <tr>\n",
       "      <th>65.968</th>\n",
       "      <td>84000.0</td>\n",
       "    </tr>\n",
       "  </tbody>\n",
       "</table>\n",
       "<p>7627 rows × 1 columns</p>\n",
       "</div>"
      ],
      "text/plain": [
       "        last_price\n",
       "ccd_km            \n",
       "0.181     621980.0\n",
       "0.208     116000.0\n",
       "0.215     219800.0\n",
       "0.287     191800.0\n",
       "0.291     230000.0\n",
       "...            ...\n",
       "64.857     73000.0\n",
       "65.105     66000.0\n",
       "65.764     80000.0\n",
       "65.952     72000.0\n",
       "65.968     84000.0\n",
       "\n",
       "[7627 rows x 1 columns]"
      ]
     },
     "execution_count": 33,
     "metadata": {},
     "output_type": "execute_result"
    }
   ],
   "source": [
    "df['ccd_km'] = df['city_center_dist'] / 1000\n",
    "\n",
    "ppkm = df.groupby('ccd_km')['last_price'].mean()\n",
    "pd.DataFrame(ppkm)\n",
    "# can accomplish same thing with below pivot_table\n",
    "#df.pivot_table(index='ccd_km', values='last_price', aggfunc='mean')"
   ]
  },
  {
   "cell_type": "code",
   "execution_count": 34,
   "metadata": {},
   "outputs": [
    {
     "data": {
      "text/plain": [
       "<matplotlib.axes._subplots.AxesSubplot at 0x7f8bc4cc8d50>"
      ]
     },
     "execution_count": 34,
     "metadata": {},
     "output_type": "execute_result"
    },
    {
     "data": {
      "image/png": "[encoded data removed]",
      "text/plain": [
       "<Figure size 432x288 with 1 Axes>"
      ]
     },
     "metadata": {
      "needs_background": "light"
     },
     "output_type": "display_data"
    }
   ],
   "source": [
    "df.plot(kind='scatter', x='ccd_km', y='last_price')"
   ]
  },
  {
   "cell_type": "markdown",
   "metadata": {},
   "source": [
    "#### Based on the graph, it looks like the significant shift occurs around 8 km, so we will consider anything within that range in the city center"
   ]
  },
  {
   "cell_type": "markdown",
   "metadata": {},
   "source": [
    "#### In City Center:\n",
    "- Examine correlations with total area, price, number of rooms, ceiling height"
   ]
  },
  {
   "cell_type": "code",
   "execution_count": 35,
   "metadata": {},
   "outputs": [
    {
     "data": {
      "text/html": [
       "<div>\n",
       "<style scoped>\n",
       "    .dataframe tbody tr th:only-of-type {\n",
       "        vertical-align: middle;\n",
       "    }\n",
       "\n",
       "    .dataframe tbody tr th {\n",
       "        vertical-align: top;\n",
       "    }\n",
       "\n",
       "    .dataframe thead th {\n",
       "        text-align: right;\n",
       "    }\n",
       "</style>\n",
       "<table border=\"1\" class=\"dataframe\">\n",
       "  <thead>\n",
       "    <tr style=\"text-align: right;\">\n",
       "      <th></th>\n",
       "      <th>total_area</th>\n",
       "      <th>last_price</th>\n",
       "      <th>bedrooms</th>\n",
       "      <th>ceiling_height</th>\n",
       "    </tr>\n",
       "  </thead>\n",
       "  <tbody>\n",
       "    <tr>\n",
       "      <th>total_area</th>\n",
       "      <td>1.000000</td>\n",
       "      <td>0.636407</td>\n",
       "      <td>0.737234</td>\n",
       "      <td>0.129019</td>\n",
       "    </tr>\n",
       "    <tr>\n",
       "      <th>last_price</th>\n",
       "      <td>0.636407</td>\n",
       "      <td>1.000000</td>\n",
       "      <td>0.333342</td>\n",
       "      <td>0.070637</td>\n",
       "    </tr>\n",
       "    <tr>\n",
       "      <th>bedrooms</th>\n",
       "      <td>0.737234</td>\n",
       "      <td>0.333342</td>\n",
       "      <td>1.000000</td>\n",
       "      <td>0.101393</td>\n",
       "    </tr>\n",
       "    <tr>\n",
       "      <th>ceiling_height</th>\n",
       "      <td>0.129019</td>\n",
       "      <td>0.070637</td>\n",
       "      <td>0.101393</td>\n",
       "      <td>1.000000</td>\n",
       "    </tr>\n",
       "  </tbody>\n",
       "</table>\n",
       "</div>"
      ],
      "text/plain": [
       "                total_area  last_price  bedrooms  ceiling_height\n",
       "total_area        1.000000    0.636407  0.737234        0.129019\n",
       "last_price        0.636407    1.000000  0.333342        0.070637\n",
       "bedrooms          0.737234    0.333342  1.000000        0.101393\n",
       "ceiling_height    0.129019    0.070637  0.101393        1.000000"
      ]
     },
     "execution_count": 35,
     "metadata": {},
     "output_type": "execute_result"
    },
    {
     "data": {
      "image/png": "[encoded data removed]",
      "text/plain": [
       "<Figure size 864x864 with 16 Axes>"
      ]
     },
     "metadata": {
      "needs_background": "light"
     },
     "output_type": "display_data"
    }
   ],
   "source": [
    "city_center = df.query('city_center_dist < 8000')\n",
    "cc_vars = city_center[['total_area', 'last_price', 'bedrooms', 'ceiling_height']]\n",
    "\n",
    "pd.plotting.scatter_matrix(cc_vars, figsize=(12, 12))\n",
    "cc_vars.corr()"
   ]
  },
  {
   "cell_type": "code",
   "execution_count": 36,
   "metadata": {},
   "outputs": [
    {
     "data": {
      "text/plain": [
       "0.7587447699123252"
      ]
     },
     "execution_count": 36,
     "metadata": {},
     "output_type": "execute_result"
    }
   ],
   "source": [
    "df['total_area'].corr(df['bedrooms'])"
   ]
  },
  {
   "cell_type": "markdown",
   "metadata": {},
   "source": [
    "#### How do the following affect price in City Center:\n",
    "- number of rooms\n",
    "- floor number\n",
    "- distance to center\n",
    "- publication date"
   ]
  },
  {
   "cell_type": "code",
   "execution_count": 37,
   "metadata": {},
   "outputs": [
    {
     "name": "stdout",
     "output_type": "stream",
     "text": [
      "City Center bedrooms correlation: 33.33%\n",
      "  Full bedrooms correlation: 35.28%\n",
      "Difference: -1.94\n",
      "\n",
      "City Center floor correlation: 12.57%\n",
      "  Full floor correlation: 3.09%\n",
      "Difference: 9.48\n",
      "\n",
      "City Center city_center_dist correlation: -4.83%\n",
      "  Full city_center_dist correlation: -18.12%\n",
      "Difference: 13.29\n",
      "\n",
      "City Center weekday_posted correlation: 2.34%\n",
      "  Full weekday_posted correlation: 0.03%\n",
      "Difference: 2.30\n",
      "\n",
      "City Center month_posted correlation: -0.61%\n",
      "  Full month_posted correlation: -0.03%\n",
      "Difference: -0.58\n",
      "\n",
      "City Center year_posted correlation: -4.32%\n",
      "  Full year_posted correlation: -2.01%\n",
      "Difference: -2.31\n",
      "\n"
     ]
    }
   ],
   "source": [
    "l = ['bedrooms', 'floor', 'city_center_dist', 'weekday_posted', 'month_posted', 'year_posted']\n",
    "for x in l:\n",
    "    print('City Center {} correlation: {:.2f}%'.format(x, city_center['last_price'].corr(city_center[x])*100))\n",
    "    print('  Full {} correlation: {:.2f}%'.format(x, df2['last_price'].corr(df2[x])*100))\n",
    "    print('Difference: {:.2f}'.format((city_center['last_price'].corr(city_center[x])*100)-(df2['last_price'].corr(df2[x])*100)))\n",
    "    print()"
   ]
  },
  {
   "cell_type": "markdown",
   "metadata": {},
   "source": [
    "#### Conclusions on the City Center Apartments vs all the rest\n",
    "- When specifically looking at city center apartments, most of these variables have stronger correlations compared to looking at all apartments inside and out of the city center\n",
    "- The only exceptions are with the following variables:\n",
    "    - Number of bedrooms: using all aparments, the impact on price is higher but not by much\n",
    "    - City Center Distance: This makes sense, since being in the city center will have a lower impact on price. This also has the biggest difference in correlation"
   ]
  },
  {
   "cell_type": "markdown",
   "metadata": {},
   "source": [
    "## Part 5) Conclusion"
   ]
  },
  {
   "cell_type": "markdown",
   "metadata": {},
   "source": [
    "Overall, this data shows many factors of an apartment listed with Yandex.Realty. What I have found is that many of these factors have an impact on price, but most often not a very strong impact. The top contributors to price are total_area, bedrooms, and city_center_dist. Each of these are factors that make a listing more desirable. It is also important to note that total_area and bedrooms have a correlation of about 76%, meaning that they often rise and fall together. When you think about it, if an apartment has more bedrooms, then it is bigger, and if an aparment has a large area, then it probably has more bedrooms. The city_center_dist factor is also important, but less so, compared to price since it is again more desirable to live closer to the center of a city."
   ]
  }
 ],
 "metadata": {
  "kernelspec": {
   "display_name": "Python 3",
   "language": "python",
   "name": "python3"
  },
  "language_info": {
   "codemirror_mode": {
    "name": "ipython",
    "version": 3
   },
   "file_extension": ".py",
   "mimetype": "text/x-python",
   "name": "python",
   "nbconvert_exporter": "python",
   "pygments_lexer": "ipython3",
   "version": "3.7.6"
  }
 },
 "nbformat": 4,
 "nbformat_minor": 4
}
